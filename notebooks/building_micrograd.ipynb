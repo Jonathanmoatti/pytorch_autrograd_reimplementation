{
 "cells": [
  {
   "cell_type": "code",
   "execution_count": 1,
   "metadata": {},
   "outputs": [],
   "source": [
    "import sys\n",
    "# module_path = \"/home/john-ubu/dev/minigrad\"\n",
    "module_path  =\"C:\\\\Users\\\\mmonn\\\\Desktop\\\\torch\\\\pytorch_autrograd_reimplementation\"\n",
    "# Check if the module path is already in sys.path\n",
    "if module_path not in sys.path:\n",
    "    # Add the module path to sys.path\n",
    "    sys.path.append(module_path)"
   ]
  },
  {
   "cell_type": "code",
   "execution_count": 2,
   "metadata": {},
   "outputs": [],
   "source": [
    "import math\n",
    "import matplotlib.pyplot as plt\n",
    "import numpy as np\n",
    "import torch\n",
    "from ipywidgets import interact\n",
    "from functools import partial\n",
    "from src.utils import retain\n",
    "%matplotlib inline"
   ]
  },
  {
   "cell_type": "code",
   "execution_count": 3,
   "metadata": {},
   "outputs": [],
   "source": [
    "# define our quadratic function\n",
    "def f(x):\n",
    "    return 3*x**2 - 4*x + 5"
   ]
  },
  {
   "cell_type": "code",
   "execution_count": 4,
   "metadata": {},
   "outputs": [
    {
     "data": {
      "text/plain": [
       "4"
      ]
     },
     "execution_count": 4,
     "metadata": {},
     "output_type": "execute_result"
    }
   ],
   "source": [
    "# verification\n",
    "assert f(1) == 3*1**2 - 4*1 + 5\n",
    "f(1)"
   ]
  },
  {
   "cell_type": "code",
   "execution_count": 5,
   "metadata": {},
   "outputs": [
    {
     "data": {
      "image/png": "[encoded data removed]",
      "text/plain": [
       "<Figure size 432x288 with 1 Axes>"
      ]
     },
     "metadata": {
      "needs_background": "light"
     },
     "output_type": "display_data"
    }
   ],
   "source": [
    "# plot the function\n",
    "xs = np.arange(-5, 5, 0.25)\n",
    "ys = f(xs)\n",
    "plt.plot(xs, ys)\n",
    "plt.show()"
   ]
  },
  {
   "cell_type": "markdown",
   "metadata": {},
   "source": [
    "## Partial derivative w.r.t single variable"
   ]
  },
  {
   "cell_type": "markdown",
   "metadata": {},
   "source": [
    "**definition of being differentiable**::\n",
    "$${\\displaystyle L=\\lim _{h\\to 0}{\\frac {f(x+h)-f(x)}{h}}}$$\n",
    "\n",
    "In other words,  it is the limit as `h` goes to 0 of\n",
    "$${\\frac {f(x+h)-f(x)}{h}}$$\n",
    "\n",
    "**RQ**: What it's saying is if you're at some point `x` \n",
    "that you're interested in, and if you slightly increase it by\n",
    "small number `h`, how does the function respond and with what sensitivity does it respond. So what we really want to know is what is the slope at that point; does the function go up or does it go down? and by how much? \n",
    "\n",
    "So we can basically evaluate the derivative here numerically by taking a very small `h`. Of course the definition would ask us to take an `h` value of 0 but we're just going to pick a very small `h`, let's say     0.001, and let's say we're interested in point 3.0. \n",
    "We look at `f(x)` for `x=3` and see the value is `20`. so if we nudge `x` by a very small amount `h`, how will the function respond?"
   ]
  },
  {
   "cell_type": "code",
   "execution_count": 44,
   "metadata": {},
   "outputs": [
    {
     "name": "stdout",
     "output_type": "stream",
     "text": [
      "The slope for f(x) at x = 3 is 14.000\n"
     ]
    }
   ],
   "source": [
    "# check derivate at x = 3 --> nugding up leads to increase in value\n",
    "h = 0.0001\n",
    "x = 3\n",
    "slope = (f(x+h)-f(x))/h\n",
    "\n",
    "print(f\"The slope for f(x) at x = 3 is {slope :.3f}\")"
   ]
  },
  {
   "cell_type": "code",
   "execution_count": 45,
   "metadata": {},
   "outputs": [
    {
     "name": "stdout",
     "output_type": "stream",
     "text": [
      "The slope for f(x) at x = -3 is -22.000\n"
     ]
    }
   ],
   "source": [
    "# check derivate at x = -3 --> nugding up leads to decrease in value\n",
    "h = 0.0001\n",
    "x = -3\n",
    "slope = (f(x+h)-f(x))/h\n",
    "\n",
    "print(f\"The slope for f(x) at x = -3 is {slope:.3f}\")"
   ]
  },
  {
   "cell_type": "code",
   "execution_count": 46,
   "metadata": {},
   "outputs": [
    {
     "name": "stdout",
     "output_type": "stream",
     "text": [
      "The slope for f(x) at x = 2/3 is 0.000\n"
     ]
    }
   ],
   "source": [
    "# check derivate at x = 2/3 --> nugding up leads to no change in value \n",
    "h = 0.0001\n",
    "x = 2/3\n",
    "slope = (f(x+h)-f(x))/h\n",
    "\n",
    "print(f\"The slope for f(x) at x = 2/3 is {slope:.3f}\")"
   ]
  },
  {
   "cell_type": "code",
   "execution_count": 47,
   "metadata": {},
   "outputs": [
    {
     "name": "stdout",
     "output_type": "stream",
     "text": [
      "The slope for f(x) at x = 3 is 14.000\n",
      "The slope for f(x) at x = -3 is -22.000\n",
      "The slope for f(x) at x = 2/3 is 0.000\n"
     ]
    }
   ],
   "source": [
    "# Double check result w/ pytorch\n",
    "# pour differentes valeures de x\n",
    "x = torch.tensor([3.0,-3.0,2/3], requires_grad=True)\n",
    "# pour une fonction f donnee  \n",
    "y = 3*x**2 - 4*x + 5\n",
    "\n",
    "gradients = torch.autograd.grad(y, x, create_graph=True, retain_graph=True, grad_outputs=torch.ones_like(x))\n",
    "x1, x2, x3 = gradients[0]\n",
    "print(f\"The slope for f(x) at x = 3 is {x1:.3f}\")\n",
    "print(f\"The slope for f(x) at x = -3 is {x2:.3f}\")\n",
    "print(f\"The slope for f(x) at x = 2/3 is {x3:.3f}\")"
   ]
  },
  {
   "cell_type": "markdown",
   "metadata": {},
   "source": [
    "# Partial derivative w.r.t multiple variables"
   ]
  },
  {
   "cell_type": "markdown",
   "metadata": {},
   "source": [
    "In order to evaluate this derivative we're going to get a bit hacky here:\n",
    "\n",
    " We're going to again have a very small value of `h` and then we're going to fix the inputs at some values that we're interested in (`a`,`b` and `c`).\n",
    "\n",
    "After that we're going to be evaluating the the derivative of `d` with respect to `a`, `b` and `c` at that point. \n",
    "\n",
    "1. First we'll look at the derivative of `d` with respect to `a`; so we'll take `a`and we'll bump it by `h` and compare it to d2 which is the exact same function without the bump."
   ]
  },
  {
   "cell_type": "code",
   "execution_count": 48,
   "metadata": {},
   "outputs": [
    {
     "name": "stdout",
     "output_type": "stream",
     "text": [
      "4.0\n"
     ]
    }
   ],
   "source": [
    "# our bump\n",
    "h = 0.0001\n",
    "\n",
    "# inputs at which we'll evaluate the derivative of d with respect to a, b and c.\n",
    "a = 2.0\n",
    "b = -3.0\n",
    "c = 10.0\n",
    "d = a*b + c\n",
    "print(d)"
   ]
  },
  {
   "cell_type": "code",
   "execution_count": 49,
   "metadata": {},
   "outputs": [
    {
     "name": "stdout",
     "output_type": "stream",
     "text": [
      "d1 : 4.0\n",
      "d2 : 3.999699999999999\n",
      "slope (gradient) with respect to a: -3.000\n"
     ]
    }
   ],
   "source": [
    "# equation for d1 (adding h to a), so partial derivative of d with respect to a\n",
    "d1 = a*b + c\n",
    "a += h\n",
    "\n",
    "# equation for d2 (without adding h to a)\n",
    "d2 = a*b + c\n",
    "\n",
    "print(f\"d1 : {d1}\")\n",
    "print(f\"d2 : {d2}\")\n",
    "# difference between d2 and d1, normalized by h, with respect to a\n",
    "print(f\"slope (gradient) with respect to a: {(d2-d1)/h:.3f}\")"
   ]
  },
  {
   "cell_type": "code",
   "execution_count": 50,
   "metadata": {},
   "outputs": [
    {
     "name": "stdout",
     "output_type": "stream",
     "text": [
      "d1 : 3.999699999999999\n",
      "d2 : 3.99990001\n",
      "slope (gradient) with respect to b: 2.000\n"
     ]
    }
   ],
   "source": [
    "# equation for d1 (adding h to a), so partial derivative of d with respect to b\n",
    "d1 = a*b + c\n",
    "b += h\n",
    "\n",
    "# equation for d2 (without adding h to b)\n",
    "d2 = a*b + c\n",
    "\n",
    "print(f\"d1 : {d1}\")\n",
    "print(f\"d2 : {d2}\")\n",
    "# difference between d2 and d1, normalized by h, with respect to b\n",
    "print(f\"slope (gradient) with respect to b: {(d2-d1)/h:.3f}\")"
   ]
  },
  {
   "cell_type": "code",
   "execution_count": 51,
   "metadata": {},
   "outputs": [
    {
     "name": "stdout",
     "output_type": "stream",
     "text": [
      "d1 : 3.99990001\n",
      "d2 : 4.00000001\n",
      "slope  (gradient) with respect to c : 1.000\n"
     ]
    }
   ],
   "source": [
    "# equation for d1 (adding h to a), so partial derivative of d with respect to c\n",
    "d1 = a*b + c\n",
    "c += h\n",
    "\n",
    "# equation for d2 (without adding h to c)\n",
    "d2 = a*b + c\n",
    "\n",
    "print(f\"d1 : {d1}\")\n",
    "print(f\"d2 : {d2}\")\n",
    "# difference between d2 and d1, normalized by h, with respect to c\n",
    "print(f\"slope  (gradient) with respect to c : {(d2-d1)/h:.3f}\")"
   ]
  },
  {
   "cell_type": "code",
   "execution_count": 52,
   "metadata": {},
   "outputs": [
    {
     "name": "stdout",
     "output_type": "stream",
     "text": [
      "a.grad : -3.0 || b.grad : 2.0 || c.grad : 1.0\n"
     ]
    }
   ],
   "source": [
    "# Double check result w/ pytorch\n",
    "a,b,c = torch.tensor([2.0,-3.0,10.0], requires_grad=True)\n",
    "y = a*b + c\n",
    "retain(a,b,c)\n",
    "y.backward()\n",
    "print(f\"a.grad : {a.grad} || b.grad : {b.grad} || c.grad : {c.grad}\")"
   ]
  },
  {
   "cell_type": "markdown",
   "metadata": {},
   "source": [
    "However, we can't write out neural networks as mathematical expressions, they'd be monstrous, so instead what we're going to do is build a `Value Object`."
   ]
  },
  {
   "cell_type": "code",
   "execution_count": 53,
   "metadata": {},
   "outputs": [],
   "source": [
    "class Value:\n",
    "    def __init__(self, data):\n",
    "        self.data = data\n",
    "    \n",
    "    #  decide of the output string representation of data  \n",
    "    # in human readable format \n",
    "    def __repr__(self) -> str:\n",
    "        return f\"Value(data={self.data})\""
   ]
  },
  {
   "cell_type": "code",
   "execution_count": 54,
   "metadata": {},
   "outputs": [
    {
     "data": {
      "text/plain": [
       "Value(data=2.0)"
      ]
     },
     "execution_count": 54,
     "metadata": {},
     "output_type": "execute_result"
    }
   ],
   "source": [
    "a = Value(2.0)\n",
    "a"
   ]
  },
  {
   "cell_type": "code",
   "execution_count": 55,
   "metadata": {},
   "outputs": [
    {
     "name": "stdout",
     "output_type": "stream",
     "text": [
      "unsupported operand type(s) for +: 'Value' and 'Value'\n",
      "We have not implemented additions between two Value objects (yet!!)\n"
     ]
    }
   ],
   "source": [
    "# what if we want to add two Value objects?\n",
    "a = Value(2.0)\n",
    "b = Value(3.0)\n",
    "\n",
    "try:\n",
    "    c = a + b\n",
    "    \n",
    "except Exception as e:\n",
    "    print(e)\n",
    "    print(f\"We have not implemented additions between two Value objects (yet!!)\")\n",
    "\n",
    "else:\n",
    "    print(c)\n",
    "    print(\"We have succesfully added two Value objects!!\")"
   ]
  },
  {
   "cell_type": "markdown",
   "metadata": {},
   "source": [
    "### Adding an __add__ method"
   ]
  },
  {
   "cell_type": "code",
   "execution_count": 56,
   "metadata": {},
   "outputs": [],
   "source": [
    "class Value:\n",
    "    def __init__(self, data):\n",
    "        self.data = data\n",
    "    \n",
    "    #  decide of the output string representation of data   \n",
    "    def __repr__(self) -> str:\n",
    "        return f\"Value(data={self.data})\"\n",
    "\n",
    "    # define addition\n",
    "    def __add__(self, other):\n",
    "        # creer un nouvel object Value qui contient la somme des deux\n",
    "        summation = Value(self.data + other.data)\n",
    "        return summation"
   ]
  },
  {
   "cell_type": "code",
   "execution_count": 57,
   "metadata": {},
   "outputs": [
    {
     "name": "stdout",
     "output_type": "stream",
     "text": [
      "Value(data=5.0)\n",
      "We have succesfully added two Value objects!!\n"
     ]
    }
   ],
   "source": [
    "# Now that we have added the __add__ method, we can add two Value objects.\n",
    "a = Value(2.0)\n",
    "b = Value(3.0)\n",
    "\n",
    "try:\n",
    "    c = a+b\n",
    "except Exception as e:\n",
    "    print(e)\n",
    "    print(f\"We have not implemented additions between two Value objects (yet!!)\")\n",
    "\n",
    "else:\n",
    "    print(c)\n",
    "    print(\"We have succesfully added two Value objects!!\")"
   ]
  },
  {
   "cell_type": "markdown",
   "metadata": {},
   "source": [
    "### Adding a __mult__ method"
   ]
  },
  {
   "cell_type": "code",
   "execution_count": 58,
   "metadata": {},
   "outputs": [],
   "source": [
    "# define multiplication\n",
    "def __mul__(self, other):\n",
    "    mult = Value(self.data * other.data)\n",
    "    return mult"
   ]
  },
  {
   "cell_type": "code",
   "execution_count": 59,
   "metadata": {},
   "outputs": [],
   "source": [
    "# monkey patch it to our Value class\n",
    "Value.__mul__ = __mul__"
   ]
  },
  {
   "cell_type": "code",
   "execution_count": 60,
   "metadata": {},
   "outputs": [
    {
     "name": "stdout",
     "output_type": "stream",
     "text": [
      "Value(data=4.0)\n",
      "Value(data=4.0)\n"
     ]
    }
   ],
   "source": [
    "a = Value(2.0)\n",
    "b = Value(-3.0)\n",
    "c = Value(10.0)\n",
    "print(a*b + c)\n",
    "print((a.__mul__(b).__add__(c)))"
   ]
  },
  {
   "cell_type": "markdown",
   "metadata": {},
   "source": [
    "# Putting the computational graph together\n",
    "\n",
    "So now what we are missing is the connective tissue of this expression. We want to build a computational graph so we need to know and\n",
    "keep pointers about what values produce what other values so here for example we are going to\n",
    "introduce a new variable which we'll call children and by default it will be an empty tuple. Then we will keep a\n",
    "slightly different variable in the class which we'll call underscore prev which will be the set of children."
   ]
  },
  {
   "cell_type": "code",
   "execution_count": 61,
   "metadata": {},
   "outputs": [],
   "source": [
    "class Value :\n",
    "\n",
    "    def __init__(self, data, _children=(), _op=''):\n",
    "        self.data = data\n",
    "        # tuple turned into set for efficiency\n",
    "        self._prev = set(_children)\n",
    "        # by default _op is the empty set for leaf nodes\n",
    "        self._op = _op\n",
    "  \n",
    "    def __repr__(self) -> str:\n",
    "        return f\"Value(data={self.data})\"\n",
    "\n",
    "    def __add__(self, other):\n",
    "        # now we store the children in the new Value object to keep track of them on the computational graph\n",
    "        # the children are the initial Value objects that were used to create the new Value object\n",
    "        summation = Value(self.data + other.data, _children=(self, other), _op=\"+\")\n",
    "        return summation\n",
    "\n",
    "    def __mul__(self, other):\n",
    "        # now we store the children in the new Value object to keep track of them on the computational graph\n",
    "        # the children are the initial Value objects that were used to create the new Value object\n",
    "        mult = Value(self.data * other.data, _children=(self, other), _op=\"*\")\n",
    "        return mult\n"
   ]
  },
  {
   "cell_type": "code",
   "execution_count": 62,
   "metadata": {},
   "outputs": [],
   "source": [
    "a = Value(2.0)\n",
    "b = Value(-3.0)\n",
    "c = Value(10.0)\n",
    "d = a*b\n",
    "e = d + c"
   ]
  },
  {
   "cell_type": "code",
   "execution_count": 65,
   "metadata": {},
   "outputs": [
    {
     "name": "stdout",
     "output_type": "stream",
     "text": [
      "Children : {Value(data=2.0), Value(data=-3.0)} || Operation applied : *\n",
      "Children : {Value(data=10.0), Value(data=-6.0)} || Operation applied : +\n"
     ]
    }
   ],
   "source": [
    "print(f\"Children : {d._prev} || Operation applied : {d._op}\")\n",
    "print(f\"Children : {e._prev} || Operation applied : {e._op}\")"
   ]
  },
  {
   "cell_type": "markdown",
   "metadata": {},
   "source": [
    "## Visualizing the code"
   ]
  },
  {
   "cell_type": "code",
   "execution_count": 66,
   "metadata": {},
   "outputs": [],
   "source": [
    "from graphviz import Digraph"
   ]
  },
  {
   "cell_type": "code",
   "execution_count": 67,
   "metadata": {},
   "outputs": [],
   "source": [
    "class Value :\n",
    "\n",
    "    def __init__(self, data, _children=(), _op='', _label=''):\n",
    "        self.data = data\n",
    "        # tuple turned into set for efficiency\n",
    "        self._prev = set(_children)\n",
    "        # by default _op is the empty set for leaf nodes\n",
    "        self._op = _op\n",
    "        # _label is the label associated with the node\n",
    "        self._label = _label\n",
    "  \n",
    "    def __repr__(self) -> str:\n",
    "        return f\"Value(data={self.data})\"\n",
    "\n",
    "    def __add__(self, other):\n",
    "        # now we store the children in the new Value object to keep track of them on the computational graph\n",
    "        # the children are the initial Value objects that were used to create the new Value object\n",
    "        summation = Value(self.data + other.data, _children=(self, other), _op=\"+\")\n",
    "        return summation\n",
    "\n",
    "    def __mul__(self, other):\n",
    "        # now we store the children in the new Value object to keep track of them on the computational graph\n",
    "        # the children are the initial Value objects that were used to create the new Value object\n",
    "        mult = Value(self.data * other.data, _children=(self, other), _op=\"*\")\n",
    "        return mult\n"
   ]
  },
  {
   "cell_type": "code",
   "execution_count": 68,
   "metadata": {},
   "outputs": [],
   "source": [
    "def trace(root):\n",
    "    # node: is the Value object being considered\n",
    "    # edges : the two objects Value that created the node being considered\n",
    "    nodes, edges = set(), set()\n",
    "    def build(v):\n",
    "        # prend initialement comme intrant le root node, puis\n",
    "        # recursivement chaqune des child nodes\n",
    "        if v not in nodes:\n",
    "            nodes.add(v)\n",
    "            for child in v._prev:\n",
    "                edges.add((child, v))\n",
    "                # la recursion se passe ici\n",
    "                build(child)\n",
    "                \n",
    "    # Finalement on construit tous les nodes et edges ici\n",
    "    build(root)\n",
    "    return nodes, edges\n",
    "\n",
    "def draw_dot(root, format='svg', rankdir='LR'):\n",
    "    dot = Digraph(format=format, graph_attr={'rankdir': rankdir}) #, node_attr={'rankdir': 'TB'})\n",
    "   \n",
    "    nodes, edges = trace(root)\n",
    "    \n",
    "    \n",
    "    for n in nodes:\n",
    "        uid = str(id(n))\n",
    "        dot.node(name=uid, label = \"{ %s | data %.4f }\" % (n._label, n.data), shape='record')\n",
    "        if n._op:\n",
    "            dot.node(name=str(id(n)) + n._op, label=n._op)\n",
    "            dot.edge(str(id(n)) + n._op, str(id(n)))\n",
    "    \n",
    "    for n1, n2 in edges:\n",
    "        dot.edge(str(id(n1)), str(id(n2)) + n2._op)\n",
    "    \n",
    "    return dot"
   ]
  },
  {
   "cell_type": "code",
   "execution_count": 69,
   "metadata": {},
   "outputs": [],
   "source": [
    "a = Value(2.0, _label='a')\n",
    "b = Value(-3.0, _label='b')\n",
    "c = Value(10.0, _label='c')\n",
    "e = a*b; e._label='e'\n",
    "d = e + c; d._label ='d'\n",
    "f = Value(-2.0, _label='f')\n",
    "L = d * f; L._label = \"L\""
   ]
  },
  {
   "cell_type": "code",
   "execution_count": 70,
   "metadata": {},
   "outputs": [
    {
     "data": {
      "image/svg+xml": [
       "<?xml version=\"1.0\" encoding=\"UTF-8\" standalone=\"no\"?>\n",
       "<!DOCTYPE svg PUBLIC \"-//W3C//DTD SVG 1.1//EN\"\n",
       " \"http://www.w3.org/Graphics/SVG/1.1/DTD/svg11.dtd\">\n",
       "<!-- Generated by graphviz version 2.50.0 (0)\n",
       " -->\n",
       "<!-- Pages: 1 -->\n",
       "<svg width=\"820pt\" height=\"128pt\"\n",
       " viewBox=\"0.00 0.00 820.00 128.00\" xmlns=\"http://www.w3.org/2000/svg\" xmlns:xlink=\"http://www.w3.org/1999/xlink\">\n",
       "<g id=\"graph0\" class=\"graph\" transform=\"scale(1 1) rotate(0) translate(4 124)\">\n",
       "<polygon fill=\"white\" stroke=\"transparent\" points=\"-4,4 -4,-124 816,-124 816,4 -4,4\"/>\n",
       "<!-- 2625959580192 -->\n",
       "<g id=\"node1\" class=\"node\">\n",
       "<title>2625959580192</title>\n",
       "<polygon fill=\"none\" stroke=\"black\" points=\"702,-54.5 702,-90.5 812,-90.5 812,-54.5 702,-54.5\"/>\n",
       "<text text-anchor=\"middle\" x=\"714.5\" y=\"-68.8\" font-family=\"Times New Roman,serif\" font-size=\"14.00\">L</text>\n",
       "<polyline fill=\"none\" stroke=\"black\" points=\"727,-54.5 727,-90.5 \"/>\n",
       "<text text-anchor=\"middle\" x=\"769.5\" y=\"-68.8\" font-family=\"Times New Roman,serif\" font-size=\"14.00\">data &#45;8.0000</text>\n",
       "</g>\n",
       "<!-- 2625959580192* -->\n",
       "<g id=\"node2\" class=\"node\">\n",
       "<title>2625959580192*</title>\n",
       "<ellipse fill=\"none\" stroke=\"black\" cx=\"639\" cy=\"-72.5\" rx=\"27\" ry=\"18\"/>\n",
       "<text text-anchor=\"middle\" x=\"639\" y=\"-68.8\" font-family=\"Times New Roman,serif\" font-size=\"14.00\">*</text>\n",
       "</g>\n",
       "<!-- 2625959580192*&#45;&gt;2625959580192 -->\n",
       "<g id=\"edge1\" class=\"edge\">\n",
       "<title>2625959580192*&#45;&gt;2625959580192</title>\n",
       "<path fill=\"none\" stroke=\"black\" d=\"M666.03,-72.5C673.7,-72.5 682.45,-72.5 691.42,-72.5\"/>\n",
       "<polygon fill=\"black\" stroke=\"black\" points=\"691.58,-76 701.58,-72.5 691.58,-69 691.58,-76\"/>\n",
       "</g>\n",
       "<!-- 2625959579856 -->\n",
       "<g id=\"node3\" class=\"node\">\n",
       "<title>2625959579856</title>\n",
       "<polygon fill=\"none\" stroke=\"black\" points=\"470,-82.5 470,-118.5 576,-118.5 576,-82.5 470,-82.5\"/>\n",
       "<text text-anchor=\"middle\" x=\"480.5\" y=\"-96.8\" font-family=\"Times New Roman,serif\" font-size=\"14.00\">f</text>\n",
       "<polyline fill=\"none\" stroke=\"black\" points=\"491,-82.5 491,-118.5 \"/>\n",
       "<text text-anchor=\"middle\" x=\"533.5\" y=\"-96.8\" font-family=\"Times New Roman,serif\" font-size=\"14.00\">data &#45;2.0000</text>\n",
       "</g>\n",
       "<!-- 2625959579856&#45;&gt;2625959580192* -->\n",
       "<g id=\"edge4\" class=\"edge\">\n",
       "<title>2625959579856&#45;&gt;2625959580192*</title>\n",
       "<path fill=\"none\" stroke=\"black\" d=\"M576.33,-87.65C585.48,-85.4 594.8,-83.11 603.33,-81.02\"/>\n",
       "<polygon fill=\"black\" stroke=\"black\" points=\"604.39,-84.36 613.27,-78.57 602.72,-77.56 604.39,-84.36\"/>\n",
       "</g>\n",
       "<!-- 2625959580384 -->\n",
       "<g id=\"node4\" class=\"node\">\n",
       "<title>2625959580384</title>\n",
       "<polygon fill=\"none\" stroke=\"black\" points=\"235,-55.5 235,-91.5 343,-91.5 343,-55.5 235,-55.5\"/>\n",
       "<text text-anchor=\"middle\" x=\"246.5\" y=\"-69.8\" font-family=\"Times New Roman,serif\" font-size=\"14.00\">e</text>\n",
       "<polyline fill=\"none\" stroke=\"black\" points=\"258,-55.5 258,-91.5 \"/>\n",
       "<text text-anchor=\"middle\" x=\"300.5\" y=\"-69.8\" font-family=\"Times New Roman,serif\" font-size=\"14.00\">data &#45;6.0000</text>\n",
       "</g>\n",
       "<!-- 2625959580480+ -->\n",
       "<g id=\"node9\" class=\"node\">\n",
       "<title>2625959580480+</title>\n",
       "<ellipse fill=\"none\" stroke=\"black\" cx=\"407\" cy=\"-45.5\" rx=\"27\" ry=\"18\"/>\n",
       "<text text-anchor=\"middle\" x=\"407\" y=\"-41.8\" font-family=\"Times New Roman,serif\" font-size=\"14.00\">+</text>\n",
       "</g>\n",
       "<!-- 2625959580384&#45;&gt;2625959580480+ -->\n",
       "<g id=\"edge7\" class=\"edge\">\n",
       "<title>2625959580384&#45;&gt;2625959580480+</title>\n",
       "<path fill=\"none\" stroke=\"black\" d=\"M343.25,-60.65C352.84,-58.33 362.6,-55.98 371.48,-53.83\"/>\n",
       "<polygon fill=\"black\" stroke=\"black\" points=\"372.54,-57.18 381.43,-51.43 370.89,-50.37 372.54,-57.18\"/>\n",
       "</g>\n",
       "<!-- 2625959580384* -->\n",
       "<g id=\"node5\" class=\"node\">\n",
       "<title>2625959580384*</title>\n",
       "<ellipse fill=\"none\" stroke=\"black\" cx=\"171\" cy=\"-73.5\" rx=\"27\" ry=\"18\"/>\n",
       "<text text-anchor=\"middle\" x=\"171\" y=\"-69.8\" font-family=\"Times New Roman,serif\" font-size=\"14.00\">*</text>\n",
       "</g>\n",
       "<!-- 2625959580384*&#45;&gt;2625959580384 -->\n",
       "<g id=\"edge2\" class=\"edge\">\n",
       "<title>2625959580384*&#45;&gt;2625959580384</title>\n",
       "<path fill=\"none\" stroke=\"black\" d=\"M198.03,-73.5C206.08,-73.5 215.32,-73.5 224.74,-73.5\"/>\n",
       "<polygon fill=\"black\" stroke=\"black\" points=\"224.99,-77 234.99,-73.5 224.99,-70 224.99,-77\"/>\n",
       "</g>\n",
       "<!-- 2625959581440 -->\n",
       "<g id=\"node6\" class=\"node\">\n",
       "<title>2625959581440</title>\n",
       "<polygon fill=\"none\" stroke=\"black\" points=\"2.5,-83.5 2.5,-119.5 105.5,-119.5 105.5,-83.5 2.5,-83.5\"/>\n",
       "<text text-anchor=\"middle\" x=\"14\" y=\"-97.8\" font-family=\"Times New Roman,serif\" font-size=\"14.00\">a</text>\n",
       "<polyline fill=\"none\" stroke=\"black\" points=\"25.5,-83.5 25.5,-119.5 \"/>\n",
       "<text text-anchor=\"middle\" x=\"65.5\" y=\"-97.8\" font-family=\"Times New Roman,serif\" font-size=\"14.00\">data 2.0000</text>\n",
       "</g>\n",
       "<!-- 2625959581440&#45;&gt;2625959580384* -->\n",
       "<g id=\"edge8\" class=\"edge\">\n",
       "<title>2625959581440&#45;&gt;2625959580384*</title>\n",
       "<path fill=\"none\" stroke=\"black\" d=\"M105.78,-89.14C115.85,-86.68 126.2,-84.16 135.58,-81.88\"/>\n",
       "<polygon fill=\"black\" stroke=\"black\" points=\"136.41,-85.28 145.3,-79.51 134.76,-78.48 136.41,-85.28\"/>\n",
       "</g>\n",
       "<!-- 2625959580432 -->\n",
       "<g id=\"node7\" class=\"node\">\n",
       "<title>2625959580432</title>\n",
       "<polygon fill=\"none\" stroke=\"black\" points=\"234,-0.5 234,-36.5 344,-36.5 344,-0.5 234,-0.5\"/>\n",
       "<text text-anchor=\"middle\" x=\"245.5\" y=\"-14.8\" font-family=\"Times New Roman,serif\" font-size=\"14.00\">c</text>\n",
       "<polyline fill=\"none\" stroke=\"black\" points=\"257,-0.5 257,-36.5 \"/>\n",
       "<text text-anchor=\"middle\" x=\"300.5\" y=\"-14.8\" font-family=\"Times New Roman,serif\" font-size=\"14.00\">data 10.0000</text>\n",
       "</g>\n",
       "<!-- 2625959580432&#45;&gt;2625959580480+ -->\n",
       "<g id=\"edge6\" class=\"edge\">\n",
       "<title>2625959580432&#45;&gt;2625959580480+</title>\n",
       "<path fill=\"none\" stroke=\"black\" d=\"M344.26,-31.13C353.49,-33.28 362.84,-35.45 371.37,-37.44\"/>\n",
       "<polygon fill=\"black\" stroke=\"black\" points=\"370.79,-40.9 381.32,-39.76 372.38,-34.08 370.79,-40.9\"/>\n",
       "</g>\n",
       "<!-- 2625959580480 -->\n",
       "<g id=\"node8\" class=\"node\">\n",
       "<title>2625959580480</title>\n",
       "<polygon fill=\"none\" stroke=\"black\" points=\"471.5,-27.5 471.5,-63.5 574.5,-63.5 574.5,-27.5 471.5,-27.5\"/>\n",
       "<text text-anchor=\"middle\" x=\"483\" y=\"-41.8\" font-family=\"Times New Roman,serif\" font-size=\"14.00\">d</text>\n",
       "<polyline fill=\"none\" stroke=\"black\" points=\"494.5,-27.5 494.5,-63.5 \"/>\n",
       "<text text-anchor=\"middle\" x=\"534.5\" y=\"-41.8\" font-family=\"Times New Roman,serif\" font-size=\"14.00\">data 4.0000</text>\n",
       "</g>\n",
       "<!-- 2625959580480&#45;&gt;2625959580192* -->\n",
       "<g id=\"edge5\" class=\"edge\">\n",
       "<title>2625959580480&#45;&gt;2625959580192*</title>\n",
       "<path fill=\"none\" stroke=\"black\" d=\"M574.67,-57.5C584.43,-59.81 594.45,-62.18 603.55,-64.34\"/>\n",
       "<polygon fill=\"black\" stroke=\"black\" points=\"602.83,-67.77 613.37,-66.67 604.45,-60.96 602.83,-67.77\"/>\n",
       "</g>\n",
       "<!-- 2625959580480+&#45;&gt;2625959580480 -->\n",
       "<g id=\"edge3\" class=\"edge\">\n",
       "<title>2625959580480+&#45;&gt;2625959580480</title>\n",
       "<path fill=\"none\" stroke=\"black\" d=\"M434.15,-45.5C442.26,-45.5 451.57,-45.5 461.02,-45.5\"/>\n",
       "<polygon fill=\"black\" stroke=\"black\" points=\"461.28,-49 471.28,-45.5 461.28,-42 461.28,-49\"/>\n",
       "</g>\n",
       "<!-- 2625959582544 -->\n",
       "<g id=\"node10\" class=\"node\">\n",
       "<title>2625959582544</title>\n",
       "<polygon fill=\"none\" stroke=\"black\" points=\"0,-28.5 0,-64.5 108,-64.5 108,-28.5 0,-28.5\"/>\n",
       "<text text-anchor=\"middle\" x=\"11.5\" y=\"-42.8\" font-family=\"Times New Roman,serif\" font-size=\"14.00\">b</text>\n",
       "<polyline fill=\"none\" stroke=\"black\" points=\"23,-28.5 23,-64.5 \"/>\n",
       "<text text-anchor=\"middle\" x=\"65.5\" y=\"-42.8\" font-family=\"Times New Roman,serif\" font-size=\"14.00\">data &#45;3.0000</text>\n",
       "</g>\n",
       "<!-- 2625959582544&#45;&gt;2625959580384* -->\n",
       "<g id=\"edge9\" class=\"edge\">\n",
       "<title>2625959582544&#45;&gt;2625959580384*</title>\n",
       "<path fill=\"none\" stroke=\"black\" d=\"M108.12,-58.97C117.33,-61.13 126.68,-63.33 135.24,-65.34\"/>\n",
       "<polygon fill=\"black\" stroke=\"black\" points=\"134.68,-68.8 145.21,-67.68 136.28,-61.99 134.68,-68.8\"/>\n",
       "</g>\n",
       "</g>\n",
       "</svg>\n"
      ],
      "text/plain": [
       "<graphviz.graphs.Digraph at 0x2635fb52a90>"
      ]
     },
     "execution_count": 70,
     "metadata": {},
     "output_type": "execute_result"
    }
   ],
   "source": [
    "# visualize the result of a forward pass\n",
    "draw_dot(L)"
   ]
  },
  {
   "cell_type": "markdown",
   "metadata": {},
   "source": [
    "# Introducing backprop"
   ]
  },
  {
   "cell_type": "markdown",
   "metadata": {},
   "source": [
    "In a neural network setting you'd be very interested in the derivative of  the loss function `L` with respect to the weights of a neural network. Here in our case we have the variables `a`, `b`, `c`, `d`, `e`, and `f` but they will eventually\n",
    "represent the weights of a neural net and so we'll need to know how those weights are impacting the loss function. To do so we will need the derivative of the output with respect to `some` of its leaf nodes. Some of those leaf nodes will be the weights of the neural net, and the other leaf nodes will be the data itself but usually we will\n",
    "not want or use the derivative of the loss function with respect to data because the data is fixed but the\n",
    "weights will be iterated on using the gradient information.\n",
    "\n",
    "So next we are going to create a variable inside the `Value` class that maintains the derivative of `L` with respect to that\n",
    "value and we will call this variable `grad` so there's a `data` and there's a `self.grad`. Initially it will be zero (remember that a gradient of zero means it has no effect), so at initialization we're assuming that every value does not impact the\n",
    "output (because if the gradient is zero, changing this variable is not changing the loss function)/"
   ]
  },
  {
   "cell_type": "code",
   "execution_count": 3,
   "metadata": {},
   "outputs": [],
   "source": [
    "import sys\n",
    "# module_path = \"/home/john-ubu/dev/minigrad\"\n",
    "module_path  =\"C:\\\\Users\\\\mmonn\\\\Desktop\\\\torch\\\\pytorch_autrograd_reimplementation\"\n",
    "# Check if the module path is already in sys.path\n",
    "if module_path not in sys.path:\n",
    "    # Add the module path to sys.path\n",
    "    sys.path.append(module_path)"
   ]
  },
  {
   "cell_type": "code",
   "execution_count": 4,
   "metadata": {},
   "outputs": [],
   "source": [
    "import math\n",
    "import matplotlib.pyplot as plt\n",
    "import numpy as np\n",
    "import torch\n",
    "from ipywidgets import interact\n",
    "from functools import partial\n",
    "from src.utils import retain\n",
    "from graphviz import Digraph\n",
    "%matplotlib inline"
   ]
  },
  {
   "cell_type": "code",
   "execution_count": 5,
   "metadata": {},
   "outputs": [],
   "source": [
    "class Value :\n",
    "\n",
    "    def __init__(self, data, _children=(), _op='', _label=''):\n",
    "        self.data = data\n",
    "        # adding grad and setting it to 0. Ca va track le partial derivativ \n",
    "        # of the output with respect to the value of the node being considered\n",
    "        self.grad = 0\n",
    "        self._prev = set(_children)\n",
    "        self._op = _op\n",
    "        self._label = _label\n",
    "  \n",
    "    def __repr__(self) -> str:\n",
    "        return f\"Value(data={self.data})\"\n",
    "\n",
    "    def __add__(self, other):\n",
    "        summation = Value(self.data + other.data, _children=(self, other), _op=\"+\")\n",
    "        return summation\n",
    "\n",
    "    def __mul__(self, other):\n",
    "        mult = Value(self.data * other.data, _children=(self, other), _op=\"*\")\n",
    "        return mult\n"
   ]
  },
  {
   "cell_type": "code",
   "execution_count": 6,
   "metadata": {},
   "outputs": [],
   "source": [
    "def trace(root):\n",
    "    # node: is the Value object being considered\n",
    "    # edges : the two objects Value that created the node being considered\n",
    "    nodes, edges = set(), set()\n",
    "    def build(v):\n",
    "        if v not in nodes:\n",
    "            nodes.add(v)\n",
    "            for child in v._prev:\n",
    "                edges.add((child, v))\n",
    "                # la recursion se passe ici\n",
    "                build(child)\n",
    "\n",
    "    build(root)\n",
    "    return nodes, edges\n",
    "\n",
    "def draw_dot(root, format='svg', rankdir='LR'):\n",
    "    dot = Digraph(format=format, graph_attr={'rankdir': rankdir}) #, node_attr={'rankdir': 'TB'})\n",
    "   \n",
    "    nodes, edges = trace(root)\n",
    "    \n",
    "    \n",
    "    for n in nodes:\n",
    "        uid = str(id(n))\n",
    "        dot.node(name=uid, label = f\"node : {n._label} | value = {n.data} | gradient = {n.grad}\", shape='record')\n",
    "        if n._op:\n",
    "            dot.node(name=str(id(n)) + n._op, label=n._op)\n",
    "            dot.edge(str(id(n)) + n._op, str(id(n)))\n",
    "    \n",
    "    for n1, n2 in edges:\n",
    "        dot.edge(str(id(n1)), str(id(n2)) + n2._op)\n",
    "    \n",
    "    return dot"
   ]
  },
  {
   "cell_type": "code",
   "execution_count": 7,
   "metadata": {},
   "outputs": [],
   "source": [
    "a = Value(2.0, _label='a')\n",
    "b = Value(-3.0, _label='b')\n",
    "c = Value(10.0, _label='c')\n",
    "e = a*b; e._label='e'\n",
    "d = e + c; d._label ='d'\n",
    "f = Value(-2.0, _label='f')\n",
    "L = d * f; L._label = \"L\""
   ]
  },
  {
   "cell_type": "code",
   "execution_count": 8,
   "metadata": {},
   "outputs": [
    {
     "data": {
      "image/svg+xml": [
       "<?xml version=\"1.0\" encoding=\"UTF-8\" standalone=\"no\"?>\n",
       "<!DOCTYPE svg PUBLIC \"-//W3C//DTD SVG 1.1//EN\"\n",
       " \"http://www.w3.org/Graphics/SVG/1.1/DTD/svg11.dtd\">\n",
       "<!-- Generated by graphviz version 2.50.0 (0)\n",
       " -->\n",
       "<!-- Pages: 1 -->\n",
       "<svg width=\"721pt\" height=\"210pt\"\n",
       " viewBox=\"0.00 0.00 721.00 210.00\" xmlns=\"http://www.w3.org/2000/svg\" xmlns:xlink=\"http://www.w3.org/1999/xlink\">\n",
       "<g id=\"graph0\" class=\"graph\" transform=\"scale(1 1) rotate(0) translate(4 206)\">\n",
       "<polygon fill=\"white\" stroke=\"transparent\" points=\"-4,4 -4,-206 717,-206 717,4 -4,4\"/>\n",
       "<!-- 2092954588736 -->\n",
       "<g id=\"node1\" class=\"node\">\n",
       "<title>2092954588736</title>\n",
       "<polygon fill=\"none\" stroke=\"black\" points=\"421,-44.5 421,-113.5 504,-113.5 504,-44.5 421,-44.5\"/>\n",
       "<text text-anchor=\"middle\" x=\"462.5\" y=\"-98.3\" font-family=\"Times New Roman,serif\" font-size=\"14.00\">node : d</text>\n",
       "<polyline fill=\"none\" stroke=\"black\" points=\"421,-90.5 504,-90.5 \"/>\n",
       "<text text-anchor=\"middle\" x=\"462.5\" y=\"-75.3\" font-family=\"Times New Roman,serif\" font-size=\"14.00\">value = 4.0</text>\n",
       "<polyline fill=\"none\" stroke=\"black\" points=\"421,-67.5 504,-67.5 \"/>\n",
       "<text text-anchor=\"middle\" x=\"462.5\" y=\"-52.3\" font-family=\"Times New Roman,serif\" font-size=\"14.00\">gradient = 0</text>\n",
       "</g>\n",
       "<!-- 2092954588400* -->\n",
       "<g id=\"node8\" class=\"node\">\n",
       "<title>2092954588400*</title>\n",
       "<ellipse fill=\"none\" stroke=\"black\" cx=\"567\" cy=\"-123\" rx=\"27\" ry=\"18\"/>\n",
       "<text text-anchor=\"middle\" x=\"567\" y=\"-119.3\" font-family=\"Times New Roman,serif\" font-size=\"14.00\">*</text>\n",
       "</g>\n",
       "<!-- 2092954588736&#45;&gt;2092954588400* -->\n",
       "<g id=\"edge4\" class=\"edge\">\n",
       "<title>2092954588736&#45;&gt;2092954588400*</title>\n",
       "<path fill=\"none\" stroke=\"black\" d=\"M504.01,-96.39C514.17,-100.75 524.91,-105.36 534.55,-109.5\"/>\n",
       "<polygon fill=\"black\" stroke=\"black\" points=\"533.19,-112.73 543.76,-113.45 535.95,-106.29 533.19,-112.73\"/>\n",
       "</g>\n",
       "<!-- 2092954588736+ -->\n",
       "<g id=\"node2\" class=\"node\">\n",
       "<title>2092954588736+</title>\n",
       "<ellipse fill=\"none\" stroke=\"black\" cx=\"358\" cy=\"-79\" rx=\"27\" ry=\"18\"/>\n",
       "<text text-anchor=\"middle\" x=\"358\" y=\"-75.3\" font-family=\"Times New Roman,serif\" font-size=\"14.00\">+</text>\n",
       "</g>\n",
       "<!-- 2092954588736+&#45;&gt;2092954588736 -->\n",
       "<g id=\"edge1\" class=\"edge\">\n",
       "<title>2092954588736+&#45;&gt;2092954588736</title>\n",
       "<path fill=\"none\" stroke=\"black\" d=\"M385.13,-79C392.89,-79 401.67,-79 410.44,-79\"/>\n",
       "<polygon fill=\"black\" stroke=\"black\" points=\"410.67,-82.5 420.67,-79 410.67,-75.5 410.67,-82.5\"/>\n",
       "</g>\n",
       "<!-- 2092954588784 -->\n",
       "<g id=\"node3\" class=\"node\">\n",
       "<title>2092954588784</title>\n",
       "<polygon fill=\"none\" stroke=\"black\" points=\"210.5,-88.5 210.5,-157.5 293.5,-157.5 293.5,-88.5 210.5,-88.5\"/>\n",
       "<text text-anchor=\"middle\" x=\"252\" y=\"-142.3\" font-family=\"Times New Roman,serif\" font-size=\"14.00\">node : e</text>\n",
       "<polyline fill=\"none\" stroke=\"black\" points=\"210.5,-134.5 293.5,-134.5 \"/>\n",
       "<text text-anchor=\"middle\" x=\"252\" y=\"-119.3\" font-family=\"Times New Roman,serif\" font-size=\"14.00\">value = &#45;6.0</text>\n",
       "<polyline fill=\"none\" stroke=\"black\" points=\"210.5,-111.5 293.5,-111.5 \"/>\n",
       "<text text-anchor=\"middle\" x=\"252\" y=\"-96.3\" font-family=\"Times New Roman,serif\" font-size=\"14.00\">gradient = 0</text>\n",
       "</g>\n",
       "<!-- 2092954588784&#45;&gt;2092954588736+ -->\n",
       "<g id=\"edge5\" class=\"edge\">\n",
       "<title>2092954588784&#45;&gt;2092954588736+</title>\n",
       "<path fill=\"none\" stroke=\"black\" d=\"M293.51,-105.86C304.14,-101.36 315.45,-96.58 325.53,-92.32\"/>\n",
       "<polygon fill=\"black\" stroke=\"black\" points=\"326.91,-95.53 334.76,-88.41 324.18,-89.08 326.91,-95.53\"/>\n",
       "</g>\n",
       "<!-- 2092954588784* -->\n",
       "<g id=\"node4\" class=\"node\">\n",
       "<title>2092954588784*</title>\n",
       "<ellipse fill=\"none\" stroke=\"black\" cx=\"146\" cy=\"-123\" rx=\"27\" ry=\"18\"/>\n",
       "<text text-anchor=\"middle\" x=\"146\" y=\"-119.3\" font-family=\"Times New Roman,serif\" font-size=\"14.00\">*</text>\n",
       "</g>\n",
       "<!-- 2092954588784*&#45;&gt;2092954588784 -->\n",
       "<g id=\"edge2\" class=\"edge\">\n",
       "<title>2092954588784*&#45;&gt;2092954588784</title>\n",
       "<path fill=\"none\" stroke=\"black\" d=\"M173.24,-123C181.46,-123 190.83,-123 200.15,-123\"/>\n",
       "<polygon fill=\"black\" stroke=\"black\" points=\"200.19,-126.5 210.19,-123 200.19,-119.5 200.19,-126.5\"/>\n",
       "</g>\n",
       "<!-- 2092954587296 -->\n",
       "<g id=\"node5\" class=\"node\">\n",
       "<title>2092954587296</title>\n",
       "<polygon fill=\"none\" stroke=\"black\" points=\"0,-132.5 0,-201.5 83,-201.5 83,-132.5 0,-132.5\"/>\n",
       "<text text-anchor=\"middle\" x=\"41.5\" y=\"-186.3\" font-family=\"Times New Roman,serif\" font-size=\"14.00\">node : b</text>\n",
       "<polyline fill=\"none\" stroke=\"black\" points=\"0,-178.5 83,-178.5 \"/>\n",
       "<text text-anchor=\"middle\" x=\"41.5\" y=\"-163.3\" font-family=\"Times New Roman,serif\" font-size=\"14.00\">value = &#45;3.0</text>\n",
       "<polyline fill=\"none\" stroke=\"black\" points=\"0,-155.5 83,-155.5 \"/>\n",
       "<text text-anchor=\"middle\" x=\"41.5\" y=\"-140.3\" font-family=\"Times New Roman,serif\" font-size=\"14.00\">gradient = 0</text>\n",
       "</g>\n",
       "<!-- 2092954587296&#45;&gt;2092954588784* -->\n",
       "<g id=\"edge9\" class=\"edge\">\n",
       "<title>2092954587296&#45;&gt;2092954588784*</title>\n",
       "<path fill=\"none\" stroke=\"black\" d=\"M83.01,-149.61C93.17,-145.25 103.91,-140.64 113.55,-136.5\"/>\n",
       "<polygon fill=\"black\" stroke=\"black\" points=\"114.95,-139.71 122.76,-132.55 112.19,-133.27 114.95,-139.71\"/>\n",
       "</g>\n",
       "<!-- 2092954589360 -->\n",
       "<g id=\"node6\" class=\"node\">\n",
       "<title>2092954589360</title>\n",
       "<polygon fill=\"none\" stroke=\"black\" points=\"0,-44.5 0,-113.5 83,-113.5 83,-44.5 0,-44.5\"/>\n",
       "<text text-anchor=\"middle\" x=\"41.5\" y=\"-98.3\" font-family=\"Times New Roman,serif\" font-size=\"14.00\">node : a</text>\n",
       "<polyline fill=\"none\" stroke=\"black\" points=\"0,-90.5 83,-90.5 \"/>\n",
       "<text text-anchor=\"middle\" x=\"41.5\" y=\"-75.3\" font-family=\"Times New Roman,serif\" font-size=\"14.00\">value = 2.0</text>\n",
       "<polyline fill=\"none\" stroke=\"black\" points=\"0,-67.5 83,-67.5 \"/>\n",
       "<text text-anchor=\"middle\" x=\"41.5\" y=\"-52.3\" font-family=\"Times New Roman,serif\" font-size=\"14.00\">gradient = 0</text>\n",
       "</g>\n",
       "<!-- 2092954589360&#45;&gt;2092954588784* -->\n",
       "<g id=\"edge7\" class=\"edge\">\n",
       "<title>2092954589360&#45;&gt;2092954588784*</title>\n",
       "<path fill=\"none\" stroke=\"black\" d=\"M83.01,-96.39C93.17,-100.75 103.91,-105.36 113.55,-109.5\"/>\n",
       "<polygon fill=\"black\" stroke=\"black\" points=\"112.19,-112.73 122.76,-113.45 114.95,-106.29 112.19,-112.73\"/>\n",
       "</g>\n",
       "<!-- 2092954588400 -->\n",
       "<g id=\"node7\" class=\"node\">\n",
       "<title>2092954588400</title>\n",
       "<polygon fill=\"none\" stroke=\"black\" points=\"630,-88.5 630,-157.5 713,-157.5 713,-88.5 630,-88.5\"/>\n",
       "<text text-anchor=\"middle\" x=\"671.5\" y=\"-142.3\" font-family=\"Times New Roman,serif\" font-size=\"14.00\">node : L</text>\n",
       "<polyline fill=\"none\" stroke=\"black\" points=\"630,-134.5 713,-134.5 \"/>\n",
       "<text text-anchor=\"middle\" x=\"671.5\" y=\"-119.3\" font-family=\"Times New Roman,serif\" font-size=\"14.00\">value = &#45;8.0</text>\n",
       "<polyline fill=\"none\" stroke=\"black\" points=\"630,-111.5 713,-111.5 \"/>\n",
       "<text text-anchor=\"middle\" x=\"671.5\" y=\"-96.3\" font-family=\"Times New Roman,serif\" font-size=\"14.00\">gradient = 0</text>\n",
       "</g>\n",
       "<!-- 2092954588400*&#45;&gt;2092954588400 -->\n",
       "<g id=\"edge3\" class=\"edge\">\n",
       "<title>2092954588400*&#45;&gt;2092954588400</title>\n",
       "<path fill=\"none\" stroke=\"black\" d=\"M594.13,-123C601.89,-123 610.67,-123 619.44,-123\"/>\n",
       "<polygon fill=\"black\" stroke=\"black\" points=\"619.67,-126.5 629.67,-123 619.67,-119.5 619.67,-126.5\"/>\n",
       "</g>\n",
       "<!-- 2092954588976 -->\n",
       "<g id=\"node9\" class=\"node\">\n",
       "<title>2092954588976</title>\n",
       "<polygon fill=\"none\" stroke=\"black\" points=\"209,-0.5 209,-69.5 295,-69.5 295,-0.5 209,-0.5\"/>\n",
       "<text text-anchor=\"middle\" x=\"252\" y=\"-54.3\" font-family=\"Times New Roman,serif\" font-size=\"14.00\">node : c</text>\n",
       "<polyline fill=\"none\" stroke=\"black\" points=\"209,-46.5 295,-46.5 \"/>\n",
       "<text text-anchor=\"middle\" x=\"252\" y=\"-31.3\" font-family=\"Times New Roman,serif\" font-size=\"14.00\">value = 10.0</text>\n",
       "<polyline fill=\"none\" stroke=\"black\" points=\"209,-23.5 295,-23.5 \"/>\n",
       "<text text-anchor=\"middle\" x=\"252\" y=\"-8.3\" font-family=\"Times New Roman,serif\" font-size=\"14.00\">gradient = 0</text>\n",
       "</g>\n",
       "<!-- 2092954588976&#45;&gt;2092954588736+ -->\n",
       "<g id=\"edge6\" class=\"edge\">\n",
       "<title>2092954588976&#45;&gt;2092954588736+</title>\n",
       "<path fill=\"none\" stroke=\"black\" d=\"M295,-52.77C305.13,-57.05 315.78,-61.56 325.34,-65.61\"/>\n",
       "<polygon fill=\"black\" stroke=\"black\" points=\"324.27,-68.95 334.84,-69.63 327,-62.51 324.27,-68.95\"/>\n",
       "</g>\n",
       "<!-- 2092954589552 -->\n",
       "<g id=\"node10\" class=\"node\">\n",
       "<title>2092954589552</title>\n",
       "<polygon fill=\"none\" stroke=\"black\" points=\"421,-132.5 421,-201.5 504,-201.5 504,-132.5 421,-132.5\"/>\n",
       "<text text-anchor=\"middle\" x=\"462.5\" y=\"-186.3\" font-family=\"Times New Roman,serif\" font-size=\"14.00\">node : f</text>\n",
       "<polyline fill=\"none\" stroke=\"black\" points=\"421,-178.5 504,-178.5 \"/>\n",
       "<text text-anchor=\"middle\" x=\"462.5\" y=\"-163.3\" font-family=\"Times New Roman,serif\" font-size=\"14.00\">value = &#45;2.0</text>\n",
       "<polyline fill=\"none\" stroke=\"black\" points=\"421,-155.5 504,-155.5 \"/>\n",
       "<text text-anchor=\"middle\" x=\"462.5\" y=\"-140.3\" font-family=\"Times New Roman,serif\" font-size=\"14.00\">gradient = 0</text>\n",
       "</g>\n",
       "<!-- 2092954589552&#45;&gt;2092954588400* -->\n",
       "<g id=\"edge8\" class=\"edge\">\n",
       "<title>2092954589552&#45;&gt;2092954588400*</title>\n",
       "<path fill=\"none\" stroke=\"black\" d=\"M504.01,-149.61C514.17,-145.25 524.91,-140.64 534.55,-136.5\"/>\n",
       "<polygon fill=\"black\" stroke=\"black\" points=\"535.95,-139.71 543.76,-132.55 533.19,-133.27 535.95,-139.71\"/>\n",
       "</g>\n",
       "</g>\n",
       "</svg>\n"
      ],
      "text/plain": [
       "<graphviz.graphs.Digraph at 0x1e74dd097c0>"
      ]
     },
     "execution_count": 8,
     "metadata": {},
     "output_type": "execute_result"
    }
   ],
   "source": [
    "draw_dot(L)"
   ]
  },
  {
   "cell_type": "code",
   "execution_count": 9,
   "metadata": {},
   "outputs": [],
   "source": [
    "def partialz():\n",
    "    \"\"\"Calculating the derivative of L with respect to d\"\"\"\n",
    "    h = 0.0001\n",
    "    \n",
    "    a = Value(2.0, _label='a')\n",
    "    b = Value(-3.0, _label='b')\n",
    "    c = Value(10.0, _label='c')\n",
    "    e = a*b; e._label='e'\n",
    "    d = e + c; d._label ='d'\n",
    "    f = Value(-2.0, _label='f')\n",
    "    L = d * f; L._label = \"L\"\n",
    "    L1 = L.data\n",
    "    \n",
    "    # on ajoute `h` a notre Value `a`\n",
    "    a = Value(2.0 , _label='a')\n",
    "    b = Value(-3.0, _label='b')\n",
    "    c = Value(10.0, _label='c')\n",
    "    e = a*b; e._label='e'\n",
    "    d = e + c ; d._label ='d'\n",
    "    d.data +=h\n",
    "    f = Value(-2.0, _label='f')\n",
    "    L = d * f; L._label = \"L\"\n",
    "    L2 = L.data\n",
    "    \n",
    "    # calcul de la derive partiel de L with respect to 'a'\n",
    "    print((L2 - L1)/h)"
   ]
  },
  {
   "cell_type": "code",
   "execution_count": 10,
   "metadata": {},
   "outputs": [
    {
     "name": "stdout",
     "output_type": "stream",
     "text": [
      "-1.9999999999953388\n"
     ]
    }
   ],
   "source": [
    "partialz()"
   ]
  },
  {
   "cell_type": "markdown",
   "metadata": {},
   "source": [
    "We know that `L = d * f`, so what is `dL/dd?`? It is equal to `f`.\n",
    "\n",
    "Here is the proof :\n",
    "\n",
    ">Remember the equation for the derivative:\n",
    "$$\\frac{F(x+h)-F(x)}{h}$$\n",
    "\n",
    ">So in our case:\n",
    "$$\\frac{dL}{dd}=\\frac{(d+h)*f - (df)}{h}$$\n",
    "\n",
    ">Which when expanded gives:\n",
    "$$\\frac{df + hf - df}{h} = \\frac{ hf }{h} = f $$\n",
    "\n",
    "So the derivative of `L` with respect to `d` is `f`. And we know by definition that `f` is a `Value object` with an associated scalar value (stored in the `.data` attribute) of `-2.0`. So `dL/dd = -2.0`.\n",
    "\n",
    "Which is to say that the `gradient` of `d` with respect to `L` is `-2.0`.\n",
    "\n",
    "We can apply the same process to find that the grad `gradient` of `f` with respect to `L` is `4`."
   ]
  },
  {
   "cell_type": "code",
   "execution_count": 11,
   "metadata": {},
   "outputs": [],
   "source": [
    "# store manualy the gradient\n",
    "L.grad = 1\n",
    "d.grad = -2\n",
    "f.grad = 4"
   ]
  },
  {
   "cell_type": "markdown",
   "metadata": {},
   "source": [
    "Now how do we obtain `dL/dc`? Lets break it down into two steps:\n",
    "1. Find `dL/dd`\n",
    "2. Find `dd/dc`\n",
    "3. Apply the chain rule.\n",
    "\n",
    "We already know `dL/dd` so now need `dd/dc`. We know that `d = c + e` so `dd/dc = 1`. We can reuse the demonstration from the previous cell to show `dd/dc = 1` for `d = c + e` \n",
    "\n",
    ">So in our case:\n",
    "\n",
    "$$\\frac{dd}{dc}=\\frac{(c+h+e) - (c+e)}{h} = \\frac{h}{h} = 1 $$\n",
    "\n",
    "Now we just need to apply `the chain rule`, which definition can be found on wikipedia : \n",
    "The chain rule may also be expressed in Leibniz's notation. If a variable `z` depends on the variable `y`, which itself depends on the variable `x` (that is, `y` and `z` are dependent variables), then `z` depends on `x` as well, via the intermediate variable `y`. In this case, the chain rule is expressed as\n",
    "\n",
    "$${\\frac {dz}{dx}}={\\frac {dz}{dy}}\\cdot {\\frac {dy}{dx}}$$\n",
    "\n",
    "So what this tells us that we need to multiply the result of 1. with the result of 2., which means multiply :\n",
    "$$\\frac{dL}{dc} = \\frac{dL}{dd}*\\frac{dd}{dc} $$\n",
    "\n",
    "We calculated in `1.` that `dL/dd = f` and in `2.` that `dd/dc = 1`, so `dL/dc = 1*f = f`.  \n",
    "\n",
    "Which is to say that the `gradient` of `c` with respect to `L` is `-2.0`.\n",
    "\n",
    "We can apply the same process to find that the grad `gradient` of `e` with respect to `L` is `2.0`. \n",
    "\n",
    "**RQ:** les operations d'additions ne font que propager le gradient, c'est pourquoi `c.grad == e.grad == d.grad`, car `d` provient d'une operation d'addition"
   ]
  },
  {
   "cell_type": "code",
   "execution_count": 12,
   "metadata": {},
   "outputs": [],
   "source": [
    "c.grad = -2.0\n",
    "e.grad = -2.0"
   ]
  },
  {
   "cell_type": "code",
   "execution_count": 13,
   "metadata": {},
   "outputs": [
    {
     "data": {
      "image/svg+xml": [
       "<?xml version=\"1.0\" encoding=\"UTF-8\" standalone=\"no\"?>\n",
       "<!DOCTYPE svg PUBLIC \"-//W3C//DTD SVG 1.1//EN\"\n",
       " \"http://www.w3.org/Graphics/SVG/1.1/DTD/svg11.dtd\">\n",
       "<!-- Generated by graphviz version 2.50.0 (0)\n",
       " -->\n",
       "<!-- Pages: 1 -->\n",
       "<svg width=\"738pt\" height=\"210pt\"\n",
       " viewBox=\"0.00 0.00 738.00 210.00\" xmlns=\"http://www.w3.org/2000/svg\" xmlns:xlink=\"http://www.w3.org/1999/xlink\">\n",
       "<g id=\"graph0\" class=\"graph\" transform=\"scale(1 1) rotate(0) translate(4 206)\">\n",
       "<polygon fill=\"white\" stroke=\"transparent\" points=\"-4,4 -4,-206 734,-206 734,4 -4,4\"/>\n",
       "<!-- 2092954588736 -->\n",
       "<g id=\"node1\" class=\"node\">\n",
       "<title>2092954588736</title>\n",
       "<polygon fill=\"none\" stroke=\"black\" points=\"433,-44.5 433,-113.5 521,-113.5 521,-44.5 433,-44.5\"/>\n",
       "<text text-anchor=\"middle\" x=\"477\" y=\"-98.3\" font-family=\"Times New Roman,serif\" font-size=\"14.00\">node : d</text>\n",
       "<polyline fill=\"none\" stroke=\"black\" points=\"433,-90.5 521,-90.5 \"/>\n",
       "<text text-anchor=\"middle\" x=\"477\" y=\"-75.3\" font-family=\"Times New Roman,serif\" font-size=\"14.00\">value = 4.0</text>\n",
       "<polyline fill=\"none\" stroke=\"black\" points=\"433,-67.5 521,-67.5 \"/>\n",
       "<text text-anchor=\"middle\" x=\"477\" y=\"-52.3\" font-family=\"Times New Roman,serif\" font-size=\"14.00\">gradient = &#45;2</text>\n",
       "</g>\n",
       "<!-- 2092954588400* -->\n",
       "<g id=\"node8\" class=\"node\">\n",
       "<title>2092954588400*</title>\n",
       "<ellipse fill=\"none\" stroke=\"black\" cx=\"584\" cy=\"-123\" rx=\"27\" ry=\"18\"/>\n",
       "<text text-anchor=\"middle\" x=\"584\" y=\"-119.3\" font-family=\"Times New Roman,serif\" font-size=\"14.00\">*</text>\n",
       "</g>\n",
       "<!-- 2092954588736&#45;&gt;2092954588400* -->\n",
       "<g id=\"edge4\" class=\"edge\">\n",
       "<title>2092954588736&#45;&gt;2092954588400*</title>\n",
       "<path fill=\"none\" stroke=\"black\" d=\"M521.01,-97.02C531.1,-101.25 541.67,-105.68 551.17,-109.66\"/>\n",
       "<polygon fill=\"black\" stroke=\"black\" points=\"550.04,-112.98 560.61,-113.62 552.74,-106.53 550.04,-112.98\"/>\n",
       "</g>\n",
       "<!-- 2092954588736+ -->\n",
       "<g id=\"node2\" class=\"node\">\n",
       "<title>2092954588736+</title>\n",
       "<ellipse fill=\"none\" stroke=\"black\" cx=\"370\" cy=\"-79\" rx=\"27\" ry=\"18\"/>\n",
       "<text text-anchor=\"middle\" x=\"370\" y=\"-75.3\" font-family=\"Times New Roman,serif\" font-size=\"14.00\">+</text>\n",
       "</g>\n",
       "<!-- 2092954588736+&#45;&gt;2092954588736 -->\n",
       "<g id=\"edge1\" class=\"edge\">\n",
       "<title>2092954588736+&#45;&gt;2092954588736</title>\n",
       "<path fill=\"none\" stroke=\"black\" d=\"M397.23,-79C405.08,-79 413.99,-79 422.93,-79\"/>\n",
       "<polygon fill=\"black\" stroke=\"black\" points=\"422.97,-82.5 432.97,-79 422.97,-75.5 422.97,-82.5\"/>\n",
       "</g>\n",
       "<!-- 2092954588784 -->\n",
       "<g id=\"node3\" class=\"node\">\n",
       "<title>2092954588784</title>\n",
       "<polygon fill=\"none\" stroke=\"black\" points=\"209,-88.5 209,-157.5 307,-157.5 307,-88.5 209,-88.5\"/>\n",
       "<text text-anchor=\"middle\" x=\"258\" y=\"-142.3\" font-family=\"Times New Roman,serif\" font-size=\"14.00\">node : e</text>\n",
       "<polyline fill=\"none\" stroke=\"black\" points=\"209,-134.5 307,-134.5 \"/>\n",
       "<text text-anchor=\"middle\" x=\"258\" y=\"-119.3\" font-family=\"Times New Roman,serif\" font-size=\"14.00\">value = &#45;6.0</text>\n",
       "<polyline fill=\"none\" stroke=\"black\" points=\"209,-111.5 307,-111.5 \"/>\n",
       "<text text-anchor=\"middle\" x=\"258\" y=\"-96.3\" font-family=\"Times New Roman,serif\" font-size=\"14.00\">gradient = &#45;2.0</text>\n",
       "</g>\n",
       "<!-- 2092954588784&#45;&gt;2092954588736+ -->\n",
       "<g id=\"edge5\" class=\"edge\">\n",
       "<title>2092954588784&#45;&gt;2092954588736+</title>\n",
       "<path fill=\"none\" stroke=\"black\" d=\"M307.25,-103.7C317.25,-99.7 327.56,-95.58 336.82,-91.87\"/>\n",
       "<polygon fill=\"black\" stroke=\"black\" points=\"338.4,-95.01 346.39,-88.04 335.8,-88.51 338.4,-95.01\"/>\n",
       "</g>\n",
       "<!-- 2092954588784* -->\n",
       "<g id=\"node4\" class=\"node\">\n",
       "<title>2092954588784*</title>\n",
       "<ellipse fill=\"none\" stroke=\"black\" cx=\"146\" cy=\"-123\" rx=\"27\" ry=\"18\"/>\n",
       "<text text-anchor=\"middle\" x=\"146\" y=\"-119.3\" font-family=\"Times New Roman,serif\" font-size=\"14.00\">*</text>\n",
       "</g>\n",
       "<!-- 2092954588784*&#45;&gt;2092954588784 -->\n",
       "<g id=\"edge2\" class=\"edge\">\n",
       "<title>2092954588784*&#45;&gt;2092954588784</title>\n",
       "<path fill=\"none\" stroke=\"black\" d=\"M173.07,-123C180.82,-123 189.65,-123 198.6,-123\"/>\n",
       "<polygon fill=\"black\" stroke=\"black\" points=\"198.7,-126.5 208.7,-123 198.7,-119.5 198.7,-126.5\"/>\n",
       "</g>\n",
       "<!-- 2092954587296 -->\n",
       "<g id=\"node5\" class=\"node\">\n",
       "<title>2092954587296</title>\n",
       "<polygon fill=\"none\" stroke=\"black\" points=\"0,-132.5 0,-201.5 83,-201.5 83,-132.5 0,-132.5\"/>\n",
       "<text text-anchor=\"middle\" x=\"41.5\" y=\"-186.3\" font-family=\"Times New Roman,serif\" font-size=\"14.00\">node : b</text>\n",
       "<polyline fill=\"none\" stroke=\"black\" points=\"0,-178.5 83,-178.5 \"/>\n",
       "<text text-anchor=\"middle\" x=\"41.5\" y=\"-163.3\" font-family=\"Times New Roman,serif\" font-size=\"14.00\">value = &#45;3.0</text>\n",
       "<polyline fill=\"none\" stroke=\"black\" points=\"0,-155.5 83,-155.5 \"/>\n",
       "<text text-anchor=\"middle\" x=\"41.5\" y=\"-140.3\" font-family=\"Times New Roman,serif\" font-size=\"14.00\">gradient = 0</text>\n",
       "</g>\n",
       "<!-- 2092954587296&#45;&gt;2092954588784* -->\n",
       "<g id=\"edge9\" class=\"edge\">\n",
       "<title>2092954587296&#45;&gt;2092954588784*</title>\n",
       "<path fill=\"none\" stroke=\"black\" d=\"M83.01,-149.61C93.17,-145.25 103.91,-140.64 113.55,-136.5\"/>\n",
       "<polygon fill=\"black\" stroke=\"black\" points=\"114.95,-139.71 122.76,-132.55 112.19,-133.27 114.95,-139.71\"/>\n",
       "</g>\n",
       "<!-- 2092954589360 -->\n",
       "<g id=\"node6\" class=\"node\">\n",
       "<title>2092954589360</title>\n",
       "<polygon fill=\"none\" stroke=\"black\" points=\"0,-44.5 0,-113.5 83,-113.5 83,-44.5 0,-44.5\"/>\n",
       "<text text-anchor=\"middle\" x=\"41.5\" y=\"-98.3\" font-family=\"Times New Roman,serif\" font-size=\"14.00\">node : a</text>\n",
       "<polyline fill=\"none\" stroke=\"black\" points=\"0,-90.5 83,-90.5 \"/>\n",
       "<text text-anchor=\"middle\" x=\"41.5\" y=\"-75.3\" font-family=\"Times New Roman,serif\" font-size=\"14.00\">value = 2.0</text>\n",
       "<polyline fill=\"none\" stroke=\"black\" points=\"0,-67.5 83,-67.5 \"/>\n",
       "<text text-anchor=\"middle\" x=\"41.5\" y=\"-52.3\" font-family=\"Times New Roman,serif\" font-size=\"14.00\">gradient = 0</text>\n",
       "</g>\n",
       "<!-- 2092954589360&#45;&gt;2092954588784* -->\n",
       "<g id=\"edge7\" class=\"edge\">\n",
       "<title>2092954589360&#45;&gt;2092954588784*</title>\n",
       "<path fill=\"none\" stroke=\"black\" d=\"M83.01,-96.39C93.17,-100.75 103.91,-105.36 113.55,-109.5\"/>\n",
       "<polygon fill=\"black\" stroke=\"black\" points=\"112.19,-112.73 122.76,-113.45 114.95,-106.29 112.19,-112.73\"/>\n",
       "</g>\n",
       "<!-- 2092954588400 -->\n",
       "<g id=\"node7\" class=\"node\">\n",
       "<title>2092954588400</title>\n",
       "<polygon fill=\"none\" stroke=\"black\" points=\"647,-88.5 647,-157.5 730,-157.5 730,-88.5 647,-88.5\"/>\n",
       "<text text-anchor=\"middle\" x=\"688.5\" y=\"-142.3\" font-family=\"Times New Roman,serif\" font-size=\"14.00\">node : L</text>\n",
       "<polyline fill=\"none\" stroke=\"black\" points=\"647,-134.5 730,-134.5 \"/>\n",
       "<text text-anchor=\"middle\" x=\"688.5\" y=\"-119.3\" font-family=\"Times New Roman,serif\" font-size=\"14.00\">value = &#45;8.0</text>\n",
       "<polyline fill=\"none\" stroke=\"black\" points=\"647,-111.5 730,-111.5 \"/>\n",
       "<text text-anchor=\"middle\" x=\"688.5\" y=\"-96.3\" font-family=\"Times New Roman,serif\" font-size=\"14.00\">gradient = 1</text>\n",
       "</g>\n",
       "<!-- 2092954588400*&#45;&gt;2092954588400 -->\n",
       "<g id=\"edge3\" class=\"edge\">\n",
       "<title>2092954588400*&#45;&gt;2092954588400</title>\n",
       "<path fill=\"none\" stroke=\"black\" d=\"M611.13,-123C618.89,-123 627.67,-123 636.44,-123\"/>\n",
       "<polygon fill=\"black\" stroke=\"black\" points=\"636.67,-126.5 646.67,-123 636.67,-119.5 636.67,-126.5\"/>\n",
       "</g>\n",
       "<!-- 2092954588976 -->\n",
       "<g id=\"node9\" class=\"node\">\n",
       "<title>2092954588976</title>\n",
       "<polygon fill=\"none\" stroke=\"black\" points=\"209,-0.5 209,-69.5 307,-69.5 307,-0.5 209,-0.5\"/>\n",
       "<text text-anchor=\"middle\" x=\"258\" y=\"-54.3\" font-family=\"Times New Roman,serif\" font-size=\"14.00\">node : c</text>\n",
       "<polyline fill=\"none\" stroke=\"black\" points=\"209,-46.5 307,-46.5 \"/>\n",
       "<text text-anchor=\"middle\" x=\"258\" y=\"-31.3\" font-family=\"Times New Roman,serif\" font-size=\"14.00\">value = 10.0</text>\n",
       "<polyline fill=\"none\" stroke=\"black\" points=\"209,-23.5 307,-23.5 \"/>\n",
       "<text text-anchor=\"middle\" x=\"258\" y=\"-8.3\" font-family=\"Times New Roman,serif\" font-size=\"14.00\">gradient = &#45;2.0</text>\n",
       "</g>\n",
       "<!-- 2092954588976&#45;&gt;2092954588736+ -->\n",
       "<g id=\"edge6\" class=\"edge\">\n",
       "<title>2092954588976&#45;&gt;2092954588736+</title>\n",
       "<path fill=\"none\" stroke=\"black\" d=\"M307.25,-54.3C317.25,-58.3 327.56,-62.42 336.82,-66.13\"/>\n",
       "<polygon fill=\"black\" stroke=\"black\" points=\"335.8,-69.49 346.39,-69.96 338.4,-62.99 335.8,-69.49\"/>\n",
       "</g>\n",
       "<!-- 2092954589552 -->\n",
       "<g id=\"node10\" class=\"node\">\n",
       "<title>2092954589552</title>\n",
       "<polygon fill=\"none\" stroke=\"black\" points=\"435.5,-132.5 435.5,-201.5 518.5,-201.5 518.5,-132.5 435.5,-132.5\"/>\n",
       "<text text-anchor=\"middle\" x=\"477\" y=\"-186.3\" font-family=\"Times New Roman,serif\" font-size=\"14.00\">node : f</text>\n",
       "<polyline fill=\"none\" stroke=\"black\" points=\"435.5,-178.5 518.5,-178.5 \"/>\n",
       "<text text-anchor=\"middle\" x=\"477\" y=\"-163.3\" font-family=\"Times New Roman,serif\" font-size=\"14.00\">value = &#45;2.0</text>\n",
       "<polyline fill=\"none\" stroke=\"black\" points=\"435.5,-155.5 518.5,-155.5 \"/>\n",
       "<text text-anchor=\"middle\" x=\"477\" y=\"-140.3\" font-family=\"Times New Roman,serif\" font-size=\"14.00\">gradient = 4</text>\n",
       "</g>\n",
       "<!-- 2092954589552&#45;&gt;2092954588400* -->\n",
       "<g id=\"edge8\" class=\"edge\">\n",
       "<title>2092954589552&#45;&gt;2092954588400*</title>\n",
       "<path fill=\"none\" stroke=\"black\" d=\"M518.6,-149.99C529.44,-145.44 541,-140.6 551.29,-136.29\"/>\n",
       "<polygon fill=\"black\" stroke=\"black\" points=\"552.83,-139.44 560.7,-132.34 550.13,-132.98 552.83,-139.44\"/>\n",
       "</g>\n",
       "</g>\n",
       "</svg>\n"
      ],
      "text/plain": [
       "<graphviz.graphs.Digraph at 0x1e74dc800d0>"
      ]
     },
     "execution_count": 13,
     "metadata": {},
     "output_type": "execute_result"
    }
   ],
   "source": [
    "draw_dot(L)"
   ]
  },
  {
   "cell_type": "markdown",
   "metadata": {},
   "source": [
    "Finalement pour trouver les gradient de `a` et `b` on prend la `derive locale` de `e` et on la multiplie par `de/db` pour obtenir `b.grad` et par `de/da` pour obtenir `a.grad`. (On reaplique recursivement la chaine rule a partir des derives locales).\n",
    "\n",
    "1. `dL/de = -2.0`\n",
    "2. `de/da` = `b` = -3.0 \n",
    "3. `de/db` = `a` = 2.0 \n",
    "\n",
    "> donc `dL/da` = `dL/de` * `de/da` = -2.0 * -3.0 = 6.0\n",
    "\n",
    "> donc `dL/db` = `dL/de` * `de/db` = -2.0 * 2.0 = -4.0 "
   ]
  },
  {
   "cell_type": "code",
   "execution_count": 14,
   "metadata": {},
   "outputs": [],
   "source": [
    "b.grad = -4.0\n",
    "a.grad = 6.0"
   ]
  },
  {
   "cell_type": "code",
   "execution_count": 15,
   "metadata": {},
   "outputs": [
    {
     "data": {
      "image/svg+xml": [
       "<?xml version=\"1.0\" encoding=\"UTF-8\" standalone=\"no\"?>\n",
       "<!DOCTYPE svg PUBLIC \"-//W3C//DTD SVG 1.1//EN\"\n",
       " \"http://www.w3.org/Graphics/SVG/1.1/DTD/svg11.dtd\">\n",
       "<!-- Generated by graphviz version 2.50.0 (0)\n",
       " -->\n",
       "<!-- Pages: 1 -->\n",
       "<svg width=\"753pt\" height=\"210pt\"\n",
       " viewBox=\"0.00 0.00 753.00 210.00\" xmlns=\"http://www.w3.org/2000/svg\" xmlns:xlink=\"http://www.w3.org/1999/xlink\">\n",
       "<g id=\"graph0\" class=\"graph\" transform=\"scale(1 1) rotate(0) translate(4 206)\">\n",
       "<polygon fill=\"white\" stroke=\"transparent\" points=\"-4,4 -4,-206 749,-206 749,4 -4,4\"/>\n",
       "<!-- 2092954588736 -->\n",
       "<g id=\"node1\" class=\"node\">\n",
       "<title>2092954588736</title>\n",
       "<polygon fill=\"none\" stroke=\"black\" points=\"448,-44.5 448,-113.5 536,-113.5 536,-44.5 448,-44.5\"/>\n",
       "<text text-anchor=\"middle\" x=\"492\" y=\"-98.3\" font-family=\"Times New Roman,serif\" font-size=\"14.00\">node : d</text>\n",
       "<polyline fill=\"none\" stroke=\"black\" points=\"448,-90.5 536,-90.5 \"/>\n",
       "<text text-anchor=\"middle\" x=\"492\" y=\"-75.3\" font-family=\"Times New Roman,serif\" font-size=\"14.00\">value = 4.0</text>\n",
       "<polyline fill=\"none\" stroke=\"black\" points=\"448,-67.5 536,-67.5 \"/>\n",
       "<text text-anchor=\"middle\" x=\"492\" y=\"-52.3\" font-family=\"Times New Roman,serif\" font-size=\"14.00\">gradient = &#45;2</text>\n",
       "</g>\n",
       "<!-- 2092954588400* -->\n",
       "<g id=\"node8\" class=\"node\">\n",
       "<title>2092954588400*</title>\n",
       "<ellipse fill=\"none\" stroke=\"black\" cx=\"599\" cy=\"-123\" rx=\"27\" ry=\"18\"/>\n",
       "<text text-anchor=\"middle\" x=\"599\" y=\"-119.3\" font-family=\"Times New Roman,serif\" font-size=\"14.00\">*</text>\n",
       "</g>\n",
       "<!-- 2092954588736&#45;&gt;2092954588400* -->\n",
       "<g id=\"edge4\" class=\"edge\">\n",
       "<title>2092954588736&#45;&gt;2092954588400*</title>\n",
       "<path fill=\"none\" stroke=\"black\" d=\"M536.01,-97.02C546.1,-101.25 556.67,-105.68 566.17,-109.66\"/>\n",
       "<polygon fill=\"black\" stroke=\"black\" points=\"565.04,-112.98 575.61,-113.62 567.74,-106.53 565.04,-112.98\"/>\n",
       "</g>\n",
       "<!-- 2092954588736+ -->\n",
       "<g id=\"node2\" class=\"node\">\n",
       "<title>2092954588736+</title>\n",
       "<ellipse fill=\"none\" stroke=\"black\" cx=\"385\" cy=\"-79\" rx=\"27\" ry=\"18\"/>\n",
       "<text text-anchor=\"middle\" x=\"385\" y=\"-75.3\" font-family=\"Times New Roman,serif\" font-size=\"14.00\">+</text>\n",
       "</g>\n",
       "<!-- 2092954588736+&#45;&gt;2092954588736 -->\n",
       "<g id=\"edge1\" class=\"edge\">\n",
       "<title>2092954588736+&#45;&gt;2092954588736</title>\n",
       "<path fill=\"none\" stroke=\"black\" d=\"M412.23,-79C420.08,-79 428.99,-79 437.93,-79\"/>\n",
       "<polygon fill=\"black\" stroke=\"black\" points=\"437.97,-82.5 447.97,-79 437.97,-75.5 437.97,-82.5\"/>\n",
       "</g>\n",
       "<!-- 2092954588784 -->\n",
       "<g id=\"node3\" class=\"node\">\n",
       "<title>2092954588784</title>\n",
       "<polygon fill=\"none\" stroke=\"black\" points=\"224,-88.5 224,-157.5 322,-157.5 322,-88.5 224,-88.5\"/>\n",
       "<text text-anchor=\"middle\" x=\"273\" y=\"-142.3\" font-family=\"Times New Roman,serif\" font-size=\"14.00\">node : e</text>\n",
       "<polyline fill=\"none\" stroke=\"black\" points=\"224,-134.5 322,-134.5 \"/>\n",
       "<text text-anchor=\"middle\" x=\"273\" y=\"-119.3\" font-family=\"Times New Roman,serif\" font-size=\"14.00\">value = &#45;6.0</text>\n",
       "<polyline fill=\"none\" stroke=\"black\" points=\"224,-111.5 322,-111.5 \"/>\n",
       "<text text-anchor=\"middle\" x=\"273\" y=\"-96.3\" font-family=\"Times New Roman,serif\" font-size=\"14.00\">gradient = &#45;2.0</text>\n",
       "</g>\n",
       "<!-- 2092954588784&#45;&gt;2092954588736+ -->\n",
       "<g id=\"edge5\" class=\"edge\">\n",
       "<title>2092954588784&#45;&gt;2092954588736+</title>\n",
       "<path fill=\"none\" stroke=\"black\" d=\"M322.25,-103.7C332.25,-99.7 342.56,-95.58 351.82,-91.87\"/>\n",
       "<polygon fill=\"black\" stroke=\"black\" points=\"353.4,-95.01 361.39,-88.04 350.8,-88.51 353.4,-95.01\"/>\n",
       "</g>\n",
       "<!-- 2092954588784* -->\n",
       "<g id=\"node4\" class=\"node\">\n",
       "<title>2092954588784*</title>\n",
       "<ellipse fill=\"none\" stroke=\"black\" cx=\"161\" cy=\"-123\" rx=\"27\" ry=\"18\"/>\n",
       "<text text-anchor=\"middle\" x=\"161\" y=\"-119.3\" font-family=\"Times New Roman,serif\" font-size=\"14.00\">*</text>\n",
       "</g>\n",
       "<!-- 2092954588784*&#45;&gt;2092954588784 -->\n",
       "<g id=\"edge2\" class=\"edge\">\n",
       "<title>2092954588784*&#45;&gt;2092954588784</title>\n",
       "<path fill=\"none\" stroke=\"black\" d=\"M188.07,-123C195.82,-123 204.65,-123 213.6,-123\"/>\n",
       "<polygon fill=\"black\" stroke=\"black\" points=\"213.7,-126.5 223.7,-123 213.7,-119.5 213.7,-126.5\"/>\n",
       "</g>\n",
       "<!-- 2092954587296 -->\n",
       "<g id=\"node5\" class=\"node\">\n",
       "<title>2092954587296</title>\n",
       "<polygon fill=\"none\" stroke=\"black\" points=\"0,-132.5 0,-201.5 98,-201.5 98,-132.5 0,-132.5\"/>\n",
       "<text text-anchor=\"middle\" x=\"49\" y=\"-186.3\" font-family=\"Times New Roman,serif\" font-size=\"14.00\">node : b</text>\n",
       "<polyline fill=\"none\" stroke=\"black\" points=\"0,-178.5 98,-178.5 \"/>\n",
       "<text text-anchor=\"middle\" x=\"49\" y=\"-163.3\" font-family=\"Times New Roman,serif\" font-size=\"14.00\">value = &#45;3.0</text>\n",
       "<polyline fill=\"none\" stroke=\"black\" points=\"0,-155.5 98,-155.5 \"/>\n",
       "<text text-anchor=\"middle\" x=\"49\" y=\"-140.3\" font-family=\"Times New Roman,serif\" font-size=\"14.00\">gradient = &#45;4.0</text>\n",
       "</g>\n",
       "<!-- 2092954587296&#45;&gt;2092954588784* -->\n",
       "<g id=\"edge9\" class=\"edge\">\n",
       "<title>2092954587296&#45;&gt;2092954588784*</title>\n",
       "<path fill=\"none\" stroke=\"black\" d=\"M98.25,-147.7C108.25,-143.7 118.56,-139.58 127.82,-135.87\"/>\n",
       "<polygon fill=\"black\" stroke=\"black\" points=\"129.4,-139.01 137.39,-132.04 126.8,-132.51 129.4,-139.01\"/>\n",
       "</g>\n",
       "<!-- 2092954589360 -->\n",
       "<g id=\"node6\" class=\"node\">\n",
       "<title>2092954589360</title>\n",
       "<polygon fill=\"none\" stroke=\"black\" points=\"2,-44.5 2,-113.5 96,-113.5 96,-44.5 2,-44.5\"/>\n",
       "<text text-anchor=\"middle\" x=\"49\" y=\"-98.3\" font-family=\"Times New Roman,serif\" font-size=\"14.00\">node : a</text>\n",
       "<polyline fill=\"none\" stroke=\"black\" points=\"2,-90.5 96,-90.5 \"/>\n",
       "<text text-anchor=\"middle\" x=\"49\" y=\"-75.3\" font-family=\"Times New Roman,serif\" font-size=\"14.00\">value = 2.0</text>\n",
       "<polyline fill=\"none\" stroke=\"black\" points=\"2,-67.5 96,-67.5 \"/>\n",
       "<text text-anchor=\"middle\" x=\"49\" y=\"-52.3\" font-family=\"Times New Roman,serif\" font-size=\"14.00\">gradient = 6.0</text>\n",
       "</g>\n",
       "<!-- 2092954589360&#45;&gt;2092954588784* -->\n",
       "<g id=\"edge7\" class=\"edge\">\n",
       "<title>2092954589360&#45;&gt;2092954588784*</title>\n",
       "<path fill=\"none\" stroke=\"black\" d=\"M96.01,-97.41C106.79,-101.71 118.03,-106.21 128.04,-110.22\"/>\n",
       "<polygon fill=\"black\" stroke=\"black\" points=\"126.98,-113.56 137.57,-114.03 129.58,-107.06 126.98,-113.56\"/>\n",
       "</g>\n",
       "<!-- 2092954588400 -->\n",
       "<g id=\"node7\" class=\"node\">\n",
       "<title>2092954588400</title>\n",
       "<polygon fill=\"none\" stroke=\"black\" points=\"662,-88.5 662,-157.5 745,-157.5 745,-88.5 662,-88.5\"/>\n",
       "<text text-anchor=\"middle\" x=\"703.5\" y=\"-142.3\" font-family=\"Times New Roman,serif\" font-size=\"14.00\">node : L</text>\n",
       "<polyline fill=\"none\" stroke=\"black\" points=\"662,-134.5 745,-134.5 \"/>\n",
       "<text text-anchor=\"middle\" x=\"703.5\" y=\"-119.3\" font-family=\"Times New Roman,serif\" font-size=\"14.00\">value = &#45;8.0</text>\n",
       "<polyline fill=\"none\" stroke=\"black\" points=\"662,-111.5 745,-111.5 \"/>\n",
       "<text text-anchor=\"middle\" x=\"703.5\" y=\"-96.3\" font-family=\"Times New Roman,serif\" font-size=\"14.00\">gradient = 1</text>\n",
       "</g>\n",
       "<!-- 2092954588400*&#45;&gt;2092954588400 -->\n",
       "<g id=\"edge3\" class=\"edge\">\n",
       "<title>2092954588400*&#45;&gt;2092954588400</title>\n",
       "<path fill=\"none\" stroke=\"black\" d=\"M626.13,-123C633.89,-123 642.67,-123 651.44,-123\"/>\n",
       "<polygon fill=\"black\" stroke=\"black\" points=\"651.67,-126.5 661.67,-123 651.67,-119.5 651.67,-126.5\"/>\n",
       "</g>\n",
       "<!-- 2092954588976 -->\n",
       "<g id=\"node9\" class=\"node\">\n",
       "<title>2092954588976</title>\n",
       "<polygon fill=\"none\" stroke=\"black\" points=\"224,-0.5 224,-69.5 322,-69.5 322,-0.5 224,-0.5\"/>\n",
       "<text text-anchor=\"middle\" x=\"273\" y=\"-54.3\" font-family=\"Times New Roman,serif\" font-size=\"14.00\">node : c</text>\n",
       "<polyline fill=\"none\" stroke=\"black\" points=\"224,-46.5 322,-46.5 \"/>\n",
       "<text text-anchor=\"middle\" x=\"273\" y=\"-31.3\" font-family=\"Times New Roman,serif\" font-size=\"14.00\">value = 10.0</text>\n",
       "<polyline fill=\"none\" stroke=\"black\" points=\"224,-23.5 322,-23.5 \"/>\n",
       "<text text-anchor=\"middle\" x=\"273\" y=\"-8.3\" font-family=\"Times New Roman,serif\" font-size=\"14.00\">gradient = &#45;2.0</text>\n",
       "</g>\n",
       "<!-- 2092954588976&#45;&gt;2092954588736+ -->\n",
       "<g id=\"edge6\" class=\"edge\">\n",
       "<title>2092954588976&#45;&gt;2092954588736+</title>\n",
       "<path fill=\"none\" stroke=\"black\" d=\"M322.25,-54.3C332.25,-58.3 342.56,-62.42 351.82,-66.13\"/>\n",
       "<polygon fill=\"black\" stroke=\"black\" points=\"350.8,-69.49 361.39,-69.96 353.4,-62.99 350.8,-69.49\"/>\n",
       "</g>\n",
       "<!-- 2092954589552 -->\n",
       "<g id=\"node10\" class=\"node\">\n",
       "<title>2092954589552</title>\n",
       "<polygon fill=\"none\" stroke=\"black\" points=\"450.5,-132.5 450.5,-201.5 533.5,-201.5 533.5,-132.5 450.5,-132.5\"/>\n",
       "<text text-anchor=\"middle\" x=\"492\" y=\"-186.3\" font-family=\"Times New Roman,serif\" font-size=\"14.00\">node : f</text>\n",
       "<polyline fill=\"none\" stroke=\"black\" points=\"450.5,-178.5 533.5,-178.5 \"/>\n",
       "<text text-anchor=\"middle\" x=\"492\" y=\"-163.3\" font-family=\"Times New Roman,serif\" font-size=\"14.00\">value = &#45;2.0</text>\n",
       "<polyline fill=\"none\" stroke=\"black\" points=\"450.5,-155.5 533.5,-155.5 \"/>\n",
       "<text text-anchor=\"middle\" x=\"492\" y=\"-140.3\" font-family=\"Times New Roman,serif\" font-size=\"14.00\">gradient = 4</text>\n",
       "</g>\n",
       "<!-- 2092954589552&#45;&gt;2092954588400* -->\n",
       "<g id=\"edge8\" class=\"edge\">\n",
       "<title>2092954589552&#45;&gt;2092954588400*</title>\n",
       "<path fill=\"none\" stroke=\"black\" d=\"M533.6,-149.99C544.44,-145.44 556,-140.6 566.29,-136.29\"/>\n",
       "<polygon fill=\"black\" stroke=\"black\" points=\"567.83,-139.44 575.7,-132.34 565.13,-132.98 567.83,-139.44\"/>\n",
       "</g>\n",
       "</g>\n",
       "</svg>\n"
      ],
      "text/plain": [
       "<graphviz.graphs.Digraph at 0x1e74dc803d0>"
      ]
     },
     "execution_count": 15,
     "metadata": {},
     "output_type": "execute_result"
    }
   ],
   "source": [
    "# la premiere backward pass est completee :)\n",
    "draw_dot(L)"
   ]
  },
  {
   "cell_type": "code",
   "execution_count": null,
   "metadata": {},
   "outputs": [],
   "source": []
  },
  {
   "cell_type": "code",
   "execution_count": null,
   "metadata": {},
   "outputs": [],
   "source": []
  },
  {
   "cell_type": "code",
   "execution_count": null,
   "metadata": {},
   "outputs": [],
   "source": []
  },
  {
   "cell_type": "markdown",
   "metadata": {},
   "source": [
    "# Section a part."
   ]
  },
  {
   "cell_type": "code",
   "execution_count": null,
   "metadata": {},
   "outputs": [],
   "source": [
    "def g(x): \n",
    "    return a*x + c\n",
    "\n",
    "def plot_function(function, title=None, min=-2.1, max=2.1, color='r', ylim=None):\n",
    "    x = torch.linspace(min,max, 100)[:,None]\n",
    "    if ylim: plt.ylim(ylim)\n",
    "    plt.plot(x, function(x), color)\n",
    "    if title is not None: plt.title(title)"
   ]
  },
  {
   "cell_type": "code",
   "execution_count": null,
   "metadata": {},
   "outputs": [
    {
     "data": {
      "image/png": "[encoded data removed]",
      "text/plain": [
       "<Figure size 432x288 with 1 Axes>"
      ]
     },
     "metadata": {},
     "output_type": "display_data"
    }
   ],
   "source": [
    "plot_function(g, \"$ax + b$\")"
   ]
  },
  {
   "cell_type": "code",
   "execution_count": null,
   "metadata": {},
   "outputs": [],
   "source": [
    "def quadratic(a, b, c, x):\n",
    "    return a*x**2 - b*x + c"
   ]
  },
  {
   "cell_type": "code",
   "execution_count": null,
   "metadata": {},
   "outputs": [],
   "source": [
    "def create_quadratic(a, b, c):\n",
    "    # here we want to fix particular values of a, b, and c. \n",
    "    # To fix values passed to a function in python, we use the `partial` function\n",
    "    # Now the only value that can be passed to this function is x\n",
    "    return partial(quadratic, a, b, c)"
   ]
  },
  {
   "cell_type": "code",
   "execution_count": null,
   "metadata": {},
   "outputs": [],
   "source": [
    "f1 = create_quadratic(a=5, b=1 ,c=1)"
   ]
  },
  {
   "cell_type": "code",
   "execution_count": null,
   "metadata": {},
   "outputs": [
    {
     "data": {
      "text/plain": [
       "1"
      ]
     },
     "execution_count": 52,
     "metadata": {},
     "output_type": "execute_result"
    }
   ],
   "source": [
    "# What is the value of f1, for x = 0, a=5, b=1 and c=1\n",
    "f1(0)"
   ]
  },
  {
   "cell_type": "code",
   "execution_count": null,
   "metadata": {},
   "outputs": [
    {
     "data": {
      "text/plain": [
       "<matplotlib.collections.PathCollection at 0x7fb29feff4f0>"
      ]
     },
     "execution_count": 53,
     "metadata": {},
     "output_type": "execute_result"
    },
    {
     "data": {
      "image/png": "[encoded data removed]",
      "text/plain": [
       "<Figure size 432x288 with 1 Axes>"
      ]
     },
     "metadata": {
      "needs_background": "light"
     },
     "output_type": "display_data"
    }
   ],
   "source": [
    "# create our X\n",
    "np.random.seed(42)\n",
    "\n",
    "x = torch.linspace(-2, 2, steps=20)[:,None]\n",
    "plt.scatter(x,f(x))"
   ]
  },
  {
   "cell_type": "code",
   "execution_count": null,
   "metadata": {},
   "outputs": [],
   "source": [
    "def plot_function(f, title=None, min=-2.1, max=2.1, color='r', ylim=None):\n",
    "    x = torch.linspace(min,max, 100)[:,None]\n",
    "    if ylim: plt.ylim(ylim)\n",
    "    plt.plot(x, f(x), color)\n",
    "    if title is not None: plt.title(title)"
   ]
  },
  {
   "cell_type": "code",
   "execution_count": null,
   "metadata": {},
   "outputs": [
    {
     "data": {
      "application/vnd.jupyter.widget-view+json": {
       "model_id": "866fe90356694db8a78b86b18feb7f6c",
       "version_major": 2,
       "version_minor": 0
      },
      "text/plain": [
       "interactive(children=(IntSlider(value=5, description='a', max=10, min=1), IntSlider(value=0, description='b', …"
      ]
     },
     "metadata": {},
     "output_type": "display_data"
    }
   ],
   "source": [
    "@interact(a=(1, 10), b=(-5, 5), c=(-10, 10))\n",
    "def plot_quadratic(a, b, c):\n",
    "    x = np.arange(-10, 10)\n",
    "    y = [a*i**2 + b*i + c for i in x]\n",
    "    plot_function(create_quadratic(a,b,c), ylim=(-3,13))\n",
    "    plt.show()"
   ]
  },
  {
   "cell_type": "code",
   "execution_count": null,
   "metadata": {},
   "outputs": [],
   "source": []
  },
  {
   "cell_type": "code",
   "execution_count": null,
   "metadata": {},
   "outputs": [],
   "source": []
  },
  {
   "cell_type": "code",
   "execution_count": null,
   "metadata": {},
   "outputs": [],
   "source": []
  },
  {
   "cell_type": "code",
   "execution_count": null,
   "metadata": {},
   "outputs": [],
   "source": []
  },
  {
   "cell_type": "code",
   "execution_count": null,
   "metadata": {},
   "outputs": [],
   "source": []
  },
  {
   "cell_type": "markdown",
   "metadata": {},
   "source": []
  }
 ],
 "metadata": {
  "kernelspec": {
   "display_name": "geom",
   "language": "python",
   "name": "geom"
  },
  "language_info": {
   "codemirror_mode": {
    "name": "ipython",
    "version": 3
   },
   "file_extension": ".py",
   "mimetype": "text/x-python",
   "name": "python",
   "nbconvert_exporter": "python",
   "pygments_lexer": "ipython3",
   "version": "3.9.12"
  },
  "vscode": {
   "interpreter": {
    "hash": "fd56026f2b05766b384bda98bf43b7f8069d59423fa5eac20528b5581d6a0883"
   }
  }
 },
 "nbformat": 4,
 "nbformat_minor": 2
}
