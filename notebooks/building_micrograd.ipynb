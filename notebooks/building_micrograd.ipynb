{
 "cells": [
  {
   "cell_type": "code",
   "execution_count": 1,
   "metadata": {},
   "outputs": [],
   "source": [
    "import sys\n",
    "# module_path = \"/home/john-ubu/dev/minigrad\"\n",
    "module_path  =\"C:\\\\Users\\\\mmonn\\\\Desktop\\\\torch\\\\pytorch_autrograd_reimplementation\"\n",
    "# Check if the module path is already in sys.path\n",
    "if module_path not in sys.path:\n",
    "    # Add the module path to sys.path\n",
    "    sys.path.append(module_path)"
   ]
  },
  {
   "cell_type": "code",
   "execution_count": 2,
   "metadata": {},
   "outputs": [],
   "source": [
    "import math\n",
    "import matplotlib.pyplot as plt\n",
    "import numpy as np\n",
    "import torch\n",
    "from ipywidgets import interact\n",
    "from functools import partial\n",
    "from src.utils import retain\n",
    "%matplotlib inline"
   ]
  },
  {
   "cell_type": "code",
   "execution_count": 3,
   "metadata": {},
   "outputs": [],
   "source": [
    "# define our quadratic function\n",
    "def f(x):\n",
    "    return 3*x**2 - 4*x + 5"
   ]
  },
  {
   "cell_type": "code",
   "execution_count": 4,
   "metadata": {},
   "outputs": [
    {
     "data": {
      "text/plain": [
       "4"
      ]
     },
     "execution_count": 4,
     "metadata": {},
     "output_type": "execute_result"
    }
   ],
   "source": [
    "# verification\n",
    "assert f(1) == 3*1**2 - 4*1 + 5\n",
    "f(1)"
   ]
  },
  {
   "cell_type": "code",
   "execution_count": 5,
   "metadata": {},
   "outputs": [
    {
     "data": {
      "image/png": "[encoded data removed]",
      "text/plain": [
       "<Figure size 432x288 with 1 Axes>"
      ]
     },
     "metadata": {
      "needs_background": "light"
     },
     "output_type": "display_data"
    }
   ],
   "source": [
    "# plot the function\n",
    "xs = np.arange(-5, 5, 0.25)\n",
    "ys = f(xs)\n",
    "plt.plot(xs, ys)\n",
    "plt.show()"
   ]
  },
  {
   "cell_type": "markdown",
   "metadata": {},
   "source": [
    "## Partial derivative w.r.t single variable"
   ]
  },
  {
   "cell_type": "markdown",
   "metadata": {},
   "source": [
    "**definition of being differentiable**::\n",
    "$${\\displaystyle L=\\lim _{h\\to 0}{\\frac {f(x+h)-f(x)}{h}}}$$\n",
    "\n",
    "In other words,  it is the limit as `h` goes to 0 of\n",
    "$${\\frac {f(x+h)-f(x)}{h}}$$\n",
    "\n",
    "**RQ**: What it's saying is if you're at some point `x` \n",
    "that you're interested in, and if you slightly increase it by\n",
    "small number `h`, how does the function respond and with what sensitivity does it respond. So what we really want to know is what is the slope at that point; does the function go up or does it go down? and by how much? \n",
    "\n",
    "So we can basically evaluate the derivative here numerically by taking a very small `h`. Of course the definition would ask us to take an `h` value of 0 but we're just going to pick a very small `h`, let's say     0.001, and let's say we're interested in point 3.0. \n",
    "We look at `f(x)` for `x=3` and see the value is `20`. so if we nudge `x` by a very small amount `h`, how will the function respond?"
   ]
  },
  {
   "cell_type": "code",
   "execution_count": 44,
   "metadata": {},
   "outputs": [
    {
     "name": "stdout",
     "output_type": "stream",
     "text": [
      "The slope for f(x) at x = 3 is 14.000\n"
     ]
    }
   ],
   "source": [
    "# check derivate at x = 3 --> nugding up leads to increase in value\n",
    "h = 0.0001\n",
    "x = 3\n",
    "slope = (f(x+h)-f(x))/h\n",
    "\n",
    "print(f\"The slope for f(x) at x = 3 is {slope :.3f}\")"
   ]
  },
  {
   "cell_type": "code",
   "execution_count": 45,
   "metadata": {},
   "outputs": [
    {
     "name": "stdout",
     "output_type": "stream",
     "text": [
      "The slope for f(x) at x = -3 is -22.000\n"
     ]
    }
   ],
   "source": [
    "# check derivate at x = -3 --> nugding up leads to decrease in value\n",
    "h = 0.0001\n",
    "x = -3\n",
    "slope = (f(x+h)-f(x))/h\n",
    "\n",
    "print(f\"The slope for f(x) at x = -3 is {slope:.3f}\")"
   ]
  },
  {
   "cell_type": "code",
   "execution_count": 46,
   "metadata": {},
   "outputs": [
    {
     "name": "stdout",
     "output_type": "stream",
     "text": [
      "The slope for f(x) at x = 2/3 is 0.000\n"
     ]
    }
   ],
   "source": [
    "# check derivate at x = 2/3 --> nugding up leads to no change in value \n",
    "h = 0.0001\n",
    "x = 2/3\n",
    "slope = (f(x+h)-f(x))/h\n",
    "\n",
    "print(f\"The slope for f(x) at x = 2/3 is {slope:.3f}\")"
   ]
  },
  {
   "cell_type": "code",
   "execution_count": 47,
   "metadata": {},
   "outputs": [
    {
     "name": "stdout",
     "output_type": "stream",
     "text": [
      "The slope for f(x) at x = 3 is 14.000\n",
      "The slope for f(x) at x = -3 is -22.000\n",
      "The slope for f(x) at x = 2/3 is 0.000\n"
     ]
    }
   ],
   "source": [
    "# Double check result w/ pytorch\n",
    "# pour differentes valeures de x\n",
    "x = torch.tensor([3.0,-3.0,2/3], requires_grad=True)\n",
    "# pour une fonction f donnee  \n",
    "y = 3*x**2 - 4*x + 5\n",
    "\n",
    "gradients = torch.autograd.grad(y, x, create_graph=True, retain_graph=True, grad_outputs=torch.ones_like(x))\n",
    "x1, x2, x3 = gradients[0]\n",
    "print(f\"The slope for f(x) at x = 3 is {x1:.3f}\")\n",
    "print(f\"The slope for f(x) at x = -3 is {x2:.3f}\")\n",
    "print(f\"The slope for f(x) at x = 2/3 is {x3:.3f}\")"
   ]
  },
  {
   "cell_type": "markdown",
   "metadata": {},
   "source": [
    "# Partial derivative w.r.t multiple variables"
   ]
  },
  {
   "cell_type": "markdown",
   "metadata": {},
   "source": [
    "In order to evaluate this derivative we're going to get a bit hacky here:\n",
    "\n",
    " We're going to again have a very small value of `h` and then we're going to fix the inputs at some values that we're interested in (`a`,`b` and `c`).\n",
    "\n",
    "After that we're going to be evaluating the the derivative of `d` with respect to `a`, `b` and `c` at that point. \n",
    "\n",
    "1. First we'll look at the derivative of `d` with respect to `a`; so we'll take `a`and we'll bump it by `h` and compare it to d2 which is the exact same function without the bump."
   ]
  },
  {
   "cell_type": "code",
   "execution_count": 48,
   "metadata": {},
   "outputs": [
    {
     "name": "stdout",
     "output_type": "stream",
     "text": [
      "4.0\n"
     ]
    }
   ],
   "source": [
    "# our bump\n",
    "h = 0.0001\n",
    "\n",
    "# inputs at which we'll evaluate the derivative of d with respect to a, b and c.\n",
    "a = 2.0\n",
    "b = -3.0\n",
    "c = 10.0\n",
    "d = a*b + c\n",
    "print(d)"
   ]
  },
  {
   "cell_type": "code",
   "execution_count": 49,
   "metadata": {},
   "outputs": [
    {
     "name": "stdout",
     "output_type": "stream",
     "text": [
      "d1 : 4.0\n",
      "d2 : 3.999699999999999\n",
      "slope (gradient) with respect to a: -3.000\n"
     ]
    }
   ],
   "source": [
    "# equation for d1 (adding h to a), so partial derivative of d with respect to a\n",
    "d1 = a*b + c\n",
    "a += h\n",
    "\n",
    "# equation for d2 (without adding h to a)\n",
    "d2 = a*b + c\n",
    "\n",
    "print(f\"d1 : {d1}\")\n",
    "print(f\"d2 : {d2}\")\n",
    "# difference between d2 and d1, normalized by h, with respect to a\n",
    "print(f\"slope (gradient) with respect to a: {(d2-d1)/h:.3f}\")"
   ]
  },
  {
   "cell_type": "code",
   "execution_count": 50,
   "metadata": {},
   "outputs": [
    {
     "name": "stdout",
     "output_type": "stream",
     "text": [
      "d1 : 3.999699999999999\n",
      "d2 : 3.99990001\n",
      "slope (gradient) with respect to b: 2.000\n"
     ]
    }
   ],
   "source": [
    "# equation for d1 (adding h to a), so partial derivative of d with respect to b\n",
    "d1 = a*b + c\n",
    "b += h\n",
    "\n",
    "# equation for d2 (without adding h to b)\n",
    "d2 = a*b + c\n",
    "\n",
    "print(f\"d1 : {d1}\")\n",
    "print(f\"d2 : {d2}\")\n",
    "# difference between d2 and d1, normalized by h, with respect to b\n",
    "print(f\"slope (gradient) with respect to b: {(d2-d1)/h:.3f}\")"
   ]
  },
  {
   "cell_type": "code",
   "execution_count": 51,
   "metadata": {},
   "outputs": [
    {
     "name": "stdout",
     "output_type": "stream",
     "text": [
      "d1 : 3.99990001\n",
      "d2 : 4.00000001\n",
      "slope  (gradient) with respect to c : 1.000\n"
     ]
    }
   ],
   "source": [
    "# equation for d1 (adding h to a), so partial derivative of d with respect to c\n",
    "d1 = a*b + c\n",
    "c += h\n",
    "\n",
    "# equation for d2 (without adding h to c)\n",
    "d2 = a*b + c\n",
    "\n",
    "print(f\"d1 : {d1}\")\n",
    "print(f\"d2 : {d2}\")\n",
    "# difference between d2 and d1, normalized by h, with respect to c\n",
    "print(f\"slope  (gradient) with respect to c : {(d2-d1)/h:.3f}\")"
   ]
  },
  {
   "cell_type": "code",
   "execution_count": 52,
   "metadata": {},
   "outputs": [
    {
     "name": "stdout",
     "output_type": "stream",
     "text": [
      "a.grad : -3.0 || b.grad : 2.0 || c.grad : 1.0\n"
     ]
    }
   ],
   "source": [
    "# Double check result w/ pytorch\n",
    "a,b,c = torch.tensor([2.0,-3.0,10.0], requires_grad=True)\n",
    "y = a*b + c\n",
    "retain(a,b,c)\n",
    "y.backward()\n",
    "print(f\"a.grad : {a.grad} || b.grad : {b.grad} || c.grad : {c.grad}\")"
   ]
  },
  {
   "cell_type": "markdown",
   "metadata": {},
   "source": [
    "However, we can't write out neural networks as mathematical expressions, they'd be monstrous, so instead what we're going to do is build a `Value Object`."
   ]
  },
  {
   "cell_type": "code",
   "execution_count": 53,
   "metadata": {},
   "outputs": [],
   "source": [
    "class Value:\n",
    "    def __init__(self, data):\n",
    "        self.data = data\n",
    "    \n",
    "    #  decide of the output string representation of data  \n",
    "    # in human readable format \n",
    "    def __repr__(self) -> str:\n",
    "        return f\"Value(data={self.data})\""
   ]
  },
  {
   "cell_type": "code",
   "execution_count": 54,
   "metadata": {},
   "outputs": [
    {
     "data": {
      "text/plain": [
       "Value(data=2.0)"
      ]
     },
     "execution_count": 54,
     "metadata": {},
     "output_type": "execute_result"
    }
   ],
   "source": [
    "a = Value(2.0)\n",
    "a"
   ]
  },
  {
   "cell_type": "code",
   "execution_count": 55,
   "metadata": {},
   "outputs": [
    {
     "name": "stdout",
     "output_type": "stream",
     "text": [
      "unsupported operand type(s) for +: 'Value' and 'Value'\n",
      "We have not implemented additions between two Value objects (yet!!)\n"
     ]
    }
   ],
   "source": [
    "# what if we want to add two Value objects?\n",
    "a = Value(2.0)\n",
    "b = Value(3.0)\n",
    "\n",
    "try:\n",
    "    c = a + b\n",
    "    \n",
    "except Exception as e:\n",
    "    print(e)\n",
    "    print(f\"We have not implemented additions between two Value objects (yet!!)\")\n",
    "\n",
    "else:\n",
    "    print(c)\n",
    "    print(\"We have succesfully added two Value objects!!\")"
   ]
  },
  {
   "cell_type": "markdown",
   "metadata": {},
   "source": [
    "### Adding an __add__ method"
   ]
  },
  {
   "cell_type": "code",
   "execution_count": 56,
   "metadata": {},
   "outputs": [],
   "source": [
    "class Value:\n",
    "    def __init__(self, data):\n",
    "        self.data = data\n",
    "    \n",
    "    #  decide of the output string representation of data   \n",
    "    def __repr__(self) -> str:\n",
    "        return f\"Value(data={self.data})\"\n",
    "\n",
    "    # define addition\n",
    "    def __add__(self, other):\n",
    "        # creer un nouvel object Value qui contient la somme des deux\n",
    "        summation = Value(self.data + other.data)\n",
    "        return summation"
   ]
  },
  {
   "cell_type": "code",
   "execution_count": 57,
   "metadata": {},
   "outputs": [
    {
     "name": "stdout",
     "output_type": "stream",
     "text": [
      "Value(data=5.0)\n",
      "We have succesfully added two Value objects!!\n"
     ]
    }
   ],
   "source": [
    "# Now that we have added the __add__ method, we can add two Value objects.\n",
    "a = Value(2.0)\n",
    "b = Value(3.0)\n",
    "\n",
    "try:\n",
    "    c = a+b\n",
    "except Exception as e:\n",
    "    print(e)\n",
    "    print(f\"We have not implemented additions between two Value objects (yet!!)\")\n",
    "\n",
    "else:\n",
    "    print(c)\n",
    "    print(\"We have succesfully added two Value objects!!\")"
   ]
  },
  {
   "cell_type": "markdown",
   "metadata": {},
   "source": [
    "### Adding a __mult__ method"
   ]
  },
  {
   "cell_type": "code",
   "execution_count": 58,
   "metadata": {},
   "outputs": [],
   "source": [
    "# define multiplication\n",
    "def __mul__(self, other):\n",
    "    mult = Value(self.data * other.data)\n",
    "    return mult"
   ]
  },
  {
   "cell_type": "code",
   "execution_count": 59,
   "metadata": {},
   "outputs": [],
   "source": [
    "# monkey patch it to our Value class\n",
    "Value.__mul__ = __mul__"
   ]
  },
  {
   "cell_type": "code",
   "execution_count": 60,
   "metadata": {},
   "outputs": [
    {
     "name": "stdout",
     "output_type": "stream",
     "text": [
      "Value(data=4.0)\n",
      "Value(data=4.0)\n"
     ]
    }
   ],
   "source": [
    "a = Value(2.0)\n",
    "b = Value(-3.0)\n",
    "c = Value(10.0)\n",
    "print(a*b + c)\n",
    "print((a.__mul__(b).__add__(c)))"
   ]
  },
  {
   "cell_type": "markdown",
   "metadata": {},
   "source": [
    "# Putting the computational graph together\n",
    "\n",
    "So now what we are missing is the connective tissue of this expression. We want to build a computational graph so we need to know and\n",
    "keep pointers about what values produce what other values so here for example we are going to\n",
    "introduce a new variable which we'll call children and by default it will be an empty tuple. Then we will keep a\n",
    "slightly different variable in the class which we'll call underscore prev which will be the set of children."
   ]
  },
  {
   "cell_type": "code",
   "execution_count": 42,
   "metadata": {},
   "outputs": [],
   "source": [
    "class Value :\n",
    "\n",
    "    def __init__(self, data, _children=(), _op=''):\n",
    "        self.data = data\n",
    "        # tuple turned into set for efficiency\n",
    "        self._prev = set(_children)\n",
    "        # by default _op is the empty set for leaf nodes\n",
    "        self._op = _op\n",
    "  \n",
    "    def __repr__(self) -> str:\n",
    "        return f\"Value(data={self.data})\"\n",
    "\n",
    "    def __add__(self, other):\n",
    "        # now we store the children in the new Value object to keep track of them on the computational graph\n",
    "        # the children are the initial Value objects that were used to create the new Value object\n",
    "        summation = Value(self.data + other.data, _children=(self, other), _op=\"+\")\n",
    "        return summation\n",
    "\n",
    "    def __mul__(self, other):\n",
    "        # now we store the children in the new Value object to keep track of them on the computational graph\n",
    "        # the children are the initial Value objects that were used to create the new Value object\n",
    "        mult = Value(self.data * other.data, _children=(self, other), _op=\"*\")\n",
    "        return mult\n"
   ]
  },
  {
   "cell_type": "code",
   "execution_count": 43,
   "metadata": {},
   "outputs": [],
   "source": [
    "a = Value(2.0)\n",
    "b = Value(-3.0)\n",
    "c = Value(10.0)\n",
    "d = a*b\n",
    "e = d + c"
   ]
  },
  {
   "cell_type": "code",
   "execution_count": 44,
   "metadata": {},
   "outputs": [
    {
     "name": "stdout",
     "output_type": "stream",
     "text": [
      "Children : {Value(data=-3.0), Value(data=2.0)} || Operation applied : *\n",
      "Children : {Value(data=-6.0), Value(data=10.0)} || Operation applied : +\n"
     ]
    }
   ],
   "source": [
    "print(f\"Children : {d._prev} || Operation applied : {d._op}\")\n",
    "print(f\"Children : {e._prev} || Operation applied : {e._op}\")"
   ]
  },
  {
   "cell_type": "markdown",
   "metadata": {},
   "source": [
    "## Visualizing the code"
   ]
  },
  {
   "cell_type": "code",
   "execution_count": 45,
   "metadata": {},
   "outputs": [],
   "source": [
    "from graphviz import Digraph"
   ]
  },
  {
   "cell_type": "code",
   "execution_count": 46,
   "metadata": {},
   "outputs": [],
   "source": [
    "class Value :\n",
    "\n",
    "    def __init__(self, data, _children=(), _op='', _label=''):\n",
    "        self.data = data\n",
    "        # tuple turned into set for efficiency\n",
    "        self._prev = set(_children)\n",
    "        # by default _op is the empty set for leaf nodes\n",
    "        self._op = _op\n",
    "        # _label is the label associated with the node\n",
    "        self._label = _label\n",
    "  \n",
    "    def __repr__(self) -> str:\n",
    "        return f\"Value(data={self.data})\"\n",
    "\n",
    "    def __add__(self, other):\n",
    "        # now we store the children in the new Value object to keep track of them on the computational graph\n",
    "        # the children are the initial Value objects that were used to create the new Value object\n",
    "        summation = Value(self.data + other.data, _children=(self, other), _op=\"+\")\n",
    "        return summation\n",
    "\n",
    "    def __mul__(self, other):\n",
    "        # now we store the children in the new Value object to keep track of them on the computational graph\n",
    "        # the children are the initial Value objects that were used to create the new Value object\n",
    "        mult = Value(self.data * other.data, _children=(self, other), _op=\"*\")\n",
    "        return mult\n"
   ]
  },
  {
   "cell_type": "code",
   "execution_count": 47,
   "metadata": {},
   "outputs": [],
   "source": [
    "def trace(root):\n",
    "    # node: is the Value object being considered\n",
    "    # edges : the two objects Value that created the node being considered\n",
    "    nodes, edges = set(), set()\n",
    "    def build(v):\n",
    "        # prend initialement comme intrant le root node, puis\n",
    "        # recursivement chaqune des child nodes\n",
    "        if v not in nodes:\n",
    "            nodes.add(v)\n",
    "            for child in v._prev:\n",
    "                edges.add((child, v))\n",
    "                # la recursion se passe ici\n",
    "                build(child)\n",
    "                \n",
    "    # Finalement on construit tous les nodes et edges ici\n",
    "    build(root)\n",
    "    return nodes, edges\n",
    "\n",
    "def draw_dot(root, format='svg', rankdir='LR'):\n",
    "    dot = Digraph(format=format, graph_attr={'rankdir': rankdir}) #, node_attr={'rankdir': 'TB'})\n",
    "   \n",
    "    nodes, edges = trace(root)\n",
    "    \n",
    "    \n",
    "    for n in nodes:\n",
    "        uid = str(id(n))\n",
    "        dot.node(name=uid, label = \"{ %s | data %.4f }\" % (n._label, n.data), shape='record')\n",
    "        if n._op:\n",
    "            dot.node(name=str(id(n)) + n._op, label=n._op)\n",
    "            dot.edge(str(id(n)) + n._op, str(id(n)))\n",
    "    \n",
    "    for n1, n2 in edges:\n",
    "        dot.edge(str(id(n1)), str(id(n2)) + n2._op)\n",
    "    \n",
    "    return dot"
   ]
  },
  {
   "cell_type": "code",
   "execution_count": 48,
   "metadata": {},
   "outputs": [],
   "source": [
    "a = Value(2.0, _label='a')\n",
    "b = Value(-3.0, _label='b')\n",
    "c = Value(10.0, _label='c')\n",
    "e = a*b; e._label='e'\n",
    "d = e + c; d._label ='d'\n",
    "f = Value(-2.0, _label='f')\n",
    "L = d * f; L._label = \"L\""
   ]
  },
  {
   "cell_type": "code",
   "execution_count": 49,
   "metadata": {},
   "outputs": [
    {
     "data": {
      "image/svg+xml": [
       "<?xml version=\"1.0\" encoding=\"UTF-8\" standalone=\"no\"?>\n",
       "<!DOCTYPE svg PUBLIC \"-//W3C//DTD SVG 1.1//EN\"\n",
       " \"http://www.w3.org/Graphics/SVG/1.1/DTD/svg11.dtd\">\n",
       "<!-- Generated by graphviz version 2.50.0 (0)\n",
       " -->\n",
       "<!-- Pages: 1 -->\n",
       "<svg width=\"820pt\" height=\"154pt\"\n",
       " viewBox=\"0.00 0.00 820.00 154.00\" xmlns=\"http://www.w3.org/2000/svg\" xmlns:xlink=\"http://www.w3.org/1999/xlink\">\n",
       "<g id=\"graph0\" class=\"graph\" transform=\"scale(1 1) rotate(0) translate(4 150)\">\n",
       "<polygon fill=\"white\" stroke=\"transparent\" points=\"-4,4 -4,-150 816,-150 816,4 -4,4\"/>\n",
       "<!-- 2190922972704 -->\n",
       "<g id=\"node1\" class=\"node\">\n",
       "<title>2190922972704</title>\n",
       "<polygon fill=\"none\" stroke=\"black\" points=\"235,-27.5 235,-63.5 343,-63.5 343,-27.5 235,-27.5\"/>\n",
       "<text text-anchor=\"middle\" x=\"246.5\" y=\"-41.8\" font-family=\"Times New Roman,serif\" font-size=\"14.00\">e</text>\n",
       "<polyline fill=\"none\" stroke=\"black\" points=\"258,-27.5 258,-63.5 \"/>\n",
       "<text text-anchor=\"middle\" x=\"300.5\" y=\"-41.8\" font-family=\"Times New Roman,serif\" font-size=\"14.00\">data &#45;6.0000</text>\n",
       "</g>\n",
       "<!-- 2190922972656+ -->\n",
       "<g id=\"node10\" class=\"node\">\n",
       "<title>2190922972656+</title>\n",
       "<ellipse fill=\"none\" stroke=\"black\" cx=\"407\" cy=\"-72.5\" rx=\"27\" ry=\"18\"/>\n",
       "<text text-anchor=\"middle\" x=\"407\" y=\"-68.8\" font-family=\"Times New Roman,serif\" font-size=\"14.00\">+</text>\n",
       "</g>\n",
       "<!-- 2190922972704&#45;&gt;2190922972656+ -->\n",
       "<g id=\"edge4\" class=\"edge\">\n",
       "<title>2190922972704&#45;&gt;2190922972656+</title>\n",
       "<path fill=\"none\" stroke=\"black\" d=\"M343.25,-57.89C352.75,-60.11 362.43,-62.36 371.24,-64.41\"/>\n",
       "<polygon fill=\"black\" stroke=\"black\" points=\"370.6,-67.85 381.14,-66.71 372.19,-61.04 370.6,-67.85\"/>\n",
       "</g>\n",
       "<!-- 2190922972704* -->\n",
       "<g id=\"node2\" class=\"node\">\n",
       "<title>2190922972704*</title>\n",
       "<ellipse fill=\"none\" stroke=\"black\" cx=\"171\" cy=\"-45.5\" rx=\"27\" ry=\"18\"/>\n",
       "<text text-anchor=\"middle\" x=\"171\" y=\"-41.8\" font-family=\"Times New Roman,serif\" font-size=\"14.00\">*</text>\n",
       "</g>\n",
       "<!-- 2190922972704*&#45;&gt;2190922972704 -->\n",
       "<g id=\"edge1\" class=\"edge\">\n",
       "<title>2190922972704*&#45;&gt;2190922972704</title>\n",
       "<path fill=\"none\" stroke=\"black\" d=\"M198.03,-45.5C206.08,-45.5 215.32,-45.5 224.74,-45.5\"/>\n",
       "<polygon fill=\"black\" stroke=\"black\" points=\"224.99,-49 234.99,-45.5 224.99,-42 224.99,-49\"/>\n",
       "</g>\n",
       "<!-- 2190922887120 -->\n",
       "<g id=\"node3\" class=\"node\">\n",
       "<title>2190922887120</title>\n",
       "<polygon fill=\"none\" stroke=\"black\" points=\"702,-81.5 702,-117.5 812,-117.5 812,-81.5 702,-81.5\"/>\n",
       "<text text-anchor=\"middle\" x=\"714.5\" y=\"-95.8\" font-family=\"Times New Roman,serif\" font-size=\"14.00\">L</text>\n",
       "<polyline fill=\"none\" stroke=\"black\" points=\"727,-81.5 727,-117.5 \"/>\n",
       "<text text-anchor=\"middle\" x=\"769.5\" y=\"-95.8\" font-family=\"Times New Roman,serif\" font-size=\"14.00\">data &#45;8.0000</text>\n",
       "</g>\n",
       "<!-- 2190922887120* -->\n",
       "<g id=\"node4\" class=\"node\">\n",
       "<title>2190922887120*</title>\n",
       "<ellipse fill=\"none\" stroke=\"black\" cx=\"639\" cy=\"-99.5\" rx=\"27\" ry=\"18\"/>\n",
       "<text text-anchor=\"middle\" x=\"639\" y=\"-95.8\" font-family=\"Times New Roman,serif\" font-size=\"14.00\">*</text>\n",
       "</g>\n",
       "<!-- 2190922887120*&#45;&gt;2190922887120 -->\n",
       "<g id=\"edge2\" class=\"edge\">\n",
       "<title>2190922887120*&#45;&gt;2190922887120</title>\n",
       "<path fill=\"none\" stroke=\"black\" d=\"M666.03,-99.5C673.7,-99.5 682.45,-99.5 691.42,-99.5\"/>\n",
       "<polygon fill=\"black\" stroke=\"black\" points=\"691.58,-103 701.58,-99.5 691.58,-96 691.58,-103\"/>\n",
       "</g>\n",
       "<!-- 2190922969296 -->\n",
       "<g id=\"node5\" class=\"node\">\n",
       "<title>2190922969296</title>\n",
       "<polygon fill=\"none\" stroke=\"black\" points=\"234,-82.5 234,-118.5 344,-118.5 344,-82.5 234,-82.5\"/>\n",
       "<text text-anchor=\"middle\" x=\"245.5\" y=\"-96.8\" font-family=\"Times New Roman,serif\" font-size=\"14.00\">c</text>\n",
       "<polyline fill=\"none\" stroke=\"black\" points=\"257,-82.5 257,-118.5 \"/>\n",
       "<text text-anchor=\"middle\" x=\"300.5\" y=\"-96.8\" font-family=\"Times New Roman,serif\" font-size=\"14.00\">data 10.0000</text>\n",
       "</g>\n",
       "<!-- 2190922969296&#45;&gt;2190922972656+ -->\n",
       "<g id=\"edge7\" class=\"edge\">\n",
       "<title>2190922969296&#45;&gt;2190922972656+</title>\n",
       "<path fill=\"none\" stroke=\"black\" d=\"M344.26,-87.4C353.49,-85.18 362.84,-82.92 371.37,-80.86\"/>\n",
       "<polygon fill=\"black\" stroke=\"black\" points=\"372.42,-84.21 381.32,-78.46 370.78,-77.4 372.42,-84.21\"/>\n",
       "</g>\n",
       "<!-- 2190922886928 -->\n",
       "<g id=\"node6\" class=\"node\">\n",
       "<title>2190922886928</title>\n",
       "<polygon fill=\"none\" stroke=\"black\" points=\"470,-109.5 470,-145.5 576,-145.5 576,-109.5 470,-109.5\"/>\n",
       "<text text-anchor=\"middle\" x=\"480.5\" y=\"-123.8\" font-family=\"Times New Roman,serif\" font-size=\"14.00\">f</text>\n",
       "<polyline fill=\"none\" stroke=\"black\" points=\"491,-109.5 491,-145.5 \"/>\n",
       "<text text-anchor=\"middle\" x=\"533.5\" y=\"-123.8\" font-family=\"Times New Roman,serif\" font-size=\"14.00\">data &#45;2.0000</text>\n",
       "</g>\n",
       "<!-- 2190922886928&#45;&gt;2190922887120* -->\n",
       "<g id=\"edge8\" class=\"edge\">\n",
       "<title>2190922886928&#45;&gt;2190922887120*</title>\n",
       "<path fill=\"none\" stroke=\"black\" d=\"M576.33,-114.65C585.48,-112.4 594.8,-110.11 603.33,-108.02\"/>\n",
       "<polygon fill=\"black\" stroke=\"black\" points=\"604.39,-111.36 613.27,-105.57 602.72,-104.56 604.39,-111.36\"/>\n",
       "</g>\n",
       "<!-- 2190922973136 -->\n",
       "<g id=\"node7\" class=\"node\">\n",
       "<title>2190922973136</title>\n",
       "<polygon fill=\"none\" stroke=\"black\" points=\"2.5,-55.5 2.5,-91.5 105.5,-91.5 105.5,-55.5 2.5,-55.5\"/>\n",
       "<text text-anchor=\"middle\" x=\"14\" y=\"-69.8\" font-family=\"Times New Roman,serif\" font-size=\"14.00\">a</text>\n",
       "<polyline fill=\"none\" stroke=\"black\" points=\"25.5,-55.5 25.5,-91.5 \"/>\n",
       "<text text-anchor=\"middle\" x=\"65.5\" y=\"-69.8\" font-family=\"Times New Roman,serif\" font-size=\"14.00\">data 2.0000</text>\n",
       "</g>\n",
       "<!-- 2190922973136&#45;&gt;2190922972704* -->\n",
       "<g id=\"edge6\" class=\"edge\">\n",
       "<title>2190922973136&#45;&gt;2190922972704*</title>\n",
       "<path fill=\"none\" stroke=\"black\" d=\"M105.78,-61.14C115.85,-58.68 126.2,-56.16 135.58,-53.88\"/>\n",
       "<polygon fill=\"black\" stroke=\"black\" points=\"136.41,-57.28 145.3,-51.51 134.76,-50.48 136.41,-57.28\"/>\n",
       "</g>\n",
       "<!-- 2190922970592 -->\n",
       "<g id=\"node8\" class=\"node\">\n",
       "<title>2190922970592</title>\n",
       "<polygon fill=\"none\" stroke=\"black\" points=\"0,-0.5 0,-36.5 108,-36.5 108,-0.5 0,-0.5\"/>\n",
       "<text text-anchor=\"middle\" x=\"11.5\" y=\"-14.8\" font-family=\"Times New Roman,serif\" font-size=\"14.00\">b</text>\n",
       "<polyline fill=\"none\" stroke=\"black\" points=\"23,-0.5 23,-36.5 \"/>\n",
       "<text text-anchor=\"middle\" x=\"65.5\" y=\"-14.8\" font-family=\"Times New Roman,serif\" font-size=\"14.00\">data &#45;3.0000</text>\n",
       "</g>\n",
       "<!-- 2190922970592&#45;&gt;2190922972704* -->\n",
       "<g id=\"edge9\" class=\"edge\">\n",
       "<title>2190922970592&#45;&gt;2190922972704*</title>\n",
       "<path fill=\"none\" stroke=\"black\" d=\"M108.12,-30.97C117.33,-33.13 126.68,-35.33 135.24,-37.34\"/>\n",
       "<polygon fill=\"black\" stroke=\"black\" points=\"134.68,-40.8 145.21,-39.68 136.28,-33.99 134.68,-40.8\"/>\n",
       "</g>\n",
       "<!-- 2190922972656 -->\n",
       "<g id=\"node9\" class=\"node\">\n",
       "<title>2190922972656</title>\n",
       "<polygon fill=\"none\" stroke=\"black\" points=\"471.5,-54.5 471.5,-90.5 574.5,-90.5 574.5,-54.5 471.5,-54.5\"/>\n",
       "<text text-anchor=\"middle\" x=\"483\" y=\"-68.8\" font-family=\"Times New Roman,serif\" font-size=\"14.00\">d</text>\n",
       "<polyline fill=\"none\" stroke=\"black\" points=\"494.5,-54.5 494.5,-90.5 \"/>\n",
       "<text text-anchor=\"middle\" x=\"534.5\" y=\"-68.8\" font-family=\"Times New Roman,serif\" font-size=\"14.00\">data 4.0000</text>\n",
       "</g>\n",
       "<!-- 2190922972656&#45;&gt;2190922887120* -->\n",
       "<g id=\"edge5\" class=\"edge\">\n",
       "<title>2190922972656&#45;&gt;2190922887120*</title>\n",
       "<path fill=\"none\" stroke=\"black\" d=\"M574.67,-84.5C584.43,-86.81 594.45,-89.18 603.55,-91.34\"/>\n",
       "<polygon fill=\"black\" stroke=\"black\" points=\"602.83,-94.77 613.37,-93.67 604.45,-87.96 602.83,-94.77\"/>\n",
       "</g>\n",
       "<!-- 2190922972656+&#45;&gt;2190922972656 -->\n",
       "<g id=\"edge3\" class=\"edge\">\n",
       "<title>2190922972656+&#45;&gt;2190922972656</title>\n",
       "<path fill=\"none\" stroke=\"black\" d=\"M434.15,-72.5C442.26,-72.5 451.57,-72.5 461.02,-72.5\"/>\n",
       "<polygon fill=\"black\" stroke=\"black\" points=\"461.28,-76 471.28,-72.5 461.28,-69 461.28,-76\"/>\n",
       "</g>\n",
       "</g>\n",
       "</svg>\n"
      ],
      "text/plain": [
       "<graphviz.graphs.Digraph at 0x1fe1d2f7250>"
      ]
     },
     "execution_count": 49,
     "metadata": {},
     "output_type": "execute_result"
    }
   ],
   "source": [
    "# visualize the result of a forward pass\n",
    "draw_dot(L)"
   ]
  },
  {
   "cell_type": "markdown",
   "metadata": {},
   "source": [
    "# Introducing backprop"
   ]
  },
  {
   "cell_type": "markdown",
   "metadata": {},
   "source": [
    "In a neural network setting you'd be very interested in the derivative of  the loss function `L` with respect to the weights of a neural network. Here in our case we have the variables `a`, `b`, `c`, `d`, `e`, and `f` but they will eventually\n",
    "represent the weights of a neural net and so we'll need to know how those weights are impacting the loss function. To do so we will need the derivative of the output with respect to `some` of its leaf nodes. Some of those leaf nodes will be the weights of the neural net, and the other leaf nodes will be the data itself but usually we will\n",
    "not want or use the derivative of the loss function with respect to data because the data is fixed but the\n",
    "weights will be iterated on using the gradient information.\n",
    "\n",
    "So next we are going to create a variable inside the `Value` class that maintains the derivative of `L` with respect to that\n",
    "value and we will call this variable `grad` so there's a `data` and there's a `self.grad`. Initially it will be zero (remember that a gradient of zero means it has no effect), so at initialization we're assuming that every value does not impact the\n",
    "output (because if the gradient is zero, changing this variable is not changing the loss function)/"
   ]
  },
  {
   "cell_type": "code",
   "execution_count": 50,
   "metadata": {},
   "outputs": [],
   "source": [
    "import sys\n",
    "# module_path = \"/home/john-ubu/dev/minigrad\"\n",
    "module_path  =\"C:\\\\Users\\\\mmonn\\\\Desktop\\\\torch\\\\pytorch_autrograd_reimplementation\"\n",
    "# Check if the module path is already in sys.path\n",
    "if module_path not in sys.path:\n",
    "    # Add the module path to sys.path\n",
    "    sys.path.append(module_path)"
   ]
  },
  {
   "cell_type": "code",
   "execution_count": 51,
   "metadata": {},
   "outputs": [],
   "source": [
    "import math\n",
    "import matplotlib.pyplot as plt\n",
    "import numpy as np\n",
    "from graphviz import Digraph\n",
    "%matplotlib inline"
   ]
  },
  {
   "cell_type": "code",
   "execution_count": 52,
   "metadata": {},
   "outputs": [],
   "source": [
    "class Value :\n",
    "\n",
    "    def __init__(self, data, _children=(), _op='', _label=''):\n",
    "        self.data = data\n",
    "        # adding grad and setting it to 0. Ca va track le partial derivativ \n",
    "        # of the output with respect to the value of the node being considered\n",
    "        self.grad = 0\n",
    "        self._prev = set(_children)\n",
    "        self._op = _op\n",
    "        self._label = _label\n",
    "  \n",
    "    def __repr__(self) -> str:\n",
    "        return f\"Value(data={self.data})\"\n",
    "\n",
    "    def __add__(self, other):\n",
    "        summation = Value(self.data + other.data, _children=(self, other), _op=\"+\")\n",
    "        return summation\n",
    "\n",
    "    def __mul__(self, other):\n",
    "        mult = Value(self.data * other.data, _children=(self, other), _op=\"*\")\n",
    "        return mult\n"
   ]
  },
  {
   "cell_type": "code",
   "execution_count": 18,
   "metadata": {},
   "outputs": [],
   "source": [
    "def trace(root):\n",
    "    # node: is the Value object being considered\n",
    "    # edges : the two objects Value that created the node being considered\n",
    "    nodes, edges = set(), set()\n",
    "    def build(v):\n",
    "        if v not in nodes:\n",
    "            nodes.add(v)\n",
    "            for child in v._prev:\n",
    "                edges.add((child, v))\n",
    "                # la recursion se passe ici\n",
    "                build(child)\n",
    "\n",
    "    build(root)\n",
    "    return nodes, edges\n",
    "\n",
    "def draw_dot(root, format='svg', rankdir='LR'):\n",
    "    dot = Digraph(format=format, graph_attr={'rankdir': rankdir}) #, node_attr={'rankdir': 'TB'})\n",
    "   \n",
    "    nodes, edges = trace(root)\n",
    "    \n",
    "    \n",
    "    for n in nodes:\n",
    "        uid = str(id(n))\n",
    "        dot.node(name=uid, label = f\"node : {n._label} | value = {n.data} | gradient = {n.grad}\", shape='record')\n",
    "        if n._op:\n",
    "            dot.node(name=str(id(n)) + n._op, label=n._op)\n",
    "            dot.edge(str(id(n)) + n._op, str(id(n)))\n",
    "    \n",
    "    for n1, n2 in edges:\n",
    "        dot.edge(str(id(n1)), str(id(n2)) + n2._op)\n",
    "    \n",
    "    return dot"
   ]
  },
  {
   "cell_type": "code",
   "execution_count": 54,
   "metadata": {},
   "outputs": [],
   "source": [
    "a = Value(2.0, _label='a')\n",
    "b = Value(-3.0, _label='b')\n",
    "c = Value(10.0, _label='c')\n",
    "e = a*b; e._label='e'\n",
    "d = e + c; d._label ='d'\n",
    "f = Value(-2.0, _label='f')\n",
    "L = d * f; L._label = \"L\""
   ]
  },
  {
   "cell_type": "code",
   "execution_count": 55,
   "metadata": {},
   "outputs": [
    {
     "data": {
      "image/svg+xml": [
       "<?xml version=\"1.0\" encoding=\"UTF-8\" standalone=\"no\"?>\n",
       "<!DOCTYPE svg PUBLIC \"-//W3C//DTD SVG 1.1//EN\"\n",
       " \"http://www.w3.org/Graphics/SVG/1.1/DTD/svg11.dtd\">\n",
       "<!-- Generated by graphviz version 2.50.0 (0)\n",
       " -->\n",
       "<!-- Pages: 1 -->\n",
       "<svg width=\"721pt\" height=\"210pt\"\n",
       " viewBox=\"0.00 0.00 721.00 210.00\" xmlns=\"http://www.w3.org/2000/svg\" xmlns:xlink=\"http://www.w3.org/1999/xlink\">\n",
       "<g id=\"graph0\" class=\"graph\" transform=\"scale(1 1) rotate(0) translate(4 206)\">\n",
       "<polygon fill=\"white\" stroke=\"transparent\" points=\"-4,4 -4,-206 717,-206 717,4 -4,4\"/>\n",
       "<!-- 2190922933248 -->\n",
       "<g id=\"node1\" class=\"node\">\n",
       "<title>2190922933248</title>\n",
       "<polygon fill=\"none\" stroke=\"black\" points=\"209,-132.5 209,-201.5 295,-201.5 295,-132.5 209,-132.5\"/>\n",
       "<text text-anchor=\"middle\" x=\"252\" y=\"-186.3\" font-family=\"Times New Roman,serif\" font-size=\"14.00\">node : c</text>\n",
       "<polyline fill=\"none\" stroke=\"black\" points=\"209,-178.5 295,-178.5 \"/>\n",
       "<text text-anchor=\"middle\" x=\"252\" y=\"-163.3\" font-family=\"Times New Roman,serif\" font-size=\"14.00\">value = 10.0</text>\n",
       "<polyline fill=\"none\" stroke=\"black\" points=\"209,-155.5 295,-155.5 \"/>\n",
       "<text text-anchor=\"middle\" x=\"252\" y=\"-140.3\" font-family=\"Times New Roman,serif\" font-size=\"14.00\">gradient = 0</text>\n",
       "</g>\n",
       "<!-- 2190922971984+ -->\n",
       "<g id=\"node6\" class=\"node\">\n",
       "<title>2190922971984+</title>\n",
       "<ellipse fill=\"none\" stroke=\"black\" cx=\"358\" cy=\"-123\" rx=\"27\" ry=\"18\"/>\n",
       "<text text-anchor=\"middle\" x=\"358\" y=\"-119.3\" font-family=\"Times New Roman,serif\" font-size=\"14.00\">+</text>\n",
       "</g>\n",
       "<!-- 2190922933248&#45;&gt;2190922971984+ -->\n",
       "<g id=\"edge7\" class=\"edge\">\n",
       "<title>2190922933248&#45;&gt;2190922971984+</title>\n",
       "<path fill=\"none\" stroke=\"black\" d=\"M295,-149.23C305.13,-144.95 315.78,-140.44 325.34,-136.39\"/>\n",
       "<polygon fill=\"black\" stroke=\"black\" points=\"327,-139.49 334.84,-132.37 324.27,-133.05 327,-139.49\"/>\n",
       "</g>\n",
       "<!-- 2190922970160 -->\n",
       "<g id=\"node2\" class=\"node\">\n",
       "<title>2190922970160</title>\n",
       "<polygon fill=\"none\" stroke=\"black\" points=\"630,-44.5 630,-113.5 713,-113.5 713,-44.5 630,-44.5\"/>\n",
       "<text text-anchor=\"middle\" x=\"671.5\" y=\"-98.3\" font-family=\"Times New Roman,serif\" font-size=\"14.00\">node : L</text>\n",
       "<polyline fill=\"none\" stroke=\"black\" points=\"630,-90.5 713,-90.5 \"/>\n",
       "<text text-anchor=\"middle\" x=\"671.5\" y=\"-75.3\" font-family=\"Times New Roman,serif\" font-size=\"14.00\">value = &#45;8.0</text>\n",
       "<polyline fill=\"none\" stroke=\"black\" points=\"630,-67.5 713,-67.5 \"/>\n",
       "<text text-anchor=\"middle\" x=\"671.5\" y=\"-52.3\" font-family=\"Times New Roman,serif\" font-size=\"14.00\">gradient = 0</text>\n",
       "</g>\n",
       "<!-- 2190922970160* -->\n",
       "<g id=\"node3\" class=\"node\">\n",
       "<title>2190922970160*</title>\n",
       "<ellipse fill=\"none\" stroke=\"black\" cx=\"567\" cy=\"-79\" rx=\"27\" ry=\"18\"/>\n",
       "<text text-anchor=\"middle\" x=\"567\" y=\"-75.3\" font-family=\"Times New Roman,serif\" font-size=\"14.00\">*</text>\n",
       "</g>\n",
       "<!-- 2190922970160*&#45;&gt;2190922970160 -->\n",
       "<g id=\"edge1\" class=\"edge\">\n",
       "<title>2190922970160*&#45;&gt;2190922970160</title>\n",
       "<path fill=\"none\" stroke=\"black\" d=\"M594.13,-79C601.89,-79 610.67,-79 619.44,-79\"/>\n",
       "<polygon fill=\"black\" stroke=\"black\" points=\"619.67,-82.5 629.67,-79 619.67,-75.5 619.67,-82.5\"/>\n",
       "</g>\n",
       "<!-- 2190922933920 -->\n",
       "<g id=\"node4\" class=\"node\">\n",
       "<title>2190922933920</title>\n",
       "<polygon fill=\"none\" stroke=\"black\" points=\"0,-88.5 0,-157.5 83,-157.5 83,-88.5 0,-88.5\"/>\n",
       "<text text-anchor=\"middle\" x=\"41.5\" y=\"-142.3\" font-family=\"Times New Roman,serif\" font-size=\"14.00\">node : b</text>\n",
       "<polyline fill=\"none\" stroke=\"black\" points=\"0,-134.5 83,-134.5 \"/>\n",
       "<text text-anchor=\"middle\" x=\"41.5\" y=\"-119.3\" font-family=\"Times New Roman,serif\" font-size=\"14.00\">value = &#45;3.0</text>\n",
       "<polyline fill=\"none\" stroke=\"black\" points=\"0,-111.5 83,-111.5 \"/>\n",
       "<text text-anchor=\"middle\" x=\"41.5\" y=\"-96.3\" font-family=\"Times New Roman,serif\" font-size=\"14.00\">gradient = 0</text>\n",
       "</g>\n",
       "<!-- 2190922972032* -->\n",
       "<g id=\"node8\" class=\"node\">\n",
       "<title>2190922972032*</title>\n",
       "<ellipse fill=\"none\" stroke=\"black\" cx=\"146\" cy=\"-79\" rx=\"27\" ry=\"18\"/>\n",
       "<text text-anchor=\"middle\" x=\"146\" y=\"-75.3\" font-family=\"Times New Roman,serif\" font-size=\"14.00\">*</text>\n",
       "</g>\n",
       "<!-- 2190922933920&#45;&gt;2190922972032* -->\n",
       "<g id=\"edge4\" class=\"edge\">\n",
       "<title>2190922933920&#45;&gt;2190922972032*</title>\n",
       "<path fill=\"none\" stroke=\"black\" d=\"M83.01,-105.61C93.17,-101.25 103.91,-96.64 113.55,-92.5\"/>\n",
       "<polygon fill=\"black\" stroke=\"black\" points=\"114.95,-95.71 122.76,-88.55 112.19,-89.27 114.95,-95.71\"/>\n",
       "</g>\n",
       "<!-- 2190922971984 -->\n",
       "<g id=\"node5\" class=\"node\">\n",
       "<title>2190922971984</title>\n",
       "<polygon fill=\"none\" stroke=\"black\" points=\"421,-88.5 421,-157.5 504,-157.5 504,-88.5 421,-88.5\"/>\n",
       "<text text-anchor=\"middle\" x=\"462.5\" y=\"-142.3\" font-family=\"Times New Roman,serif\" font-size=\"14.00\">node : d</text>\n",
       "<polyline fill=\"none\" stroke=\"black\" points=\"421,-134.5 504,-134.5 \"/>\n",
       "<text text-anchor=\"middle\" x=\"462.5\" y=\"-119.3\" font-family=\"Times New Roman,serif\" font-size=\"14.00\">value = 4.0</text>\n",
       "<polyline fill=\"none\" stroke=\"black\" points=\"421,-111.5 504,-111.5 \"/>\n",
       "<text text-anchor=\"middle\" x=\"462.5\" y=\"-96.3\" font-family=\"Times New Roman,serif\" font-size=\"14.00\">gradient = 0</text>\n",
       "</g>\n",
       "<!-- 2190922971984&#45;&gt;2190922970160* -->\n",
       "<g id=\"edge8\" class=\"edge\">\n",
       "<title>2190922971984&#45;&gt;2190922970160*</title>\n",
       "<path fill=\"none\" stroke=\"black\" d=\"M504.01,-105.61C514.17,-101.25 524.91,-96.64 534.55,-92.5\"/>\n",
       "<polygon fill=\"black\" stroke=\"black\" points=\"535.95,-95.71 543.76,-88.55 533.19,-89.27 535.95,-95.71\"/>\n",
       "</g>\n",
       "<!-- 2190922971984+&#45;&gt;2190922971984 -->\n",
       "<g id=\"edge2\" class=\"edge\">\n",
       "<title>2190922971984+&#45;&gt;2190922971984</title>\n",
       "<path fill=\"none\" stroke=\"black\" d=\"M385.13,-123C392.89,-123 401.67,-123 410.44,-123\"/>\n",
       "<polygon fill=\"black\" stroke=\"black\" points=\"410.67,-126.5 420.67,-123 410.67,-119.5 410.67,-126.5\"/>\n",
       "</g>\n",
       "<!-- 2190922972032 -->\n",
       "<g id=\"node7\" class=\"node\">\n",
       "<title>2190922972032</title>\n",
       "<polygon fill=\"none\" stroke=\"black\" points=\"210.5,-44.5 210.5,-113.5 293.5,-113.5 293.5,-44.5 210.5,-44.5\"/>\n",
       "<text text-anchor=\"middle\" x=\"252\" y=\"-98.3\" font-family=\"Times New Roman,serif\" font-size=\"14.00\">node : e</text>\n",
       "<polyline fill=\"none\" stroke=\"black\" points=\"210.5,-90.5 293.5,-90.5 \"/>\n",
       "<text text-anchor=\"middle\" x=\"252\" y=\"-75.3\" font-family=\"Times New Roman,serif\" font-size=\"14.00\">value = &#45;6.0</text>\n",
       "<polyline fill=\"none\" stroke=\"black\" points=\"210.5,-67.5 293.5,-67.5 \"/>\n",
       "<text text-anchor=\"middle\" x=\"252\" y=\"-52.3\" font-family=\"Times New Roman,serif\" font-size=\"14.00\">gradient = 0</text>\n",
       "</g>\n",
       "<!-- 2190922972032&#45;&gt;2190922971984+ -->\n",
       "<g id=\"edge5\" class=\"edge\">\n",
       "<title>2190922972032&#45;&gt;2190922971984+</title>\n",
       "<path fill=\"none\" stroke=\"black\" d=\"M293.51,-96.14C304.14,-100.64 315.45,-105.42 325.53,-109.68\"/>\n",
       "<polygon fill=\"black\" stroke=\"black\" points=\"324.18,-112.92 334.76,-113.59 326.91,-106.47 324.18,-112.92\"/>\n",
       "</g>\n",
       "<!-- 2190922972032*&#45;&gt;2190922972032 -->\n",
       "<g id=\"edge3\" class=\"edge\">\n",
       "<title>2190922972032*&#45;&gt;2190922972032</title>\n",
       "<path fill=\"none\" stroke=\"black\" d=\"M173.24,-79C181.46,-79 190.83,-79 200.15,-79\"/>\n",
       "<polygon fill=\"black\" stroke=\"black\" points=\"200.19,-82.5 210.19,-79 200.19,-75.5 200.19,-82.5\"/>\n",
       "</g>\n",
       "<!-- 2190922934208 -->\n",
       "<g id=\"node9\" class=\"node\">\n",
       "<title>2190922934208</title>\n",
       "<polygon fill=\"none\" stroke=\"black\" points=\"0,-0.5 0,-69.5 83,-69.5 83,-0.5 0,-0.5\"/>\n",
       "<text text-anchor=\"middle\" x=\"41.5\" y=\"-54.3\" font-family=\"Times New Roman,serif\" font-size=\"14.00\">node : a</text>\n",
       "<polyline fill=\"none\" stroke=\"black\" points=\"0,-46.5 83,-46.5 \"/>\n",
       "<text text-anchor=\"middle\" x=\"41.5\" y=\"-31.3\" font-family=\"Times New Roman,serif\" font-size=\"14.00\">value = 2.0</text>\n",
       "<polyline fill=\"none\" stroke=\"black\" points=\"0,-23.5 83,-23.5 \"/>\n",
       "<text text-anchor=\"middle\" x=\"41.5\" y=\"-8.3\" font-family=\"Times New Roman,serif\" font-size=\"14.00\">gradient = 0</text>\n",
       "</g>\n",
       "<!-- 2190922934208&#45;&gt;2190922972032* -->\n",
       "<g id=\"edge6\" class=\"edge\">\n",
       "<title>2190922934208&#45;&gt;2190922972032*</title>\n",
       "<path fill=\"none\" stroke=\"black\" d=\"M83.01,-52.39C93.17,-56.75 103.91,-61.36 113.55,-65.5\"/>\n",
       "<polygon fill=\"black\" stroke=\"black\" points=\"112.19,-68.73 122.76,-69.45 114.95,-62.29 112.19,-68.73\"/>\n",
       "</g>\n",
       "<!-- 2190922971600 -->\n",
       "<g id=\"node10\" class=\"node\">\n",
       "<title>2190922971600</title>\n",
       "<polygon fill=\"none\" stroke=\"black\" points=\"421,-0.5 421,-69.5 504,-69.5 504,-0.5 421,-0.5\"/>\n",
       "<text text-anchor=\"middle\" x=\"462.5\" y=\"-54.3\" font-family=\"Times New Roman,serif\" font-size=\"14.00\">node : f</text>\n",
       "<polyline fill=\"none\" stroke=\"black\" points=\"421,-46.5 504,-46.5 \"/>\n",
       "<text text-anchor=\"middle\" x=\"462.5\" y=\"-31.3\" font-family=\"Times New Roman,serif\" font-size=\"14.00\">value = &#45;2.0</text>\n",
       "<polyline fill=\"none\" stroke=\"black\" points=\"421,-23.5 504,-23.5 \"/>\n",
       "<text text-anchor=\"middle\" x=\"462.5\" y=\"-8.3\" font-family=\"Times New Roman,serif\" font-size=\"14.00\">gradient = 0</text>\n",
       "</g>\n",
       "<!-- 2190922971600&#45;&gt;2190922970160* -->\n",
       "<g id=\"edge9\" class=\"edge\">\n",
       "<title>2190922971600&#45;&gt;2190922970160*</title>\n",
       "<path fill=\"none\" stroke=\"black\" d=\"M504.01,-52.39C514.17,-56.75 524.91,-61.36 534.55,-65.5\"/>\n",
       "<polygon fill=\"black\" stroke=\"black\" points=\"533.19,-68.73 543.76,-69.45 535.95,-62.29 533.19,-68.73\"/>\n",
       "</g>\n",
       "</g>\n",
       "</svg>\n"
      ],
      "text/plain": [
       "<graphviz.graphs.Digraph at 0x1fe1d2ee250>"
      ]
     },
     "execution_count": 55,
     "metadata": {},
     "output_type": "execute_result"
    }
   ],
   "source": [
    "draw_dot(L)"
   ]
  },
  {
   "cell_type": "code",
   "execution_count": 56,
   "metadata": {},
   "outputs": [],
   "source": [
    "def partial():\n",
    "    \"\"\"Calculating the derivative of L with respect to d\"\"\"\n",
    "    h = 0.0001\n",
    "    \n",
    "    a = Value(2.0, _label='a')\n",
    "    b = Value(-3.0, _label='b')\n",
    "    c = Value(10.0, _label='c')\n",
    "    e = a*b; e._label='e'\n",
    "    d = e + c; d._label ='d'\n",
    "    f = Value(-2.0, _label='f')\n",
    "    L = d * f; L._label = \"L\"\n",
    "    L1 = L.data\n",
    "    \n",
    "    # on ajoute `h` a notre Value `a`\n",
    "    a = Value(2.0 , _label='a')\n",
    "    b = Value(-3.0, _label='b')\n",
    "    c = Value(10.0, _label='c')\n",
    "    e = a*b; e._label='e'\n",
    "    d = e + c ; d._label ='d'\n",
    "    d.data +=h\n",
    "    f = Value(-2.0, _label='f')\n",
    "    L = d * f; L._label = \"L\"\n",
    "    L2 = L.data\n",
    "    \n",
    "    # calcul de la derive partiel de L with respect to 'a'\n",
    "    print((L2 - L1)/h)"
   ]
  },
  {
   "cell_type": "code",
   "execution_count": 57,
   "metadata": {},
   "outputs": [
    {
     "name": "stdout",
     "output_type": "stream",
     "text": [
      "-1.9999999999953388\n"
     ]
    }
   ],
   "source": [
    "partial()"
   ]
  },
  {
   "cell_type": "markdown",
   "metadata": {},
   "source": [
    "We know that `L = d * f`, so what is `dL/dd?`? It is equal to `f`.\n",
    "\n",
    "Here is the proof :\n",
    "\n",
    ">Remember the equation for the derivative:\n",
    "$$\\frac{F(x+h)-F(x)}{h}$$\n",
    "\n",
    ">So in our case:\n",
    "$$\\frac{dL}{dd}=\\frac{(d+h)*f - (df)}{h}$$\n",
    "\n",
    ">Which when expanded gives:\n",
    "$$\\frac{df + hf - df}{h} = \\frac{ hf }{h} = f $$\n",
    "\n",
    "So the derivative of `L` with respect to `d` is `f`. And we know by definition that `f` is a `Value object` with an associated scalar value (stored in the `.data` attribute) of `-2.0`. So `dL/dd = -2.0`.\n",
    "\n",
    "Which is to say that the `gradient` of `d` with respect to `L` is `-2.0`.\n",
    "\n",
    "We can apply the same process to find that the grad `gradient` of `f` with respect to `L` is `4`."
   ]
  },
  {
   "cell_type": "code",
   "execution_count": 58,
   "metadata": {},
   "outputs": [],
   "source": [
    "# store manualy the gradient\n",
    "L.grad = 1\n",
    "d.grad = -2\n",
    "f.grad = 4"
   ]
  },
  {
   "cell_type": "markdown",
   "metadata": {},
   "source": [
    "Now how do we obtain `dL/dc`? Lets break it down into two steps:\n",
    "1. Find `dL/dd`\n",
    "2. Find `dd/dc`\n",
    "3. Apply the chain rule.\n",
    "\n",
    "We already know `dL/dd` so now need `dd/dc`. We know that `d = c + e` so `dd/dc = 1`. We can reuse the demonstration from the previous cell to show `dd/dc = 1` for `d = c + e` \n",
    "\n",
    ">So in our case:\n",
    "\n",
    "$$\\frac{dd}{dc}=\\frac{(c+h+e) - (c+e)}{h} = \\frac{h}{h} = 1 $$\n",
    "\n",
    "Now we just need to apply `the chain rule`, which definition can be found on wikipedia : \n",
    "The chain rule may also be expressed in Leibniz's notation. If a variable `z` depends on the variable `y`, which itself depends on the variable `x` (that is, `y` and `z` are dependent variables), then `z` depends on `x` as well, via the intermediate variable `y`. In this case, the chain rule is expressed as\n",
    "\n",
    "$${\\frac {dz}{dx}}={\\frac {dz}{dy}}\\cdot {\\frac {dy}{dx}}$$\n",
    "\n",
    "So what this tells us that we need to multiply the result of 1. with the result of 2., which means multiply :\n",
    "$$\\frac{dL}{dc} = \\frac{dL}{dd}*\\frac{dd}{dc} $$\n",
    "\n",
    "We calculated in `1.` that `dL/dd = f` and in `2.` that `dd/dc = 1`, so `dL/dc = 1*f = f`.  \n",
    "\n",
    "Which is to say that the `gradient` of `c` with respect to `L` is `-2.0`.\n",
    "\n",
    "We can apply the same process to find that the grad `gradient` of `e` with respect to `L` is `2.0`. \n",
    "\n",
    "**RQ:** les operations d'additions ne font que propager le gradient, c'est pourquoi `c.grad == e.grad == d.grad`, car `d` provient d'une operation d'addition"
   ]
  },
  {
   "cell_type": "code",
   "execution_count": 59,
   "metadata": {},
   "outputs": [],
   "source": [
    "c.grad = -2.0\n",
    "e.grad = -2.0"
   ]
  },
  {
   "cell_type": "code",
   "execution_count": 60,
   "metadata": {},
   "outputs": [
    {
     "data": {
      "image/svg+xml": [
       "<?xml version=\"1.0\" encoding=\"UTF-8\" standalone=\"no\"?>\n",
       "<!DOCTYPE svg PUBLIC \"-//W3C//DTD SVG 1.1//EN\"\n",
       " \"http://www.w3.org/Graphics/SVG/1.1/DTD/svg11.dtd\">\n",
       "<!-- Generated by graphviz version 2.50.0 (0)\n",
       " -->\n",
       "<!-- Pages: 1 -->\n",
       "<svg width=\"738pt\" height=\"210pt\"\n",
       " viewBox=\"0.00 0.00 738.00 210.00\" xmlns=\"http://www.w3.org/2000/svg\" xmlns:xlink=\"http://www.w3.org/1999/xlink\">\n",
       "<g id=\"graph0\" class=\"graph\" transform=\"scale(1 1) rotate(0) translate(4 206)\">\n",
       "<polygon fill=\"white\" stroke=\"transparent\" points=\"-4,4 -4,-206 734,-206 734,4 -4,4\"/>\n",
       "<!-- 2190922933248 -->\n",
       "<g id=\"node1\" class=\"node\">\n",
       "<title>2190922933248</title>\n",
       "<polygon fill=\"none\" stroke=\"black\" points=\"209,-132.5 209,-201.5 307,-201.5 307,-132.5 209,-132.5\"/>\n",
       "<text text-anchor=\"middle\" x=\"258\" y=\"-186.3\" font-family=\"Times New Roman,serif\" font-size=\"14.00\">node : c</text>\n",
       "<polyline fill=\"none\" stroke=\"black\" points=\"209,-178.5 307,-178.5 \"/>\n",
       "<text text-anchor=\"middle\" x=\"258\" y=\"-163.3\" font-family=\"Times New Roman,serif\" font-size=\"14.00\">value = 10.0</text>\n",
       "<polyline fill=\"none\" stroke=\"black\" points=\"209,-155.5 307,-155.5 \"/>\n",
       "<text text-anchor=\"middle\" x=\"258\" y=\"-140.3\" font-family=\"Times New Roman,serif\" font-size=\"14.00\">gradient = &#45;2.0</text>\n",
       "</g>\n",
       "<!-- 2190922971984+ -->\n",
       "<g id=\"node6\" class=\"node\">\n",
       "<title>2190922971984+</title>\n",
       "<ellipse fill=\"none\" stroke=\"black\" cx=\"370\" cy=\"-123\" rx=\"27\" ry=\"18\"/>\n",
       "<text text-anchor=\"middle\" x=\"370\" y=\"-119.3\" font-family=\"Times New Roman,serif\" font-size=\"14.00\">+</text>\n",
       "</g>\n",
       "<!-- 2190922933248&#45;&gt;2190922971984+ -->\n",
       "<g id=\"edge7\" class=\"edge\">\n",
       "<title>2190922933248&#45;&gt;2190922971984+</title>\n",
       "<path fill=\"none\" stroke=\"black\" d=\"M307.25,-147.7C317.25,-143.7 327.56,-139.58 336.82,-135.87\"/>\n",
       "<polygon fill=\"black\" stroke=\"black\" points=\"338.4,-139.01 346.39,-132.04 335.8,-132.51 338.4,-139.01\"/>\n",
       "</g>\n",
       "<!-- 2190922970160 -->\n",
       "<g id=\"node2\" class=\"node\">\n",
       "<title>2190922970160</title>\n",
       "<polygon fill=\"none\" stroke=\"black\" points=\"647,-44.5 647,-113.5 730,-113.5 730,-44.5 647,-44.5\"/>\n",
       "<text text-anchor=\"middle\" x=\"688.5\" y=\"-98.3\" font-family=\"Times New Roman,serif\" font-size=\"14.00\">node : L</text>\n",
       "<polyline fill=\"none\" stroke=\"black\" points=\"647,-90.5 730,-90.5 \"/>\n",
       "<text text-anchor=\"middle\" x=\"688.5\" y=\"-75.3\" font-family=\"Times New Roman,serif\" font-size=\"14.00\">value = &#45;8.0</text>\n",
       "<polyline fill=\"none\" stroke=\"black\" points=\"647,-67.5 730,-67.5 \"/>\n",
       "<text text-anchor=\"middle\" x=\"688.5\" y=\"-52.3\" font-family=\"Times New Roman,serif\" font-size=\"14.00\">gradient = 1</text>\n",
       "</g>\n",
       "<!-- 2190922970160* -->\n",
       "<g id=\"node3\" class=\"node\">\n",
       "<title>2190922970160*</title>\n",
       "<ellipse fill=\"none\" stroke=\"black\" cx=\"584\" cy=\"-79\" rx=\"27\" ry=\"18\"/>\n",
       "<text text-anchor=\"middle\" x=\"584\" y=\"-75.3\" font-family=\"Times New Roman,serif\" font-size=\"14.00\">*</text>\n",
       "</g>\n",
       "<!-- 2190922970160*&#45;&gt;2190922970160 -->\n",
       "<g id=\"edge1\" class=\"edge\">\n",
       "<title>2190922970160*&#45;&gt;2190922970160</title>\n",
       "<path fill=\"none\" stroke=\"black\" d=\"M611.13,-79C618.89,-79 627.67,-79 636.44,-79\"/>\n",
       "<polygon fill=\"black\" stroke=\"black\" points=\"636.67,-82.5 646.67,-79 636.67,-75.5 636.67,-82.5\"/>\n",
       "</g>\n",
       "<!-- 2190922933920 -->\n",
       "<g id=\"node4\" class=\"node\">\n",
       "<title>2190922933920</title>\n",
       "<polygon fill=\"none\" stroke=\"black\" points=\"0,-88.5 0,-157.5 83,-157.5 83,-88.5 0,-88.5\"/>\n",
       "<text text-anchor=\"middle\" x=\"41.5\" y=\"-142.3\" font-family=\"Times New Roman,serif\" font-size=\"14.00\">node : b</text>\n",
       "<polyline fill=\"none\" stroke=\"black\" points=\"0,-134.5 83,-134.5 \"/>\n",
       "<text text-anchor=\"middle\" x=\"41.5\" y=\"-119.3\" font-family=\"Times New Roman,serif\" font-size=\"14.00\">value = &#45;3.0</text>\n",
       "<polyline fill=\"none\" stroke=\"black\" points=\"0,-111.5 83,-111.5 \"/>\n",
       "<text text-anchor=\"middle\" x=\"41.5\" y=\"-96.3\" font-family=\"Times New Roman,serif\" font-size=\"14.00\">gradient = 0</text>\n",
       "</g>\n",
       "<!-- 2190922972032* -->\n",
       "<g id=\"node8\" class=\"node\">\n",
       "<title>2190922972032*</title>\n",
       "<ellipse fill=\"none\" stroke=\"black\" cx=\"146\" cy=\"-79\" rx=\"27\" ry=\"18\"/>\n",
       "<text text-anchor=\"middle\" x=\"146\" y=\"-75.3\" font-family=\"Times New Roman,serif\" font-size=\"14.00\">*</text>\n",
       "</g>\n",
       "<!-- 2190922933920&#45;&gt;2190922972032* -->\n",
       "<g id=\"edge4\" class=\"edge\">\n",
       "<title>2190922933920&#45;&gt;2190922972032*</title>\n",
       "<path fill=\"none\" stroke=\"black\" d=\"M83.01,-105.61C93.17,-101.25 103.91,-96.64 113.55,-92.5\"/>\n",
       "<polygon fill=\"black\" stroke=\"black\" points=\"114.95,-95.71 122.76,-88.55 112.19,-89.27 114.95,-95.71\"/>\n",
       "</g>\n",
       "<!-- 2190922971984 -->\n",
       "<g id=\"node5\" class=\"node\">\n",
       "<title>2190922971984</title>\n",
       "<polygon fill=\"none\" stroke=\"black\" points=\"433,-88.5 433,-157.5 521,-157.5 521,-88.5 433,-88.5\"/>\n",
       "<text text-anchor=\"middle\" x=\"477\" y=\"-142.3\" font-family=\"Times New Roman,serif\" font-size=\"14.00\">node : d</text>\n",
       "<polyline fill=\"none\" stroke=\"black\" points=\"433,-134.5 521,-134.5 \"/>\n",
       "<text text-anchor=\"middle\" x=\"477\" y=\"-119.3\" font-family=\"Times New Roman,serif\" font-size=\"14.00\">value = 4.0</text>\n",
       "<polyline fill=\"none\" stroke=\"black\" points=\"433,-111.5 521,-111.5 \"/>\n",
       "<text text-anchor=\"middle\" x=\"477\" y=\"-96.3\" font-family=\"Times New Roman,serif\" font-size=\"14.00\">gradient = &#45;2</text>\n",
       "</g>\n",
       "<!-- 2190922971984&#45;&gt;2190922970160* -->\n",
       "<g id=\"edge8\" class=\"edge\">\n",
       "<title>2190922971984&#45;&gt;2190922970160*</title>\n",
       "<path fill=\"none\" stroke=\"black\" d=\"M521.01,-104.98C531.1,-100.75 541.67,-96.32 551.17,-92.34\"/>\n",
       "<polygon fill=\"black\" stroke=\"black\" points=\"552.74,-95.47 560.61,-88.38 550.04,-89.02 552.74,-95.47\"/>\n",
       "</g>\n",
       "<!-- 2190922971984+&#45;&gt;2190922971984 -->\n",
       "<g id=\"edge2\" class=\"edge\">\n",
       "<title>2190922971984+&#45;&gt;2190922971984</title>\n",
       "<path fill=\"none\" stroke=\"black\" d=\"M397.23,-123C405.08,-123 413.99,-123 422.93,-123\"/>\n",
       "<polygon fill=\"black\" stroke=\"black\" points=\"422.97,-126.5 432.97,-123 422.97,-119.5 422.97,-126.5\"/>\n",
       "</g>\n",
       "<!-- 2190922972032 -->\n",
       "<g id=\"node7\" class=\"node\">\n",
       "<title>2190922972032</title>\n",
       "<polygon fill=\"none\" stroke=\"black\" points=\"209,-44.5 209,-113.5 307,-113.5 307,-44.5 209,-44.5\"/>\n",
       "<text text-anchor=\"middle\" x=\"258\" y=\"-98.3\" font-family=\"Times New Roman,serif\" font-size=\"14.00\">node : e</text>\n",
       "<polyline fill=\"none\" stroke=\"black\" points=\"209,-90.5 307,-90.5 \"/>\n",
       "<text text-anchor=\"middle\" x=\"258\" y=\"-75.3\" font-family=\"Times New Roman,serif\" font-size=\"14.00\">value = &#45;6.0</text>\n",
       "<polyline fill=\"none\" stroke=\"black\" points=\"209,-67.5 307,-67.5 \"/>\n",
       "<text text-anchor=\"middle\" x=\"258\" y=\"-52.3\" font-family=\"Times New Roman,serif\" font-size=\"14.00\">gradient = &#45;2.0</text>\n",
       "</g>\n",
       "<!-- 2190922972032&#45;&gt;2190922971984+ -->\n",
       "<g id=\"edge5\" class=\"edge\">\n",
       "<title>2190922972032&#45;&gt;2190922971984+</title>\n",
       "<path fill=\"none\" stroke=\"black\" d=\"M307.25,-98.3C317.25,-102.3 327.56,-106.42 336.82,-110.13\"/>\n",
       "<polygon fill=\"black\" stroke=\"black\" points=\"335.8,-113.49 346.39,-113.96 338.4,-106.99 335.8,-113.49\"/>\n",
       "</g>\n",
       "<!-- 2190922972032*&#45;&gt;2190922972032 -->\n",
       "<g id=\"edge3\" class=\"edge\">\n",
       "<title>2190922972032*&#45;&gt;2190922972032</title>\n",
       "<path fill=\"none\" stroke=\"black\" d=\"M173.07,-79C180.82,-79 189.65,-79 198.6,-79\"/>\n",
       "<polygon fill=\"black\" stroke=\"black\" points=\"198.7,-82.5 208.7,-79 198.7,-75.5 198.7,-82.5\"/>\n",
       "</g>\n",
       "<!-- 2190922934208 -->\n",
       "<g id=\"node9\" class=\"node\">\n",
       "<title>2190922934208</title>\n",
       "<polygon fill=\"none\" stroke=\"black\" points=\"0,-0.5 0,-69.5 83,-69.5 83,-0.5 0,-0.5\"/>\n",
       "<text text-anchor=\"middle\" x=\"41.5\" y=\"-54.3\" font-family=\"Times New Roman,serif\" font-size=\"14.00\">node : a</text>\n",
       "<polyline fill=\"none\" stroke=\"black\" points=\"0,-46.5 83,-46.5 \"/>\n",
       "<text text-anchor=\"middle\" x=\"41.5\" y=\"-31.3\" font-family=\"Times New Roman,serif\" font-size=\"14.00\">value = 2.0</text>\n",
       "<polyline fill=\"none\" stroke=\"black\" points=\"0,-23.5 83,-23.5 \"/>\n",
       "<text text-anchor=\"middle\" x=\"41.5\" y=\"-8.3\" font-family=\"Times New Roman,serif\" font-size=\"14.00\">gradient = 0</text>\n",
       "</g>\n",
       "<!-- 2190922934208&#45;&gt;2190922972032* -->\n",
       "<g id=\"edge6\" class=\"edge\">\n",
       "<title>2190922934208&#45;&gt;2190922972032*</title>\n",
       "<path fill=\"none\" stroke=\"black\" d=\"M83.01,-52.39C93.17,-56.75 103.91,-61.36 113.55,-65.5\"/>\n",
       "<polygon fill=\"black\" stroke=\"black\" points=\"112.19,-68.73 122.76,-69.45 114.95,-62.29 112.19,-68.73\"/>\n",
       "</g>\n",
       "<!-- 2190922971600 -->\n",
       "<g id=\"node10\" class=\"node\">\n",
       "<title>2190922971600</title>\n",
       "<polygon fill=\"none\" stroke=\"black\" points=\"435.5,-0.5 435.5,-69.5 518.5,-69.5 518.5,-0.5 435.5,-0.5\"/>\n",
       "<text text-anchor=\"middle\" x=\"477\" y=\"-54.3\" font-family=\"Times New Roman,serif\" font-size=\"14.00\">node : f</text>\n",
       "<polyline fill=\"none\" stroke=\"black\" points=\"435.5,-46.5 518.5,-46.5 \"/>\n",
       "<text text-anchor=\"middle\" x=\"477\" y=\"-31.3\" font-family=\"Times New Roman,serif\" font-size=\"14.00\">value = &#45;2.0</text>\n",
       "<polyline fill=\"none\" stroke=\"black\" points=\"435.5,-23.5 518.5,-23.5 \"/>\n",
       "<text text-anchor=\"middle\" x=\"477\" y=\"-8.3\" font-family=\"Times New Roman,serif\" font-size=\"14.00\">gradient = 4</text>\n",
       "</g>\n",
       "<!-- 2190922971600&#45;&gt;2190922970160* -->\n",
       "<g id=\"edge9\" class=\"edge\">\n",
       "<title>2190922971600&#45;&gt;2190922970160*</title>\n",
       "<path fill=\"none\" stroke=\"black\" d=\"M518.6,-52.01C529.44,-56.56 541,-61.4 551.29,-65.71\"/>\n",
       "<polygon fill=\"black\" stroke=\"black\" points=\"550.13,-69.02 560.7,-69.66 552.83,-62.56 550.13,-69.02\"/>\n",
       "</g>\n",
       "</g>\n",
       "</svg>\n"
      ],
      "text/plain": [
       "<graphviz.graphs.Digraph at 0x1fe1d2fcbe0>"
      ]
     },
     "execution_count": 60,
     "metadata": {},
     "output_type": "execute_result"
    }
   ],
   "source": [
    "draw_dot(L)"
   ]
  },
  {
   "cell_type": "markdown",
   "metadata": {},
   "source": [
    "Finalement pour trouver les gradient de `a` et `b` on prend la `derive locale` de `e` et on la multiplie par `de/db` pour obtenir `b.grad` et par `de/da` pour obtenir `a.grad`. (On reaplique recursivement la chaine rule a partir des derives locales).\n",
    "\n",
    "1. `dL/de = -2.0`\n",
    "2. `de/da` = `b` = -3.0 \n",
    "3. `de/db` = `a` = 2.0 \n",
    "\n",
    "> donc `dL/da` = `dL/de` * `de/da` = -2.0 * -3.0 = 6.0\n",
    "\n",
    "> donc `dL/db` = `dL/de` * `de/db` = -2.0 * 2.0 = -4.0 "
   ]
  },
  {
   "cell_type": "code",
   "execution_count": 61,
   "metadata": {},
   "outputs": [],
   "source": [
    "b.grad = -4.0\n",
    "a.grad = 6.0"
   ]
  },
  {
   "cell_type": "code",
   "execution_count": 62,
   "metadata": {},
   "outputs": [
    {
     "data": {
      "image/svg+xml": [
       "<?xml version=\"1.0\" encoding=\"UTF-8\" standalone=\"no\"?>\n",
       "<!DOCTYPE svg PUBLIC \"-//W3C//DTD SVG 1.1//EN\"\n",
       " \"http://www.w3.org/Graphics/SVG/1.1/DTD/svg11.dtd\">\n",
       "<!-- Generated by graphviz version 2.50.0 (0)\n",
       " -->\n",
       "<!-- Pages: 1 -->\n",
       "<svg width=\"753pt\" height=\"210pt\"\n",
       " viewBox=\"0.00 0.00 753.00 210.00\" xmlns=\"http://www.w3.org/2000/svg\" xmlns:xlink=\"http://www.w3.org/1999/xlink\">\n",
       "<g id=\"graph0\" class=\"graph\" transform=\"scale(1 1) rotate(0) translate(4 206)\">\n",
       "<polygon fill=\"white\" stroke=\"transparent\" points=\"-4,4 -4,-206 749,-206 749,4 -4,4\"/>\n",
       "<!-- 2190922933248 -->\n",
       "<g id=\"node1\" class=\"node\">\n",
       "<title>2190922933248</title>\n",
       "<polygon fill=\"none\" stroke=\"black\" points=\"224,-132.5 224,-201.5 322,-201.5 322,-132.5 224,-132.5\"/>\n",
       "<text text-anchor=\"middle\" x=\"273\" y=\"-186.3\" font-family=\"Times New Roman,serif\" font-size=\"14.00\">node : c</text>\n",
       "<polyline fill=\"none\" stroke=\"black\" points=\"224,-178.5 322,-178.5 \"/>\n",
       "<text text-anchor=\"middle\" x=\"273\" y=\"-163.3\" font-family=\"Times New Roman,serif\" font-size=\"14.00\">value = 10.0</text>\n",
       "<polyline fill=\"none\" stroke=\"black\" points=\"224,-155.5 322,-155.5 \"/>\n",
       "<text text-anchor=\"middle\" x=\"273\" y=\"-140.3\" font-family=\"Times New Roman,serif\" font-size=\"14.00\">gradient = &#45;2.0</text>\n",
       "</g>\n",
       "<!-- 2190922971984+ -->\n",
       "<g id=\"node6\" class=\"node\">\n",
       "<title>2190922971984+</title>\n",
       "<ellipse fill=\"none\" stroke=\"black\" cx=\"385\" cy=\"-123\" rx=\"27\" ry=\"18\"/>\n",
       "<text text-anchor=\"middle\" x=\"385\" y=\"-119.3\" font-family=\"Times New Roman,serif\" font-size=\"14.00\">+</text>\n",
       "</g>\n",
       "<!-- 2190922933248&#45;&gt;2190922971984+ -->\n",
       "<g id=\"edge7\" class=\"edge\">\n",
       "<title>2190922933248&#45;&gt;2190922971984+</title>\n",
       "<path fill=\"none\" stroke=\"black\" d=\"M322.25,-147.7C332.25,-143.7 342.56,-139.58 351.82,-135.87\"/>\n",
       "<polygon fill=\"black\" stroke=\"black\" points=\"353.4,-139.01 361.39,-132.04 350.8,-132.51 353.4,-139.01\"/>\n",
       "</g>\n",
       "<!-- 2190922970160 -->\n",
       "<g id=\"node2\" class=\"node\">\n",
       "<title>2190922970160</title>\n",
       "<polygon fill=\"none\" stroke=\"black\" points=\"662,-44.5 662,-113.5 745,-113.5 745,-44.5 662,-44.5\"/>\n",
       "<text text-anchor=\"middle\" x=\"703.5\" y=\"-98.3\" font-family=\"Times New Roman,serif\" font-size=\"14.00\">node : L</text>\n",
       "<polyline fill=\"none\" stroke=\"black\" points=\"662,-90.5 745,-90.5 \"/>\n",
       "<text text-anchor=\"middle\" x=\"703.5\" y=\"-75.3\" font-family=\"Times New Roman,serif\" font-size=\"14.00\">value = &#45;8.0</text>\n",
       "<polyline fill=\"none\" stroke=\"black\" points=\"662,-67.5 745,-67.5 \"/>\n",
       "<text text-anchor=\"middle\" x=\"703.5\" y=\"-52.3\" font-family=\"Times New Roman,serif\" font-size=\"14.00\">gradient = 1</text>\n",
       "</g>\n",
       "<!-- 2190922970160* -->\n",
       "<g id=\"node3\" class=\"node\">\n",
       "<title>2190922970160*</title>\n",
       "<ellipse fill=\"none\" stroke=\"black\" cx=\"599\" cy=\"-79\" rx=\"27\" ry=\"18\"/>\n",
       "<text text-anchor=\"middle\" x=\"599\" y=\"-75.3\" font-family=\"Times New Roman,serif\" font-size=\"14.00\">*</text>\n",
       "</g>\n",
       "<!-- 2190922970160*&#45;&gt;2190922970160 -->\n",
       "<g id=\"edge1\" class=\"edge\">\n",
       "<title>2190922970160*&#45;&gt;2190922970160</title>\n",
       "<path fill=\"none\" stroke=\"black\" d=\"M626.13,-79C633.89,-79 642.67,-79 651.44,-79\"/>\n",
       "<polygon fill=\"black\" stroke=\"black\" points=\"651.67,-82.5 661.67,-79 651.67,-75.5 651.67,-82.5\"/>\n",
       "</g>\n",
       "<!-- 2190922933920 -->\n",
       "<g id=\"node4\" class=\"node\">\n",
       "<title>2190922933920</title>\n",
       "<polygon fill=\"none\" stroke=\"black\" points=\"0,-88.5 0,-157.5 98,-157.5 98,-88.5 0,-88.5\"/>\n",
       "<text text-anchor=\"middle\" x=\"49\" y=\"-142.3\" font-family=\"Times New Roman,serif\" font-size=\"14.00\">node : b</text>\n",
       "<polyline fill=\"none\" stroke=\"black\" points=\"0,-134.5 98,-134.5 \"/>\n",
       "<text text-anchor=\"middle\" x=\"49\" y=\"-119.3\" font-family=\"Times New Roman,serif\" font-size=\"14.00\">value = &#45;3.0</text>\n",
       "<polyline fill=\"none\" stroke=\"black\" points=\"0,-111.5 98,-111.5 \"/>\n",
       "<text text-anchor=\"middle\" x=\"49\" y=\"-96.3\" font-family=\"Times New Roman,serif\" font-size=\"14.00\">gradient = &#45;4.0</text>\n",
       "</g>\n",
       "<!-- 2190922972032* -->\n",
       "<g id=\"node8\" class=\"node\">\n",
       "<title>2190922972032*</title>\n",
       "<ellipse fill=\"none\" stroke=\"black\" cx=\"161\" cy=\"-79\" rx=\"27\" ry=\"18\"/>\n",
       "<text text-anchor=\"middle\" x=\"161\" y=\"-75.3\" font-family=\"Times New Roman,serif\" font-size=\"14.00\">*</text>\n",
       "</g>\n",
       "<!-- 2190922933920&#45;&gt;2190922972032* -->\n",
       "<g id=\"edge4\" class=\"edge\">\n",
       "<title>2190922933920&#45;&gt;2190922972032*</title>\n",
       "<path fill=\"none\" stroke=\"black\" d=\"M98.25,-103.7C108.25,-99.7 118.56,-95.58 127.82,-91.87\"/>\n",
       "<polygon fill=\"black\" stroke=\"black\" points=\"129.4,-95.01 137.39,-88.04 126.8,-88.51 129.4,-95.01\"/>\n",
       "</g>\n",
       "<!-- 2190922971984 -->\n",
       "<g id=\"node5\" class=\"node\">\n",
       "<title>2190922971984</title>\n",
       "<polygon fill=\"none\" stroke=\"black\" points=\"448,-88.5 448,-157.5 536,-157.5 536,-88.5 448,-88.5\"/>\n",
       "<text text-anchor=\"middle\" x=\"492\" y=\"-142.3\" font-family=\"Times New Roman,serif\" font-size=\"14.00\">node : d</text>\n",
       "<polyline fill=\"none\" stroke=\"black\" points=\"448,-134.5 536,-134.5 \"/>\n",
       "<text text-anchor=\"middle\" x=\"492\" y=\"-119.3\" font-family=\"Times New Roman,serif\" font-size=\"14.00\">value = 4.0</text>\n",
       "<polyline fill=\"none\" stroke=\"black\" points=\"448,-111.5 536,-111.5 \"/>\n",
       "<text text-anchor=\"middle\" x=\"492\" y=\"-96.3\" font-family=\"Times New Roman,serif\" font-size=\"14.00\">gradient = &#45;2</text>\n",
       "</g>\n",
       "<!-- 2190922971984&#45;&gt;2190922970160* -->\n",
       "<g id=\"edge8\" class=\"edge\">\n",
       "<title>2190922971984&#45;&gt;2190922970160*</title>\n",
       "<path fill=\"none\" stroke=\"black\" d=\"M536.01,-104.98C546.1,-100.75 556.67,-96.32 566.17,-92.34\"/>\n",
       "<polygon fill=\"black\" stroke=\"black\" points=\"567.74,-95.47 575.61,-88.38 565.04,-89.02 567.74,-95.47\"/>\n",
       "</g>\n",
       "<!-- 2190922971984+&#45;&gt;2190922971984 -->\n",
       "<g id=\"edge2\" class=\"edge\">\n",
       "<title>2190922971984+&#45;&gt;2190922971984</title>\n",
       "<path fill=\"none\" stroke=\"black\" d=\"M412.23,-123C420.08,-123 428.99,-123 437.93,-123\"/>\n",
       "<polygon fill=\"black\" stroke=\"black\" points=\"437.97,-126.5 447.97,-123 437.97,-119.5 437.97,-126.5\"/>\n",
       "</g>\n",
       "<!-- 2190922972032 -->\n",
       "<g id=\"node7\" class=\"node\">\n",
       "<title>2190922972032</title>\n",
       "<polygon fill=\"none\" stroke=\"black\" points=\"224,-44.5 224,-113.5 322,-113.5 322,-44.5 224,-44.5\"/>\n",
       "<text text-anchor=\"middle\" x=\"273\" y=\"-98.3\" font-family=\"Times New Roman,serif\" font-size=\"14.00\">node : e</text>\n",
       "<polyline fill=\"none\" stroke=\"black\" points=\"224,-90.5 322,-90.5 \"/>\n",
       "<text text-anchor=\"middle\" x=\"273\" y=\"-75.3\" font-family=\"Times New Roman,serif\" font-size=\"14.00\">value = &#45;6.0</text>\n",
       "<polyline fill=\"none\" stroke=\"black\" points=\"224,-67.5 322,-67.5 \"/>\n",
       "<text text-anchor=\"middle\" x=\"273\" y=\"-52.3\" font-family=\"Times New Roman,serif\" font-size=\"14.00\">gradient = &#45;2.0</text>\n",
       "</g>\n",
       "<!-- 2190922972032&#45;&gt;2190922971984+ -->\n",
       "<g id=\"edge5\" class=\"edge\">\n",
       "<title>2190922972032&#45;&gt;2190922971984+</title>\n",
       "<path fill=\"none\" stroke=\"black\" d=\"M322.25,-98.3C332.25,-102.3 342.56,-106.42 351.82,-110.13\"/>\n",
       "<polygon fill=\"black\" stroke=\"black\" points=\"350.8,-113.49 361.39,-113.96 353.4,-106.99 350.8,-113.49\"/>\n",
       "</g>\n",
       "<!-- 2190922972032*&#45;&gt;2190922972032 -->\n",
       "<g id=\"edge3\" class=\"edge\">\n",
       "<title>2190922972032*&#45;&gt;2190922972032</title>\n",
       "<path fill=\"none\" stroke=\"black\" d=\"M188.07,-79C195.82,-79 204.65,-79 213.6,-79\"/>\n",
       "<polygon fill=\"black\" stroke=\"black\" points=\"213.7,-82.5 223.7,-79 213.7,-75.5 213.7,-82.5\"/>\n",
       "</g>\n",
       "<!-- 2190922934208 -->\n",
       "<g id=\"node9\" class=\"node\">\n",
       "<title>2190922934208</title>\n",
       "<polygon fill=\"none\" stroke=\"black\" points=\"2,-0.5 2,-69.5 96,-69.5 96,-0.5 2,-0.5\"/>\n",
       "<text text-anchor=\"middle\" x=\"49\" y=\"-54.3\" font-family=\"Times New Roman,serif\" font-size=\"14.00\">node : a</text>\n",
       "<polyline fill=\"none\" stroke=\"black\" points=\"2,-46.5 96,-46.5 \"/>\n",
       "<text text-anchor=\"middle\" x=\"49\" y=\"-31.3\" font-family=\"Times New Roman,serif\" font-size=\"14.00\">value = 2.0</text>\n",
       "<polyline fill=\"none\" stroke=\"black\" points=\"2,-23.5 96,-23.5 \"/>\n",
       "<text text-anchor=\"middle\" x=\"49\" y=\"-8.3\" font-family=\"Times New Roman,serif\" font-size=\"14.00\">gradient = 6.0</text>\n",
       "</g>\n",
       "<!-- 2190922934208&#45;&gt;2190922972032* -->\n",
       "<g id=\"edge6\" class=\"edge\">\n",
       "<title>2190922934208&#45;&gt;2190922972032*</title>\n",
       "<path fill=\"none\" stroke=\"black\" d=\"M96.01,-53.41C106.79,-57.71 118.03,-62.21 128.04,-66.22\"/>\n",
       "<polygon fill=\"black\" stroke=\"black\" points=\"126.98,-69.56 137.57,-70.03 129.58,-63.06 126.98,-69.56\"/>\n",
       "</g>\n",
       "<!-- 2190922971600 -->\n",
       "<g id=\"node10\" class=\"node\">\n",
       "<title>2190922971600</title>\n",
       "<polygon fill=\"none\" stroke=\"black\" points=\"450.5,-0.5 450.5,-69.5 533.5,-69.5 533.5,-0.5 450.5,-0.5\"/>\n",
       "<text text-anchor=\"middle\" x=\"492\" y=\"-54.3\" font-family=\"Times New Roman,serif\" font-size=\"14.00\">node : f</text>\n",
       "<polyline fill=\"none\" stroke=\"black\" points=\"450.5,-46.5 533.5,-46.5 \"/>\n",
       "<text text-anchor=\"middle\" x=\"492\" y=\"-31.3\" font-family=\"Times New Roman,serif\" font-size=\"14.00\">value = &#45;2.0</text>\n",
       "<polyline fill=\"none\" stroke=\"black\" points=\"450.5,-23.5 533.5,-23.5 \"/>\n",
       "<text text-anchor=\"middle\" x=\"492\" y=\"-8.3\" font-family=\"Times New Roman,serif\" font-size=\"14.00\">gradient = 4</text>\n",
       "</g>\n",
       "<!-- 2190922971600&#45;&gt;2190922970160* -->\n",
       "<g id=\"edge9\" class=\"edge\">\n",
       "<title>2190922971600&#45;&gt;2190922970160*</title>\n",
       "<path fill=\"none\" stroke=\"black\" d=\"M533.6,-52.01C544.44,-56.56 556,-61.4 566.29,-65.71\"/>\n",
       "<polygon fill=\"black\" stroke=\"black\" points=\"565.13,-69.02 575.7,-69.66 567.83,-62.56 565.13,-69.02\"/>\n",
       "</g>\n",
       "</g>\n",
       "</svg>\n"
      ],
      "text/plain": [
       "<graphviz.graphs.Digraph at 0x1fe1d2fc790>"
      ]
     },
     "execution_count": 62,
     "metadata": {},
     "output_type": "execute_result"
    }
   ],
   "source": [
    "# la premiere backward pass est completee :)\n",
    "draw_dot(L)"
   ]
  },
  {
   "cell_type": "markdown",
   "metadata": {},
   "source": [
    "### Making our loss vary"
   ]
  },
  {
   "cell_type": "code",
   "execution_count": null,
   "metadata": {},
   "outputs": [],
   "source": [
    "print(L.data)"
   ]
  },
  {
   "cell_type": "code",
   "execution_count": 66,
   "metadata": {},
   "outputs": [],
   "source": [
    "# let's try to nudge our leaf nodes (a,b,c,f) to make our loss `L` go up.\n",
    "# to do so we nudge our leaf nodes in the direction of the gradient (multiplied by a small number)\n",
    "# because remember, the gradients we calculated are **local**; we dont want to overshoot\n",
    "a.data += a.grad * 0.01\n",
    "b.data += b.grad * 0.01\n",
    "c.data += c.grad * 0.01\n",
    "f.data += f.grad * 0.01\n",
    "\n",
    "# run another forward pass after updating our gradients\n",
    "e = a*b;\n",
    "d = e + c; \n",
    "L = d * f; "
   ]
  },
  {
   "cell_type": "code",
   "execution_count": 67,
   "metadata": {},
   "outputs": [
    {
     "data": {
      "text/plain": [
       "-7.215871776"
      ]
     },
     "execution_count": 67,
     "metadata": {},
     "output_type": "execute_result"
    }
   ],
   "source": [
    "# We expected our Loss to go up, and it does.\n",
    "print(L.data)"
   ]
  },
  {
   "attachments": {
    "neuron.png": {
     "image/png": "[encoded data removed]"
    }
   },
   "cell_type": "markdown",
   "metadata": {},
   "source": [
    "# Backpropagating through a neuron\n",
    "The last step we are missing is our activation function. Lets implement it and try it on a complete neuron example\n",
    "\n",
    "![neuron.png](attachment:neuron.png)"
   ]
  },
  {
   "cell_type": "code",
   "execution_count": 19,
   "metadata": {},
   "outputs": [],
   "source": [
    "import sys\n",
    "# module_path = \"/home/john-ubu/dev/minigrad\"\n",
    "module_path  =\"C:\\\\Users\\\\mmonn\\\\Desktop\\\\torch\\\\pytorch_autrograd_reimplementation\"\n",
    "if module_path not in sys.path:\n",
    "    sys.path.append(module_path)"
   ]
  },
  {
   "cell_type": "code",
   "execution_count": 22,
   "metadata": {},
   "outputs": [],
   "source": [
    "import math\n",
    "import matplotlib.pyplot as plt\n",
    "import numpy as np\n",
    "from graphviz import Digraph\n",
    "from src.utils import draw_dot, trace\n",
    "%matplotlib inline"
   ]
  },
  {
   "cell_type": "code",
   "execution_count": 23,
   "metadata": {},
   "outputs": [
    {
     "data": {
      "image/png": "[encoded data removed]",
      "text/plain": [
       "<Figure size 432x288 with 1 Axes>"
      ]
     },
     "metadata": {
      "needs_background": "light"
     },
     "output_type": "display_data"
    }
   ],
   "source": [
    "# activation function used to \"squash\" the neuron value.\n",
    "plt.plot(np.arange(-5,5,0.2), np.tanh(np.arange(-5,5,0.2)));\n",
    "plt.grid()"
   ]
  },
  {
   "cell_type": "markdown",
   "metadata": {},
   "source": [
    "So lets implement a tanh function, who's definition is as follows : \n",
    "\\begin{equation}\n",
    "\\tanh(x) = \\frac{e^x - e^{-x}}{e^x + e^{-x}} = \\frac{e^{2x} - 1}{e^{2x} + 1}\n",
    "\\end{equation}"
   ]
  },
  {
   "cell_type": "code",
   "execution_count": 24,
   "metadata": {},
   "outputs": [],
   "source": [
    "class Value :\n",
    "\n",
    "    def __init__(self, data, _children=(), _op='', _label=''):\n",
    "        self.data = data\n",
    "        self.grad = 0\n",
    "        self._prev = set(_children)\n",
    "        self._op = _op\n",
    "        self._label = _label\n",
    "  \n",
    "    def __repr__(self) -> str:\n",
    "        return f\"Value(data={self.data})\"\n",
    "\n",
    "    def __add__(self, other):\n",
    "        summation = Value(self.data + other.data, _children=(self, other), _op=\"+\")\n",
    "        return summation\n",
    "\n",
    "    def __mul__(self, other):\n",
    "        mult = Value(self.data * other.data, _children=(self, other), _op=\"*\")\n",
    "        return mult\n",
    "    \n",
    "    def tanh(self):\n",
    "        x = self.data\n",
    "        t = (math.exp(2*x) - 1)/(math.exp(2*x) + 1)\n",
    "        # since the operation is on itself, and from itself, the _children tuple is only self.\n",
    "        out = Value(t, _children=(self,), _op='tanh')\n",
    "        \n",
    "        return out"
   ]
  },
  {
   "cell_type": "code",
   "execution_count": 25,
   "metadata": {},
   "outputs": [],
   "source": [
    "# neuron example\n",
    "# create features x1, x2\n",
    "x1 = Value(2.0, _label='x1')\n",
    "x2 = Value(0.0, _label='x2')\n",
    "\n",
    "# create corresponding weights w1, w2\n",
    "w1 = Value(-3.0, _label='w1')\n",
    "w2 = Value(1.0, _label='w2')\n",
    "\n",
    "# bias\n",
    "b = Value(6.7, _label='bias')\n",
    "\n",
    "# feature * weight interaction\n",
    "x1w1 = x1 * w1; x1w1._label = 'x1*w1'\n",
    "x2w2 = x2 * w2; x2w2._label = 'x2*w2'\n",
    "\n",
    "# sum\n",
    "x1w1_x2w2 = x1w1 + x2w2; x1w1_x2w2._label = 'x1*w1 + x2*w2'\n",
    "\n",
    "# add bias to obtain final neuron\n",
    "n = x1w1_x2w2 + b; n._label = 'n'\n",
    "\n",
    "# activation (we dont have one yet...)\n",
    "output = n.tanh()"
   ]
  },
  {
   "cell_type": "code",
   "execution_count": 26,
   "metadata": {},
   "outputs": [
    {
     "data": {
      "text/plain": [
       "{'data': 0.6043677771171636,\n",
       " 'grad': 0,\n",
       " '_prev': {Value(data=0.7000000000000002)},\n",
       " '_op': 'tanh',\n",
       " '_label': ''}"
      ]
     },
     "execution_count": 26,
     "metadata": {},
     "output_type": "execute_result"
    }
   ],
   "source": [
    "output.__dict__"
   ]
  },
  {
   "cell_type": "code",
   "execution_count": 28,
   "metadata": {},
   "outputs": [
    {
     "data": {
      "image/svg+xml": [
       "<?xml version=\"1.0\" encoding=\"UTF-8\" standalone=\"no\"?>\n",
       "<!DOCTYPE svg PUBLIC \"-//W3C//DTD SVG 1.1//EN\"\n",
       " \"http://www.w3.org/Graphics/SVG/1.1/DTD/svg11.dtd\">\n",
       "<!-- Generated by graphviz version 2.50.0 (0)\n",
       " -->\n",
       "<!-- Pages: 1 -->\n",
       "<svg width=\"1162pt\" height=\"210pt\"\n",
       " viewBox=\"0.00 0.00 1162.00 210.00\" xmlns=\"http://www.w3.org/2000/svg\" xmlns:xlink=\"http://www.w3.org/1999/xlink\">\n",
       "<g id=\"graph0\" class=\"graph\" transform=\"scale(1 1) rotate(0) translate(4 206)\">\n",
       "<polygon fill=\"white\" stroke=\"transparent\" points=\"-4,4 -4,-206 1158,-206 1158,4 -4,4\"/>\n",
       "<!-- 2113240591424 -->\n",
       "<g id=\"node1\" class=\"node\">\n",
       "<title>2113240591424</title>\n",
       "<polygon fill=\"none\" stroke=\"black\" points=\"2.5,-165.5 2.5,-201.5 115.5,-201.5 115.5,-165.5 2.5,-165.5\"/>\n",
       "<text text-anchor=\"middle\" x=\"19\" y=\"-179.8\" font-family=\"Times New Roman,serif\" font-size=\"14.00\">w2</text>\n",
       "<polyline fill=\"none\" stroke=\"black\" points=\"35.5,-165.5 35.5,-201.5 \"/>\n",
       "<text text-anchor=\"middle\" x=\"75.5\" y=\"-179.8\" font-family=\"Times New Roman,serif\" font-size=\"14.00\">data 1.0000</text>\n",
       "</g>\n",
       "<!-- 2113240592096* -->\n",
       "<g id=\"node3\" class=\"node\">\n",
       "<title>2113240592096*</title>\n",
       "<ellipse fill=\"none\" stroke=\"black\" cx=\"181\" cy=\"-128.5\" rx=\"27\" ry=\"18\"/>\n",
       "<text text-anchor=\"middle\" x=\"181\" y=\"-124.8\" font-family=\"Times New Roman,serif\" font-size=\"14.00\">*</text>\n",
       "</g>\n",
       "<!-- 2113240591424&#45;&gt;2113240592096* -->\n",
       "<g id=\"edge14\" class=\"edge\">\n",
       "<title>2113240591424&#45;&gt;2113240592096*</title>\n",
       "<path fill=\"none\" stroke=\"black\" d=\"M99.29,-165.49C115.33,-158.14 133.61,-149.76 148.72,-142.84\"/>\n",
       "<polygon fill=\"black\" stroke=\"black\" points=\"150.5,-145.87 158.13,-138.52 147.59,-139.51 150.5,-145.87\"/>\n",
       "</g>\n",
       "<!-- 2113240592096 -->\n",
       "<g id=\"node2\" class=\"node\">\n",
       "<title>2113240592096</title>\n",
       "<polygon fill=\"none\" stroke=\"black\" points=\"246.5,-110.5 246.5,-146.5 379.5,-146.5 379.5,-110.5 246.5,-110.5\"/>\n",
       "<text text-anchor=\"middle\" x=\"273\" y=\"-124.8\" font-family=\"Times New Roman,serif\" font-size=\"14.00\">x2*w2</text>\n",
       "<polyline fill=\"none\" stroke=\"black\" points=\"299.5,-110.5 299.5,-146.5 \"/>\n",
       "<text text-anchor=\"middle\" x=\"339.5\" y=\"-124.8\" font-family=\"Times New Roman,serif\" font-size=\"14.00\">data 0.0000</text>\n",
       "</g>\n",
       "<!-- 2113138759616+ -->\n",
       "<g id=\"node14\" class=\"node\">\n",
       "<title>2113138759616+</title>\n",
       "<ellipse fill=\"none\" stroke=\"black\" cx=\"445\" cy=\"-100.5\" rx=\"27\" ry=\"18\"/>\n",
       "<text text-anchor=\"middle\" x=\"445\" y=\"-96.8\" font-family=\"Times New Roman,serif\" font-size=\"14.00\">+</text>\n",
       "</g>\n",
       "<!-- 2113240592096&#45;&gt;2113138759616+ -->\n",
       "<g id=\"edge6\" class=\"edge\">\n",
       "<title>2113240592096&#45;&gt;2113138759616+</title>\n",
       "<path fill=\"none\" stroke=\"black\" d=\"M379.76,-114.34C389.92,-112.15 400.05,-109.97 409.17,-108\"/>\n",
       "<polygon fill=\"black\" stroke=\"black\" points=\"409.94,-111.42 418.98,-105.89 408.46,-104.57 409.94,-111.42\"/>\n",
       "</g>\n",
       "<!-- 2113240592096*&#45;&gt;2113240592096 -->\n",
       "<g id=\"edge1\" class=\"edge\">\n",
       "<title>2113240592096*&#45;&gt;2113240592096</title>\n",
       "<path fill=\"none\" stroke=\"black\" d=\"M208.31,-128.5C216.65,-128.5 226.34,-128.5 236.37,-128.5\"/>\n",
       "<polygon fill=\"black\" stroke=\"black\" points=\"236.48,-132 246.48,-128.5 236.48,-125 236.48,-132\"/>\n",
       "</g>\n",
       "<!-- 2113138761488 -->\n",
       "<g id=\"node4\" class=\"node\">\n",
       "<title>2113138761488</title>\n",
       "<polygon fill=\"none\" stroke=\"black\" points=\"1054,-54.5 1054,-90.5 1154,-90.5 1154,-54.5 1054,-54.5\"/>\n",
       "<text text-anchor=\"middle\" x=\"1064\" y=\"-68.8\" font-family=\"Times New Roman,serif\" font-size=\"14.00\"> </text>\n",
       "<polyline fill=\"none\" stroke=\"black\" points=\"1074,-54.5 1074,-90.5 \"/>\n",
       "<text text-anchor=\"middle\" x=\"1114\" y=\"-68.8\" font-family=\"Times New Roman,serif\" font-size=\"14.00\">data 0.6044</text>\n",
       "</g>\n",
       "<!-- 2113138761488tanh -->\n",
       "<g id=\"node5\" class=\"node\">\n",
       "<title>2113138761488tanh</title>\n",
       "<ellipse fill=\"none\" stroke=\"black\" cx=\"991\" cy=\"-72.5\" rx=\"27\" ry=\"18\"/>\n",
       "<text text-anchor=\"middle\" x=\"991\" y=\"-68.8\" font-family=\"Times New Roman,serif\" font-size=\"14.00\">tanh</text>\n",
       "</g>\n",
       "<!-- 2113138761488tanh&#45;&gt;2113138761488 -->\n",
       "<g id=\"edge2\" class=\"edge\">\n",
       "<title>2113138761488tanh&#45;&gt;2113138761488</title>\n",
       "<path fill=\"none\" stroke=\"black\" d=\"M1018.02,-72.5C1025.75,-72.5 1034.56,-72.5 1043.5,-72.5\"/>\n",
       "<polygon fill=\"black\" stroke=\"black\" points=\"1043.6,-76 1053.6,-72.5 1043.6,-69 1043.6,-76\"/>\n",
       "</g>\n",
       "<!-- 2113240533792 -->\n",
       "<g id=\"node6\" class=\"node\">\n",
       "<title>2113240533792</title>\n",
       "<polygon fill=\"none\" stroke=\"black\" points=\"0,-55.5 0,-91.5 118,-91.5 118,-55.5 0,-55.5\"/>\n",
       "<text text-anchor=\"middle\" x=\"16.5\" y=\"-69.8\" font-family=\"Times New Roman,serif\" font-size=\"14.00\">w1</text>\n",
       "<polyline fill=\"none\" stroke=\"black\" points=\"33,-55.5 33,-91.5 \"/>\n",
       "<text text-anchor=\"middle\" x=\"75.5\" y=\"-69.8\" font-family=\"Times New Roman,serif\" font-size=\"14.00\">data &#45;3.0000</text>\n",
       "</g>\n",
       "<!-- 2113240591184* -->\n",
       "<g id=\"node10\" class=\"node\">\n",
       "<title>2113240591184*</title>\n",
       "<ellipse fill=\"none\" stroke=\"black\" cx=\"181\" cy=\"-73.5\" rx=\"27\" ry=\"18\"/>\n",
       "<text text-anchor=\"middle\" x=\"181\" y=\"-69.8\" font-family=\"Times New Roman,serif\" font-size=\"14.00\">*</text>\n",
       "</g>\n",
       "<!-- 2113240533792&#45;&gt;2113240591184* -->\n",
       "<g id=\"edge10\" class=\"edge\">\n",
       "<title>2113240533792&#45;&gt;2113240591184*</title>\n",
       "<path fill=\"none\" stroke=\"black\" d=\"M118.24,-73.5C126.96,-73.5 135.73,-73.5 143.81,-73.5\"/>\n",
       "<polygon fill=\"black\" stroke=\"black\" points=\"143.98,-77 153.98,-73.5 143.98,-70 143.98,-77\"/>\n",
       "</g>\n",
       "<!-- 2113138760000 -->\n",
       "<g id=\"node7\" class=\"node\">\n",
       "<title>2113138760000</title>\n",
       "<polygon fill=\"none\" stroke=\"black\" points=\"825,-54.5 825,-90.5 928,-90.5 928,-54.5 825,-54.5\"/>\n",
       "<text text-anchor=\"middle\" x=\"836.5\" y=\"-68.8\" font-family=\"Times New Roman,serif\" font-size=\"14.00\">n</text>\n",
       "<polyline fill=\"none\" stroke=\"black\" points=\"848,-54.5 848,-90.5 \"/>\n",
       "<text text-anchor=\"middle\" x=\"888\" y=\"-68.8\" font-family=\"Times New Roman,serif\" font-size=\"14.00\">data 0.7000</text>\n",
       "</g>\n",
       "<!-- 2113138760000&#45;&gt;2113138761488tanh -->\n",
       "<g id=\"edge12\" class=\"edge\">\n",
       "<title>2113138760000&#45;&gt;2113138761488tanh</title>\n",
       "<path fill=\"none\" stroke=\"black\" d=\"M928.16,-72.5C936.75,-72.5 945.53,-72.5 953.66,-72.5\"/>\n",
       "<polygon fill=\"black\" stroke=\"black\" points=\"953.92,-76 963.92,-72.5 953.92,-69 953.92,-76\"/>\n",
       "</g>\n",
       "<!-- 2113138760000+ -->\n",
       "<g id=\"node8\" class=\"node\">\n",
       "<title>2113138760000+</title>\n",
       "<ellipse fill=\"none\" stroke=\"black\" cx=\"762\" cy=\"-72.5\" rx=\"27\" ry=\"18\"/>\n",
       "<text text-anchor=\"middle\" x=\"762\" y=\"-68.8\" font-family=\"Times New Roman,serif\" font-size=\"14.00\">+</text>\n",
       "</g>\n",
       "<!-- 2113138760000+&#45;&gt;2113138760000 -->\n",
       "<g id=\"edge3\" class=\"edge\">\n",
       "<title>2113138760000+&#45;&gt;2113138760000</title>\n",
       "<path fill=\"none\" stroke=\"black\" d=\"M789.09,-72.5C796.83,-72.5 805.64,-72.5 814.61,-72.5\"/>\n",
       "<polygon fill=\"black\" stroke=\"black\" points=\"814.76,-76 824.76,-72.5 814.76,-69 814.76,-76\"/>\n",
       "</g>\n",
       "<!-- 2113240591184 -->\n",
       "<g id=\"node9\" class=\"node\">\n",
       "<title>2113240591184</title>\n",
       "<polygon fill=\"none\" stroke=\"black\" points=\"244,-55.5 244,-91.5 382,-91.5 382,-55.5 244,-55.5\"/>\n",
       "<text text-anchor=\"middle\" x=\"270.5\" y=\"-69.8\" font-family=\"Times New Roman,serif\" font-size=\"14.00\">x1*w1</text>\n",
       "<polyline fill=\"none\" stroke=\"black\" points=\"297,-55.5 297,-91.5 \"/>\n",
       "<text text-anchor=\"middle\" x=\"339.5\" y=\"-69.8\" font-family=\"Times New Roman,serif\" font-size=\"14.00\">data &#45;6.0000</text>\n",
       "</g>\n",
       "<!-- 2113240591184&#45;&gt;2113138759616+ -->\n",
       "<g id=\"edge8\" class=\"edge\">\n",
       "<title>2113240591184&#45;&gt;2113138759616+</title>\n",
       "<path fill=\"none\" stroke=\"black\" d=\"M382.05,-87.63C391.48,-89.59 400.83,-91.53 409.29,-93.29\"/>\n",
       "<polygon fill=\"black\" stroke=\"black\" points=\"408.62,-96.73 419.13,-95.33 410.05,-89.87 408.62,-96.73\"/>\n",
       "</g>\n",
       "<!-- 2113240591184*&#45;&gt;2113240591184 -->\n",
       "<g id=\"edge4\" class=\"edge\">\n",
       "<title>2113240591184*&#45;&gt;2113240591184</title>\n",
       "<path fill=\"none\" stroke=\"black\" d=\"M208.31,-73.5C215.85,-73.5 224.49,-73.5 233.5,-73.5\"/>\n",
       "<polygon fill=\"black\" stroke=\"black\" points=\"233.78,-77 243.78,-73.5 233.78,-70 233.78,-77\"/>\n",
       "</g>\n",
       "<!-- 2113240513408 -->\n",
       "<g id=\"node11\" class=\"node\">\n",
       "<title>2113240513408</title>\n",
       "<polygon fill=\"none\" stroke=\"black\" points=\"4,-110.5 4,-146.5 114,-146.5 114,-110.5 4,-110.5\"/>\n",
       "<text text-anchor=\"middle\" x=\"19\" y=\"-124.8\" font-family=\"Times New Roman,serif\" font-size=\"14.00\">x2</text>\n",
       "<polyline fill=\"none\" stroke=\"black\" points=\"34,-110.5 34,-146.5 \"/>\n",
       "<text text-anchor=\"middle\" x=\"74\" y=\"-124.8\" font-family=\"Times New Roman,serif\" font-size=\"14.00\">data 0.0000</text>\n",
       "</g>\n",
       "<!-- 2113240513408&#45;&gt;2113240592096* -->\n",
       "<g id=\"edge7\" class=\"edge\">\n",
       "<title>2113240513408&#45;&gt;2113240592096*</title>\n",
       "<path fill=\"none\" stroke=\"black\" d=\"M114.03,-128.5C124.07,-128.5 134.33,-128.5 143.67,-128.5\"/>\n",
       "<polygon fill=\"black\" stroke=\"black\" points=\"143.78,-132 153.78,-128.5 143.78,-125 143.78,-132\"/>\n",
       "</g>\n",
       "<!-- 2113240533936 -->\n",
       "<g id=\"node12\" class=\"node\">\n",
       "<title>2113240533936</title>\n",
       "<polygon fill=\"none\" stroke=\"black\" points=\"4,-0.5 4,-36.5 114,-36.5 114,-0.5 4,-0.5\"/>\n",
       "<text text-anchor=\"middle\" x=\"19\" y=\"-14.8\" font-family=\"Times New Roman,serif\" font-size=\"14.00\">x1</text>\n",
       "<polyline fill=\"none\" stroke=\"black\" points=\"34,-0.5 34,-36.5 \"/>\n",
       "<text text-anchor=\"middle\" x=\"74\" y=\"-14.8\" font-family=\"Times New Roman,serif\" font-size=\"14.00\">data 2.0000</text>\n",
       "</g>\n",
       "<!-- 2113240533936&#45;&gt;2113240591184* -->\n",
       "<g id=\"edge9\" class=\"edge\">\n",
       "<title>2113240533936&#45;&gt;2113240591184*</title>\n",
       "<path fill=\"none\" stroke=\"black\" d=\"M99.29,-36.51C115.33,-43.86 133.61,-52.24 148.72,-59.16\"/>\n",
       "<polygon fill=\"black\" stroke=\"black\" points=\"147.59,-62.49 158.13,-63.48 150.5,-56.13 147.59,-62.49\"/>\n",
       "</g>\n",
       "<!-- 2113138759616 -->\n",
       "<g id=\"node13\" class=\"node\">\n",
       "<title>2113138759616</title>\n",
       "<polygon fill=\"none\" stroke=\"black\" points=\"508,-82.5 508,-118.5 699,-118.5 699,-82.5 508,-82.5\"/>\n",
       "<text text-anchor=\"middle\" x=\"561\" y=\"-96.8\" font-family=\"Times New Roman,serif\" font-size=\"14.00\">x1*w1 + x2*w2</text>\n",
       "<polyline fill=\"none\" stroke=\"black\" points=\"614,-82.5 614,-118.5 \"/>\n",
       "<text text-anchor=\"middle\" x=\"656.5\" y=\"-96.8\" font-family=\"Times New Roman,serif\" font-size=\"14.00\">data &#45;6.0000</text>\n",
       "</g>\n",
       "<!-- 2113138759616&#45;&gt;2113138760000+ -->\n",
       "<g id=\"edge11\" class=\"edge\">\n",
       "<title>2113138759616&#45;&gt;2113138760000+</title>\n",
       "<path fill=\"none\" stroke=\"black\" d=\"M699.15,-83.57C708.46,-81.9 717.44,-80.29 725.54,-78.84\"/>\n",
       "<polygon fill=\"black\" stroke=\"black\" points=\"726.41,-82.24 735.64,-77.04 725.18,-75.35 726.41,-82.24\"/>\n",
       "</g>\n",
       "<!-- 2113138759616+&#45;&gt;2113138759616 -->\n",
       "<g id=\"edge5\" class=\"edge\">\n",
       "<title>2113138759616+&#45;&gt;2113138759616</title>\n",
       "<path fill=\"none\" stroke=\"black\" d=\"M472.19,-100.5C479.67,-100.5 488.31,-100.5 497.51,-100.5\"/>\n",
       "<polygon fill=\"black\" stroke=\"black\" points=\"497.68,-104 507.68,-100.5 497.68,-97 497.68,-104\"/>\n",
       "</g>\n",
       "<!-- 2113240591328 -->\n",
       "<g id=\"node15\" class=\"node\">\n",
       "<title>2113240591328</title>\n",
       "<polygon fill=\"none\" stroke=\"black\" points=\"544.5,-27.5 544.5,-63.5 662.5,-63.5 662.5,-27.5 544.5,-27.5\"/>\n",
       "<text text-anchor=\"middle\" x=\"563.5\" y=\"-41.8\" font-family=\"Times New Roman,serif\" font-size=\"14.00\">bias</text>\n",
       "<polyline fill=\"none\" stroke=\"black\" points=\"582.5,-27.5 582.5,-63.5 \"/>\n",
       "<text text-anchor=\"middle\" x=\"622.5\" y=\"-41.8\" font-family=\"Times New Roman,serif\" font-size=\"14.00\">data 6.7000</text>\n",
       "</g>\n",
       "<!-- 2113240591328&#45;&gt;2113138760000+ -->\n",
       "<g id=\"edge13\" class=\"edge\">\n",
       "<title>2113240591328&#45;&gt;2113138760000+</title>\n",
       "<path fill=\"none\" stroke=\"black\" d=\"M662.77,-55.55C683.79,-59.18 706.88,-63.16 725.38,-66.35\"/>\n",
       "<polygon fill=\"black\" stroke=\"black\" points=\"724.97,-69.84 735.42,-68.09 726.16,-62.94 724.97,-69.84\"/>\n",
       "</g>\n",
       "</g>\n",
       "</svg>\n"
      ],
      "text/plain": [
       "<graphviz.graphs.Digraph at 0x1ec0109cf10>"
      ]
     },
     "execution_count": 28,
     "metadata": {},
     "output_type": "execute_result"
    }
   ],
   "source": [
    "draw_dot(output)"
   ]
  },
  {
   "cell_type": "code",
   "execution_count": null,
   "metadata": {},
   "outputs": [],
   "source": []
  },
  {
   "cell_type": "code",
   "execution_count": null,
   "metadata": {},
   "outputs": [],
   "source": []
  },
  {
   "cell_type": "code",
   "execution_count": null,
   "metadata": {},
   "outputs": [],
   "source": []
  },
  {
   "cell_type": "code",
   "execution_count": null,
   "metadata": {},
   "outputs": [],
   "source": []
  },
  {
   "cell_type": "code",
   "execution_count": null,
   "metadata": {},
   "outputs": [],
   "source": []
  },
  {
   "cell_type": "code",
   "execution_count": null,
   "metadata": {},
   "outputs": [],
   "source": []
  },
  {
   "cell_type": "code",
   "execution_count": null,
   "metadata": {},
   "outputs": [],
   "source": []
  },
  {
   "cell_type": "code",
   "execution_count": null,
   "metadata": {},
   "outputs": [],
   "source": []
  },
  {
   "cell_type": "code",
   "execution_count": null,
   "metadata": {},
   "outputs": [],
   "source": []
  },
  {
   "cell_type": "code",
   "execution_count": null,
   "metadata": {},
   "outputs": [],
   "source": []
  },
  {
   "cell_type": "code",
   "execution_count": null,
   "metadata": {},
   "outputs": [],
   "source": []
  },
  {
   "cell_type": "code",
   "execution_count": null,
   "metadata": {},
   "outputs": [],
   "source": []
  },
  {
   "cell_type": "code",
   "execution_count": null,
   "metadata": {},
   "outputs": [],
   "source": []
  },
  {
   "cell_type": "code",
   "execution_count": null,
   "metadata": {},
   "outputs": [],
   "source": []
  },
  {
   "cell_type": "code",
   "execution_count": null,
   "metadata": {},
   "outputs": [],
   "source": []
  },
  {
   "cell_type": "markdown",
   "metadata": {},
   "source": []
  }
 ],
 "metadata": {
  "kernelspec": {
   "display_name": "geom",
   "language": "python",
   "name": "geom"
  },
  "language_info": {
   "codemirror_mode": {
    "name": "ipython",
    "version": 3
   },
   "file_extension": ".py",
   "mimetype": "text/x-python",
   "name": "python",
   "nbconvert_exporter": "python",
   "pygments_lexer": "ipython3",
   "version": "3.9.12"
  },
  "vscode": {
   "interpreter": {
    "hash": "fd56026f2b05766b384bda98bf43b7f8069d59423fa5eac20528b5581d6a0883"
   }
  }
 },
 "nbformat": 4,
 "nbformat_minor": 2
}
