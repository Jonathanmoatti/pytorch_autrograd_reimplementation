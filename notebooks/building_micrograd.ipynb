{
 "cells": [
  {
   "cell_type": "code",
   "execution_count": 16,
   "metadata": {},
   "outputs": [],
   "source": [
    "import math\n",
    "import matplotlib.pyplot as plt\n",
    "import numpy as np\n",
    "import torch\n",
    "from ipywidgets import interact\n",
    "from functools import partial\n",
    "%matplotlib inline"
   ]
  },
  {
   "cell_type": "code",
   "execution_count": 17,
   "metadata": {},
   "outputs": [],
   "source": [
    "# define our quadratic function\n",
    "def f(x):\n",
    "    return 3*x**2 - 4*x + 5"
   ]
  },
  {
   "cell_type": "code",
   "execution_count": 18,
   "metadata": {},
   "outputs": [
    {
     "data": {
      "text/plain": [
       "4"
      ]
     },
     "execution_count": 18,
     "metadata": {},
     "output_type": "execute_result"
    }
   ],
   "source": [
    "# verification\n",
    "assert f(1) == 3*1**2 - 4*1 + 5\n",
    "f(1)"
   ]
  },
  {
   "cell_type": "code",
   "execution_count": 19,
   "metadata": {},
   "outputs": [
    {
     "data": {
      "image/png": "[encoded data removed]",
      "text/plain": [
       "<Figure size 432x288 with 1 Axes>"
      ]
     },
     "metadata": {
      "needs_background": "light"
     },
     "output_type": "display_data"
    }
   ],
   "source": [
    "# plot the function\n",
    "xs = np.arange(-5, 5, 0.25)\n",
    "ys = f(xs)\n",
    "plt.plot(xs, ys)\n",
    "plt.show()"
   ]
  },
  {
   "attachments": {},
   "cell_type": "markdown",
   "metadata": {},
   "source": [
    "## Partial derivative w.r.t single variable"
   ]
  },
  {
   "attachments": {},
   "cell_type": "markdown",
   "metadata": {},
   "source": [
    "**definition of being differentiable**::\n",
    "$${\\displaystyle L=\\lim _{h\\to 0}{\\frac {f(x+h)-f(x)}{h}}}$$\n",
    "\n",
    "In other words,  it is the limit as `h` goes to 0 of\n",
    "$${\\frac {f(x+h)-f(x)}{h}}$$\n",
    "\n",
    "**RQ**: What it's saying is if you're at some point `x` \n",
    "that you're interested in, and if you slightly increase it by\n",
    "small number `h`, how does the function respond and with what sensitivity does it respond. So what we really want to know is what is the slope at that point; does the function go up or does it go down? and by how much? \n",
    "\n",
    "So we can basically evaluate the derivative here numerically by taking a very small `h`. Of course the definition would ask us to take an `h` value of 0 but we're just going to pick a very small `h`, let's say     0.001, and let's say we're interested in point 3.0. \n",
    "We look at `f(x)` for `x=3` and see the value is `20`. so if we nudge `x` by a very small amount `h`, how will the function respond?"
   ]
  },
  {
   "cell_type": "code",
   "execution_count": 20,
   "metadata": {},
   "outputs": [
    {
     "name": "stdout",
     "output_type": "stream",
     "text": [
      "The slope for f(x) at x = 3 is 14.000\n"
     ]
    }
   ],
   "source": [
    "# check derivate at x = 3 --> nugding up leads to increase in value\n",
    "h = 0.0001\n",
    "x = 3\n",
    "slope = (f(x+h)-f(x))/h\n",
    "\n",
    "print(f\"The slope for f(x) at x = 3 is {slope :.3f}\")"
   ]
  },
  {
   "cell_type": "code",
   "execution_count": 21,
   "metadata": {},
   "outputs": [
    {
     "name": "stdout",
     "output_type": "stream",
     "text": [
      "The slope for f(x) at x = 3 is -22.000\n"
     ]
    }
   ],
   "source": [
    "# check derivate at x = -3 --> nugding up leads to decrease in value\n",
    "h = 0.0001\n",
    "x = -3\n",
    "slope = (f(x+h)-f(x))/h\n",
    "\n",
    "print(f\"The slope for f(x) at x = -3 is {slope:.3f}\")"
   ]
  },
  {
   "cell_type": "code",
   "execution_count": 22,
   "metadata": {},
   "outputs": [
    {
     "name": "stdout",
     "output_type": "stream",
     "text": [
      "The slope for f(x) at x = 3 is 0.000\n"
     ]
    }
   ],
   "source": [
    "# check derivate at x = 2/3 --> nugding up leads to no change in value \n",
    "h = 0.0001\n",
    "x = 2/3\n",
    "slope = (f(x+h)-f(x))/h\n",
    "\n",
    "print(f\"The slope for f(x) at x = 2/3 is {slope:.3f}\")"
   ]
  },
  {
   "cell_type": "code",
   "execution_count": 103,
   "metadata": {},
   "outputs": [
    {
     "data": {
      "text/plain": [
       "(tensor([ 14., -22.,   0.], grad_fn=<AddBackward0>),)"
      ]
     },
     "execution_count": 103,
     "metadata": {},
     "output_type": "execute_result"
    }
   ],
   "source": [
    "# Double check result w/ pytorch\n",
    "# pour differentes valeures de x\n",
    "x = torch.tensor([3.0,-3.0,2/3], requires_grad=True)\n",
    "# pour une fonction f donnee  \n",
    "y = 3*x**2 - 4*x + 5\n",
    "\n",
    "gradients = torch.autograd.grad(y, x, create_graph=True, retain_graph=True, grad_outputs=torch.ones_like(x))\n",
    "gradients"
   ]
  },
  {
   "attachments": {},
   "cell_type": "markdown",
   "metadata": {},
   "source": [
    "#### Getting gradients for more than just a scalar\n",
    "\n",
    "**Side note sur torch.autograd.grad**:\n",
    "torch.autograd.grad is a function in PyTorch that allows you to compute the gradients of a tensor with respect to one or more inputs. The function takes in the following arguments:\n",
    "\n",
    "1. A `callable` (e.g. a function or a neural network model), which represents the computation that you want to compute the gradients of.\n",
    "2. A `tensor`or a sequence of tensors that you want to compute the gradients with respect to.\n",
    "3. `grad_outputs`: A tensor or a sequence of tensors representing the gradient of the output with respect to the input.\n",
    "4. `retain_graph` (default=False): A Boolean that tells PyTorch whether to keep the computation graph around after the gradients have been computed.\n",
    "5. `create_graph` (default=False): A Boolean that tells PyTorch whether to create a computation graph of the gradients.\n",
    "\n",
    "The function returns a tuple of the same length as the inputs argument, containing the gradients of the callable with respect to each input tensor.\n",
    "\n",
    "It's used when you need more control over the backward pass or when you need to compute gradients on non-scalar output. In other words, it's a more flexible and powerful way to calculate gradients as compared to backward() method. It is useful when you want to apply gradients on one output multiple times."
   ]
  },
  {
   "attachments": {},
   "cell_type": "markdown",
   "metadata": {},
   "source": [
    "# Partial derivative w.r.t multiple variables"
   ]
  },
  {
   "attachments": {},
   "cell_type": "markdown",
   "metadata": {},
   "source": [
    "In order to evaluate this derivative we're going to get a bit hacky here:\n",
    "\n",
    " We're going to again have a very small value of `h` and then we're going to fix the inputs at some values that we're interested in (`a`,`b` and `c`).\n",
    "\n",
    "After that we're going to be evaluating the the derivative of `d` with respect to `a`, `b` and `c` at that point. \n",
    "\n",
    "1. First we'll look at the derivative of `d` with respect to `a`; so we'll take `a`and we'll bump it by `h` and compare it to d2 which is the exact same function without the bump."
   ]
  },
  {
   "cell_type": "code",
   "execution_count": 95,
   "metadata": {},
   "outputs": [
    {
     "name": "stdout",
     "output_type": "stream",
     "text": [
      "4.0\n"
     ]
    }
   ],
   "source": [
    "# our bump\n",
    "h = 0.0001\n",
    "\n",
    "# inputs at which we'll evaluate the derivative of d with respect to a, b and c.\n",
    "a = 2.0\n",
    "b = -3.0\n",
    "c = 10.0\n",
    "d = a*b + c\n",
    "print(d)"
   ]
  },
  {
   "cell_type": "code",
   "execution_count": 96,
   "metadata": {},
   "outputs": [
    {
     "name": "stdout",
     "output_type": "stream",
     "text": [
      "d1 : 4.0\n",
      "d2 : 3.999699999999999\n",
      "slope (gradient): -3.000\n"
     ]
    }
   ],
   "source": [
    "# equation for d1 (adding h to a), so partial derivative of d with respect to a\n",
    "d1 = a*b + c\n",
    "a += h\n",
    "\n",
    "# equation for d2 (without adding h to a)\n",
    "d2 = a*b + c\n",
    "\n",
    "print(f\"d1 : {d1}\")\n",
    "print(f\"d2 : {d2}\")\n",
    "# difference between d2 and d1, normalized by h, with respect to a\n",
    "print(f\"slope (gradient): {(d2-d1)/h:.3f}\")"
   ]
  },
  {
   "cell_type": "code",
   "execution_count": 97,
   "metadata": {},
   "outputs": [
    {
     "name": "stdout",
     "output_type": "stream",
     "text": [
      "d1 : 3.999699999999999\n",
      "d2 : 3.99990001\n",
      "slope (gradient): 2.000\n"
     ]
    }
   ],
   "source": [
    "# equation for d1 (adding h to a), so partial derivative of d with respect to b\n",
    "d1 = a*b + c\n",
    "b += h\n",
    "\n",
    "# equation for d2 (without adding h to b)\n",
    "d2 = a*b + c\n",
    "\n",
    "print(f\"d1 : {d1}\")\n",
    "print(f\"d2 : {d2}\")\n",
    "# difference between d2 and d1, normalized by h, with respect to b\n",
    "print(f\"slope (gradient): {(d2-d1)/h:.3f}\")"
   ]
  },
  {
   "cell_type": "code",
   "execution_count": 98,
   "metadata": {},
   "outputs": [
    {
     "name": "stdout",
     "output_type": "stream",
     "text": [
      "d1 : 3.99990001\n",
      "d2 : 4.00000001\n",
      "slope  (gradient): 1.000\n"
     ]
    }
   ],
   "source": [
    "# equation for d1 (adding h to a), so partial derivative of d with respect to c\n",
    "d1 = a*b + c\n",
    "c += h\n",
    "\n",
    "# equation for d2 (without adding h to c)\n",
    "d2 = a*b + c\n",
    "\n",
    "print(f\"d1 : {d1}\")\n",
    "print(f\"d2 : {d2}\")\n",
    "# difference between d2 and d1, normalized by h, with respect to c\n",
    "print(f\"slope  (gradient): {(d2-d1)/h:.3f}\")"
   ]
  },
  {
   "cell_type": "code",
   "execution_count": null,
   "metadata": {},
   "outputs": [
    {
     "name": "stdout",
     "output_type": "stream",
     "text": [
      "slope  (gradient) with respect to a: -3.0\n",
      "slope  (gradient) with respect to a: 2.0\n",
      "slope  (gradient) with respect to a: 1.0\n"
     ]
    }
   ],
   "source": [
    "# step by step.\n",
    "a = torch.tensor(2.0).requires_grad_()\n",
    "b = torch.tensor(-3.0).requires_grad_()\n",
    "c = torch.tensor(10.0).requires_grad_()\n",
    "d = a*b + c\n",
    "d.backward()\n",
    "print(f\"slope  (gradient) with respect to a: {a.grad}\")\n",
    "print(f\"slope  (gradient) with respect to b: {b.grad}\")\n",
    "print(f\"slope  (gradient) with respect to c: {c.grad}\")"
   ]
  },
  {
   "cell_type": "code",
   "execution_count": 168,
   "metadata": {},
   "outputs": [],
   "source": [
    "# # all together\n",
    "# abc = torch.tensor([2.0,-3.0,10.0], requires_grad=True)\n",
    "\n",
    "# def linear_fn(inpt): \n",
    "#     # unpack the input\n",
    "#     a,b,c = inpt\n",
    "#     return a*b + c\n",
    "# # create computational graph\n",
    "# d = linear_fn(abc)\n",
    "# # compute gradients\n",
    "# d.backward()\n",
    "# # obtain gradients\n",
    "# abc.grad\n",
    "\n",
    "# print(f\"slope  (gradient) with respect to a: {abc.grad[0]}\")\n",
    "# print(f\"slope  (gradient) with respect to b: {abc.grad[1]}\")\n",
    "# print(f\"slope  (gradient) with respect to c: {abc.grad[2]}\")"
   ]
  },
  {
   "attachments": {},
   "cell_type": "markdown",
   "metadata": {},
   "source": [
    "However, we can't write out neural networks as mathematical expressions, they'd be monstrous, so instead what we're going to do is build a `Value Object`."
   ]
  },
  {
   "cell_type": "code",
   "execution_count": 169,
   "metadata": {},
   "outputs": [],
   "source": [
    "class Value:\n",
    "    def __init__(self, data):\n",
    "        self.data = data\n",
    "    \n",
    "    #  decide of the output string representation of data  \n",
    "    # in human readable format \n",
    "    def __repr__(self) -> str:\n",
    "        return f\"Value(data={self.data})\""
   ]
  },
  {
   "cell_type": "code",
   "execution_count": 170,
   "metadata": {},
   "outputs": [
    {
     "data": {
      "text/plain": [
       "Value(data=2.0)"
      ]
     },
     "execution_count": 170,
     "metadata": {},
     "output_type": "execute_result"
    }
   ],
   "source": [
    "a = Value(2.0)\n",
    "a"
   ]
  },
  {
   "cell_type": "code",
   "execution_count": 171,
   "metadata": {},
   "outputs": [
    {
     "name": "stdout",
     "output_type": "stream",
     "text": [
      "unsupported operand type(s) for +: 'Value' and 'Value'\n",
      "We have not implemented additions between two Value objects (yet!!)\n"
     ]
    }
   ],
   "source": [
    "# what if we want to add two Value objects?\n",
    "a = Value(2.0)\n",
    "b = Value(3.0)\n",
    "\n",
    "try:\n",
    "    c = a + b\n",
    "    \n",
    "except Exception as e:\n",
    "    print(e)\n",
    "    print(f\"We have not implemented additions between two Value objects (yet!!)\")\n",
    "\n",
    "else:\n",
    "    print(c)\n",
    "    print(\"We have succesfully added two Value objects!!\")"
   ]
  },
  {
   "attachments": {},
   "cell_type": "markdown",
   "metadata": {},
   "source": [
    "### Adding an __add__ method"
   ]
  },
  {
   "cell_type": "code",
   "execution_count": 1,
   "metadata": {},
   "outputs": [],
   "source": [
    "class Value:\n",
    "    def __init__(self, data):\n",
    "        self.data = data\n",
    "    \n",
    "    #  decide of the output string representation of data   \n",
    "    def __repr__(self) -> str:\n",
    "        return f\"Value(data={self.data})\"\n",
    "\n",
    "    # define addition\n",
    "    def __add__(self, other):\n",
    "        # creer un nouvel object Value qui contient la somme des deux\n",
    "        summation = Value(self.data + other.data)\n",
    "        return summation"
   ]
  },
  {
   "cell_type": "code",
   "execution_count": 2,
   "metadata": {},
   "outputs": [
    {
     "name": "stdout",
     "output_type": "stream",
     "text": [
      "Value(data=5.0)\n",
      "We have succesfully added two Value objects!!\n"
     ]
    }
   ],
   "source": [
    "# Now that we have added the __add__ method, we can add two Value objects.\n",
    "a = Value(2.0)\n",
    "b = Value(3.0)\n",
    "\n",
    "try:\n",
    "    c = a+b\n",
    "except Exception as e:\n",
    "    print(e)\n",
    "    print(f\"We have not implemented additions between two Value objects (yet!!)\")\n",
    "\n",
    "else:\n",
    "    print(c)\n",
    "    print(\"We have succesfully added two Value objects!!\")"
   ]
  },
  {
   "attachments": {},
   "cell_type": "markdown",
   "metadata": {},
   "source": [
    "### Adding a __mult__ method"
   ]
  },
  {
   "cell_type": "code",
   "execution_count": 3,
   "metadata": {},
   "outputs": [],
   "source": [
    "# define multiplication\n",
    "def __mul__(self, other):\n",
    "    mult = Value(self.data * other.data)\n",
    "    return mult"
   ]
  },
  {
   "cell_type": "code",
   "execution_count": 7,
   "metadata": {},
   "outputs": [],
   "source": [
    "# monkey patch it to our Value class\n",
    "Value.__mul__ = __mul__"
   ]
  },
  {
   "cell_type": "code",
   "execution_count": 9,
   "metadata": {},
   "outputs": [
    {
     "name": "stdout",
     "output_type": "stream",
     "text": [
      "Value(data=4.0)\n",
      "Value(data=4.0)\n"
     ]
    }
   ],
   "source": [
    "a = Value(2.0)\n",
    "b = Value(-3.0)\n",
    "c = Value(10.0)\n",
    "print(a*b + c)\n",
    "print((a.__mul__(b).__add__(c)))"
   ]
  },
  {
   "attachments": {},
   "cell_type": "markdown",
   "metadata": {},
   "source": [
    "So now what we are missing is the connective tissue of this expression. We want to build a computational graph so we need to know and\n",
    "keep pointers about what values produce what other values so here for example we are going to\n",
    "introduce a new variable which we'll call children and by default it will be an empty tuple. Then we will keep a\n",
    "slightly different variable in the class which we'll call underscore prev which will be the set of children."
   ]
  },
  {
   "cell_type": "code",
   "execution_count": 9,
   "metadata": {},
   "outputs": [],
   "source": [
    "class Value :\n",
    "\n",
    "    def __init__(self, data, _children=(), _op=''):\n",
    "        self.data = data\n",
    "        # tuple turned into set for efficiency\n",
    "        self._prev = set(_children)\n",
    "        # by default _op is the empty set for leaf nodes\n",
    "        self._op = _op\n",
    "  \n",
    "    def __repr__(self) -> str:\n",
    "        return f\"Value(data={self.data})\"\n",
    "\n",
    "    def __add__(self, other):\n",
    "        # now we store the children in the new Value object to keep track of them on the computational graph\n",
    "        # the children are the initial Value objects that were used to create the new Value object\n",
    "        summation = Value(self.data + other.data, _children=(self, other), _op=\"+\")\n",
    "        return summation\n",
    "\n",
    "    def __mul__(self, other):\n",
    "        # now we store the children in the new Value object to keep track of them on the computational graph\n",
    "        # the children are the initial Value objects that were used to create the new Value object\n",
    "        mult = Value(self.data * other.data, _children=(self, other), _op=\"*\")\n",
    "        return mult\n"
   ]
  },
  {
   "cell_type": "code",
   "execution_count": 10,
   "metadata": {},
   "outputs": [],
   "source": [
    "a = Value(2.0)\n",
    "b = Value(-3.0)\n",
    "c = Value(10.0)\n",
    "d = a*b\n",
    "e = d + c"
   ]
  },
  {
   "cell_type": "code",
   "execution_count": 14,
   "metadata": {},
   "outputs": [
    {
     "name": "stdout",
     "output_type": "stream",
     "text": [
      "Children : {Value(data=-3.0), Value(data=2.0)} || Operation applied : *\n",
      "Children : {Value(data=-6.0), Value(data=10.0)} || Operation applied : +\n"
     ]
    }
   ],
   "source": [
    "print(f\"Children : {d._prev} || Operation applied : {d._op}\")\n",
    "print(f\"Children : {e._prev} || Operation applied : {e._op}\")"
   ]
  },
  {
   "cell_type": "code",
   "execution_count": 12,
   "metadata": {},
   "outputs": [
    {
     "data": {
      "text/plain": [
       "'*'"
      ]
     },
     "execution_count": 12,
     "metadata": {},
     "output_type": "execute_result"
    }
   ],
   "source": [
    "d._op"
   ]
  },
  {
   "attachments": {},
   "cell_type": "markdown",
   "metadata": {},
   "source": [
    "## Visualizing the code"
   ]
  },
  {
   "cell_type": "code",
   "execution_count": null,
   "metadata": {},
   "outputs": [],
   "source": []
  },
  {
   "cell_type": "code",
   "execution_count": null,
   "metadata": {},
   "outputs": [],
   "source": []
  },
  {
   "cell_type": "code",
   "execution_count": null,
   "metadata": {},
   "outputs": [],
   "source": []
  },
  {
   "cell_type": "code",
   "execution_count": null,
   "metadata": {},
   "outputs": [],
   "source": []
  },
  {
   "cell_type": "code",
   "execution_count": null,
   "metadata": {},
   "outputs": [],
   "source": []
  },
  {
   "cell_type": "code",
   "execution_count": null,
   "metadata": {},
   "outputs": [],
   "source": []
  },
  {
   "cell_type": "code",
   "execution_count": null,
   "metadata": {},
   "outputs": [],
   "source": []
  },
  {
   "cell_type": "code",
   "execution_count": null,
   "metadata": {},
   "outputs": [],
   "source": []
  },
  {
   "cell_type": "code",
   "execution_count": null,
   "metadata": {},
   "outputs": [],
   "source": []
  },
  {
   "attachments": {},
   "cell_type": "markdown",
   "metadata": {},
   "source": [
    "# Section a part."
   ]
  },
  {
   "cell_type": "code",
   "execution_count": null,
   "metadata": {},
   "outputs": [],
   "source": [
    "def g(x): \n",
    "    return a*x + c\n",
    "\n",
    "def plot_function(function, title=None, min=-2.1, max=2.1, color='r', ylim=None):\n",
    "    x = torch.linspace(min,max, 100)[:,None]\n",
    "    if ylim: plt.ylim(ylim)\n",
    "    plt.plot(x, function(x), color)\n",
    "    if title is not None: plt.title(title)"
   ]
  },
  {
   "cell_type": "code",
   "execution_count": null,
   "metadata": {},
   "outputs": [
    {
     "data": {
      "image/png": "[encoded data removed]",
      "text/plain": [
       "<Figure size 432x288 with 1 Axes>"
      ]
     },
     "metadata": {},
     "output_type": "display_data"
    }
   ],
   "source": [
    "plot_function(g, \"$ax + b$\")"
   ]
  },
  {
   "cell_type": "code",
   "execution_count": null,
   "metadata": {},
   "outputs": [],
   "source": [
    "def quadratic(a, b, c, x):\n",
    "    return a*x**2 - b*x + c"
   ]
  },
  {
   "cell_type": "code",
   "execution_count": null,
   "metadata": {},
   "outputs": [],
   "source": [
    "def create_quadratic(a, b, c):\n",
    "    # here we want to fix particular values of a, b, and c. \n",
    "    # To fix values passed to a function in python, we use the `partial` function\n",
    "    # Now the only value that can be passed to this function is x\n",
    "    return partial(quadratic, a, b, c)"
   ]
  },
  {
   "cell_type": "code",
   "execution_count": null,
   "metadata": {},
   "outputs": [],
   "source": [
    "f1 = create_quadratic(a=5, b=1 ,c=1)"
   ]
  },
  {
   "cell_type": "code",
   "execution_count": null,
   "metadata": {},
   "outputs": [
    {
     "data": {
      "text/plain": [
       "1"
      ]
     },
     "execution_count": 52,
     "metadata": {},
     "output_type": "execute_result"
    }
   ],
   "source": [
    "# What is the value of f1, for x = 0, a=5, b=1 and c=1\n",
    "f1(0)"
   ]
  },
  {
   "cell_type": "code",
   "execution_count": null,
   "metadata": {},
   "outputs": [
    {
     "data": {
      "text/plain": [
       "<matplotlib.collections.PathCollection at 0x7fb29feff4f0>"
      ]
     },
     "execution_count": 53,
     "metadata": {},
     "output_type": "execute_result"
    },
    {
     "data": {
      "image/png": "[encoded data removed]",
      "text/plain": [
       "<Figure size 432x288 with 1 Axes>"
      ]
     },
     "metadata": {
      "needs_background": "light"
     },
     "output_type": "display_data"
    }
   ],
   "source": [
    "# create our X\n",
    "np.random.seed(42)\n",
    "\n",
    "x = torch.linspace(-2, 2, steps=20)[:,None]\n",
    "plt.scatter(x,f(x))"
   ]
  },
  {
   "cell_type": "code",
   "execution_count": null,
   "metadata": {},
   "outputs": [],
   "source": [
    "def plot_function(f, title=None, min=-2.1, max=2.1, color='r', ylim=None):\n",
    "    x = torch.linspace(min,max, 100)[:,None]\n",
    "    if ylim: plt.ylim(ylim)\n",
    "    plt.plot(x, f(x), color)\n",
    "    if title is not None: plt.title(title)"
   ]
  },
  {
   "cell_type": "code",
   "execution_count": null,
   "metadata": {},
   "outputs": [
    {
     "data": {
      "application/vnd.jupyter.widget-view+json": {
       "model_id": "866fe90356694db8a78b86b18feb7f6c",
       "version_major": 2,
       "version_minor": 0
      },
      "text/plain": [
       "interactive(children=(IntSlider(value=5, description='a', max=10, min=1), IntSlider(value=0, description='b', …"
      ]
     },
     "metadata": {},
     "output_type": "display_data"
    }
   ],
   "source": [
    "@interact(a=(1, 10), b=(-5, 5), c=(-10, 10))\n",
    "def plot_quadratic(a, b, c):\n",
    "    x = np.arange(-10, 10)\n",
    "    y = [a*i**2 + b*i + c for i in x]\n",
    "    plot_function(create_quadratic(a,b,c), ylim=(-3,13))\n",
    "    plt.show()"
   ]
  },
  {
   "cell_type": "code",
   "execution_count": null,
   "metadata": {},
   "outputs": [],
   "source": []
  },
  {
   "cell_type": "code",
   "execution_count": null,
   "metadata": {},
   "outputs": [],
   "source": []
  },
  {
   "cell_type": "code",
   "execution_count": null,
   "metadata": {},
   "outputs": [],
   "source": []
  },
  {
   "cell_type": "code",
   "execution_count": null,
   "metadata": {},
   "outputs": [],
   "source": []
  },
  {
   "cell_type": "code",
   "execution_count": null,
   "metadata": {},
   "outputs": [],
   "source": []
  },
  {
   "cell_type": "markdown",
   "metadata": {},
   "source": []
  }
 ],
 "metadata": {
  "kernelspec": {
   "display_name": "torch",
   "language": "python",
   "name": "python3"
  },
  "language_info": {
   "codemirror_mode": {
    "name": "ipython",
    "version": 3
   },
   "file_extension": ".py",
   "mimetype": "text/x-python",
   "name": "python",
   "nbconvert_exporter": "python",
   "pygments_lexer": "ipython3",
   "version": "3.9.12"
  },
  "orig_nbformat": 4,
  "vscode": {
   "interpreter": {
    "hash": "fd56026f2b05766b384bda98bf43b7f8069d59423fa5eac20528b5581d6a0883"
   }
  }
 },
 "nbformat": 4,
 "nbformat_minor": 2
}
